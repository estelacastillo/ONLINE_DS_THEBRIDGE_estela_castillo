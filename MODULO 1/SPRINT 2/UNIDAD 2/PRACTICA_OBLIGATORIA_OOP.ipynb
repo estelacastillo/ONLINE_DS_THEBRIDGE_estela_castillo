{
 "cells": [
  {
   "cell_type": "code",
   "execution_count": 40,
   "id": "0bfffd35-a815-40ae-bbb1-05eb05e97439",
   "metadata": {},
   "outputs": [
    {
     "name": "stdout",
     "output_type": "stream",
     "text": [
      "Maria, tu saldo actual es de 600.\n"
     ]
    }
   ],
   "source": [
    "class Usuario:\n",
    "    def __init__(self, nombre, saldo): #la clase usuario tiene los atributos nombre y saldo \n",
    "        self.nombre = nombre\n",
    "        self.saldo = int(saldo) #int, porque devuelve un string por defecto\n",
    "        self.checking_account = False\n",
    "\n",
    "    def withdraw(self, cantidad): #definimos el primer metodo: retirar dinero\n",
    "        if cantidad > self.saldo:\n",
    "            raise ValueError(\"No hay suficiente dinero para retirar.\") #si no hay saldo suficiente para retirar la cantidad de dinero devuelve un error\n",
    "        self.saldo -= cantidad #si lo hay, retira la cantidad de dinero del saldo y devuelve el saldo actual\n",
    "        return f\"{self.nombre}, tu saldo actual es de {self.saldo}.\"\n",
    "\n",
    "    def check(self, otro_usuario, cantidad): #definimos el segundo metodo: chequear\n",
    "        if cantidad > otro_usuario.saldo: #devuelve un error si el otro usuario no tiene suficiente dinero\n",
    "            raise ValueError(\"El otro usuario no tiene suficiente dinero.\")\n",
    "        if not otro_usuario.checking_account:\n",
    "            raise ValueError(\"El otro usuario no  tiene una cuenta corriente.\") #devuelve un error si el otro usuario no tiene una cuenta corriente\n",
    "        #en caso de que si tenga cuenta corriente y suficiente dinero:\n",
    "        self.saldo += cantidad #se añade la cantidad del dinero al saldo del usuario\n",
    "        otro_usuario.saldo -= cantidad #se quita la cantidad de dinero al otro usuario\n",
    "        return f\"{self.nombre}, tu saldo actual es de {self.saldo}. El saldo de {otro_usuario.nombre} es de {otro_usuario.saldo}.\"\n",
    "\n",
    "    def add_cash(self, cantidad): #definimos el tercer metido: añadir dinero\n",
    "        self.saldo += cantidad #se añade la cantidad al saldo\n",
    "        return f\"{self.nombre}, tu saldo actual es de {self.saldo}.\"\n",
    "\n",
    "#Ejemplos\n",
    "\n",
    "Maria = Usuario(\"Maria\", \"800\")\n",
    "Alicia = Usuario(\"Alicia\", \"2000\")\n",
    "\n",
    "resultado = Maria.withdraw(200) # Hay dinero suficiente por lo que retira 200\n",
    "print(resultado)\n"
   ]
  },
  {
   "cell_type": "code",
   "execution_count": 41,
   "id": "33238d33-66e1-4e25-9dcf-41b6f4864c18",
   "metadata": {},
   "outputs": [
    {
     "ename": "ValueError",
     "evalue": "El otro usuario no  tiene una cuenta corriente.",
     "output_type": "error",
     "traceback": [
      "\u001b[1;31m---------------------------------------------------------------------------\u001b[0m",
      "\u001b[1;31mValueError\u001b[0m                                Traceback (most recent call last)",
      "Cell \u001b[1;32mIn[41], line 1\u001b[0m\n\u001b[1;32m----> 1\u001b[0m resultado \u001b[38;5;241m=\u001b[39m \u001b[43mAlicia\u001b[49m\u001b[38;5;241;43m.\u001b[39;49m\u001b[43mcheck\u001b[49m\u001b[43m(\u001b[49m\u001b[43mMaria\u001b[49m\u001b[43m,\u001b[49m\u001b[43m \u001b[49m\u001b[38;5;241;43m50\u001b[39;49m\u001b[43m)\u001b[49m \u001b[38;5;66;03m#devuelve un error por que Alicia no tiene una cuenta de cheques\u001b[39;00m\n\u001b[0;32m      2\u001b[0m \u001b[38;5;28mprint\u001b[39m(resultado)\n",
      "Cell \u001b[1;32mIn[40], line 17\u001b[0m, in \u001b[0;36mUsuario.check\u001b[1;34m(self, otro_usuario, cantidad)\u001b[0m\n\u001b[0;32m     15\u001b[0m     \u001b[38;5;28;01mraise\u001b[39;00m \u001b[38;5;167;01mValueError\u001b[39;00m(\u001b[38;5;124m\"\u001b[39m\u001b[38;5;124mEl otro usuario no tiene suficiente dinero.\u001b[39m\u001b[38;5;124m\"\u001b[39m)\n\u001b[0;32m     16\u001b[0m \u001b[38;5;28;01mif\u001b[39;00m \u001b[38;5;129;01mnot\u001b[39;00m otro_usuario\u001b[38;5;241m.\u001b[39mchecking_account:\n\u001b[1;32m---> 17\u001b[0m     \u001b[38;5;28;01mraise\u001b[39;00m \u001b[38;5;167;01mValueError\u001b[39;00m(\u001b[38;5;124m\"\u001b[39m\u001b[38;5;124mEl otro usuario no  tiene una cuenta corriente.\u001b[39m\u001b[38;5;124m\"\u001b[39m) \u001b[38;5;66;03m#devuelve un error si el otro usuario no tiene una cuenta corriente\u001b[39;00m\n\u001b[0;32m     18\u001b[0m \u001b[38;5;66;03m#en caso de que si tenga cuenta corriente y suficiente dinero:\u001b[39;00m\n\u001b[0;32m     19\u001b[0m \u001b[38;5;28mself\u001b[39m\u001b[38;5;241m.\u001b[39msaldo \u001b[38;5;241m+\u001b[39m\u001b[38;5;241m=\u001b[39m cantidad \u001b[38;5;66;03m#se añade la cantidad del dinero al saldo del usuario\u001b[39;00m\n",
      "\u001b[1;31mValueError\u001b[0m: El otro usuario no  tiene una cuenta corriente."
     ]
    }
   ],
   "source": [
    "resultado = Alicia.check(Maria, 50) #devuelve un ValueError por que Alicia no tiene una cuenta de cheques\n",
    "print(resultado)"
   ]
  },
  {
   "cell_type": "code",
   "execution_count": 42,
   "id": "b35090a5-6d93-4711-9a0e-d376ff1f7cd2",
   "metadata": {},
   "outputs": [
    {
     "ename": "ValueError",
     "evalue": "El otro usuario no  tiene una cuenta corriente.",
     "output_type": "error",
     "traceback": [
      "\u001b[1;31m---------------------------------------------------------------------------\u001b[0m",
      "\u001b[1;31mValueError\u001b[0m                                Traceback (most recent call last)",
      "Cell \u001b[1;32mIn[42], line 1\u001b[0m\n\u001b[1;32m----> 1\u001b[0m resultado \u001b[38;5;241m=\u001b[39m \u001b[43mMaria\u001b[49m\u001b[38;5;241;43m.\u001b[39;49m\u001b[43mcheck\u001b[49m\u001b[43m(\u001b[49m\u001b[43mAlicia\u001b[49m\u001b[43m,\u001b[49m\u001b[43m \u001b[49m\u001b[38;5;241;43m80\u001b[39;49m\u001b[43m)\u001b[49m \u001b[38;5;66;03m# devuelve un error porque Maria no tiene una cuenta de cheques\u001b[39;00m\n\u001b[0;32m      2\u001b[0m \u001b[38;5;28mprint\u001b[39m(resultado)\n",
      "Cell \u001b[1;32mIn[40], line 17\u001b[0m, in \u001b[0;36mUsuario.check\u001b[1;34m(self, otro_usuario, cantidad)\u001b[0m\n\u001b[0;32m     15\u001b[0m     \u001b[38;5;28;01mraise\u001b[39;00m \u001b[38;5;167;01mValueError\u001b[39;00m(\u001b[38;5;124m\"\u001b[39m\u001b[38;5;124mEl otro usuario no tiene suficiente dinero.\u001b[39m\u001b[38;5;124m\"\u001b[39m)\n\u001b[0;32m     16\u001b[0m \u001b[38;5;28;01mif\u001b[39;00m \u001b[38;5;129;01mnot\u001b[39;00m otro_usuario\u001b[38;5;241m.\u001b[39mchecking_account:\n\u001b[1;32m---> 17\u001b[0m     \u001b[38;5;28;01mraise\u001b[39;00m \u001b[38;5;167;01mValueError\u001b[39;00m(\u001b[38;5;124m\"\u001b[39m\u001b[38;5;124mEl otro usuario no  tiene una cuenta corriente.\u001b[39m\u001b[38;5;124m\"\u001b[39m) \u001b[38;5;66;03m#devuelve un error si el otro usuario no tiene una cuenta corriente\u001b[39;00m\n\u001b[0;32m     18\u001b[0m \u001b[38;5;66;03m#en caso de que si tenga cuenta corriente y suficiente dinero:\u001b[39;00m\n\u001b[0;32m     19\u001b[0m \u001b[38;5;28mself\u001b[39m\u001b[38;5;241m.\u001b[39msaldo \u001b[38;5;241m+\u001b[39m\u001b[38;5;241m=\u001b[39m cantidad \u001b[38;5;66;03m#se añade la cantidad del dinero al saldo del usuario\u001b[39;00m\n",
      "\u001b[1;31mValueError\u001b[0m: El otro usuario no  tiene una cuenta corriente."
     ]
    }
   ],
   "source": [
    "resultado = Maria.check(Alicia, 80) # devuelve un ValueError porque Maria no tiene una cuenta de cheques\n",
    "print(resultado)"
   ]
  },
  {
   "cell_type": "code",
   "execution_count": 46,
   "id": "b38a7d7a-47a1-4649-b38f-9768667073bd",
   "metadata": {},
   "outputs": [
    {
     "name": "stdout",
     "output_type": "stream",
     "text": [
      "True\n",
      "True\n"
     ]
    }
   ],
   "source": [
    "resultado = Alicia.checking_account = True #Habilita la cuenta corriente para Alicia\n",
    "print(resultado)\n",
    "resultado = Maria.checking_account = True #Habilita la cuenta corriente para Maria\n",
    "print(resultado)"
   ]
  },
  {
   "cell_type": "code",
   "execution_count": 47,
   "id": "7b7083ae-6610-49e3-8d4c-eb94766f9198",
   "metadata": {},
   "outputs": [
    {
     "name": "stdout",
     "output_type": "stream",
     "text": [
      "Alicia, tu saldo actual es de 2080. El saldo de Maria es de 520.\n"
     ]
    }
   ],
   "source": [
    "resultado = Alicia.check(Maria, 80) #Maria le da a Alicia 80\n",
    "print(resultado)"
   ]
  },
  {
   "cell_type": "code",
   "execution_count": 49,
   "id": "c308eb6b-aad0-4c69-be0b-6343ec4a2cde",
   "metadata": {},
   "outputs": [
    {
     "name": "stdout",
     "output_type": "stream",
     "text": [
      "Maria, tu saldo actual es de 520. El saldo de Alicia es de 2080.\n"
     ]
    }
   ],
   "source": [
    "resultado = Maria.check(Alicia, 100) #Alicia le da a Maria 100\n",
    "print(resultado)"
   ]
  },
  {
   "cell_type": "code",
   "execution_count": 51,
   "id": "d79de0fb-182a-46b0-be1f-73a86ada4640",
   "metadata": {},
   "outputs": [
    {
     "name": "stdout",
     "output_type": "stream",
     "text": [
      "Maria, tu saldo actual es de 740.0.\n"
     ]
    }
   ],
   "source": [
    "resultado = Maria.add_cash(200.00)  #Maria añade a su cuenta 200.00\n",
    "print(resultado)"
   ]
  },
  {
   "cell_type": "code",
   "execution_count": 52,
   "id": "7230ad14-d29c-4dd9-a718-90f4449687b1",
   "metadata": {},
   "outputs": [
    {
     "name": "stdout",
     "output_type": "stream",
     "text": [
      "Alicia, tu saldo actual es de 2030.\n"
     ]
    }
   ],
   "source": [
    "resultado = Alicia.withdraw(50) #Alicia retira de la cuenta 50\n",
    "print(resultado)"
   ]
  },
  {
   "cell_type": "code",
   "execution_count": 53,
   "id": "9ba7742b-c8ca-4810-b8a5-1faf26bd7434",
   "metadata": {},
   "outputs": [
    {
     "ename": "ValueError",
     "evalue": "El otro usuario no tiene suficiente dinero.",
     "output_type": "error",
     "traceback": [
      "\u001b[1;31m---------------------------------------------------------------------------\u001b[0m",
      "\u001b[1;31mValueError\u001b[0m                                Traceback (most recent call last)",
      "Cell \u001b[1;32mIn[53], line 1\u001b[0m\n\u001b[1;32m----> 1\u001b[0m resultado \u001b[38;5;241m=\u001b[39m \u001b[43mAlicia\u001b[49m\u001b[38;5;241;43m.\u001b[39;49m\u001b[43mcheck\u001b[49m\u001b[43m(\u001b[49m\u001b[43mMaria\u001b[49m\u001b[43m,\u001b[49m\u001b[43m \u001b[49m\u001b[38;5;241;43m5000\u001b[39;49m\u001b[43m)\u001b[49m\n\u001b[0;32m      2\u001b[0m \u001b[38;5;28mprint\u001b[39m(resultado)\n",
      "Cell \u001b[1;32mIn[40], line 15\u001b[0m, in \u001b[0;36mUsuario.check\u001b[1;34m(self, otro_usuario, cantidad)\u001b[0m\n\u001b[0;32m     13\u001b[0m \u001b[38;5;28;01mdef\u001b[39;00m \u001b[38;5;21mcheck\u001b[39m(\u001b[38;5;28mself\u001b[39m, otro_usuario, cantidad): \u001b[38;5;66;03m#definimos el segundo metodo: chequear\u001b[39;00m\n\u001b[0;32m     14\u001b[0m     \u001b[38;5;28;01mif\u001b[39;00m cantidad \u001b[38;5;241m>\u001b[39m otro_usuario\u001b[38;5;241m.\u001b[39msaldo: \u001b[38;5;66;03m#devuelve un error si el otro usuario no tiene suficiente dinero\u001b[39;00m\n\u001b[1;32m---> 15\u001b[0m         \u001b[38;5;28;01mraise\u001b[39;00m \u001b[38;5;167;01mValueError\u001b[39;00m(\u001b[38;5;124m\"\u001b[39m\u001b[38;5;124mEl otro usuario no tiene suficiente dinero.\u001b[39m\u001b[38;5;124m\"\u001b[39m)\n\u001b[0;32m     16\u001b[0m     \u001b[38;5;28;01mif\u001b[39;00m \u001b[38;5;129;01mnot\u001b[39;00m otro_usuario\u001b[38;5;241m.\u001b[39mchecking_account:\n\u001b[0;32m     17\u001b[0m         \u001b[38;5;28;01mraise\u001b[39;00m \u001b[38;5;167;01mValueError\u001b[39;00m(\u001b[38;5;124m\"\u001b[39m\u001b[38;5;124mEl otro usuario no  tiene una cuenta corriente.\u001b[39m\u001b[38;5;124m\"\u001b[39m) \u001b[38;5;66;03m#devuelve un error si el otro usuario no tiene una cuenta corriente\u001b[39;00m\n",
      "\u001b[1;31mValueError\u001b[0m: El otro usuario no tiene suficiente dinero."
     ]
    }
   ],
   "source": [
    "resultado = Alicia.check(Maria, 5000) #Devuelve un ValueError porque Maria no tiene suficiente dinero\n",
    "print(resultado)"
   ]
  },
  {
   "cell_type": "code",
   "execution_count": 54,
   "id": "e13cc7a5-4a29-41d3-bc72-0ffbb26b7a7d",
   "metadata": {},
   "outputs": [
    {
     "ename": "ValueError",
     "evalue": "El otro usuario no tiene suficiente dinero.",
     "output_type": "error",
     "traceback": [
      "\u001b[1;31m---------------------------------------------------------------------------\u001b[0m",
      "\u001b[1;31mValueError\u001b[0m                                Traceback (most recent call last)",
      "Cell \u001b[1;32mIn[54], line 1\u001b[0m\n\u001b[1;32m----> 1\u001b[0m resultado \u001b[38;5;241m=\u001b[39m \u001b[43mMaria\u001b[49m\u001b[38;5;241;43m.\u001b[39;49m\u001b[43mcheck\u001b[49m\u001b[43m(\u001b[49m\u001b[43mAlicia\u001b[49m\u001b[43m,\u001b[49m\u001b[43m \u001b[49m\u001b[38;5;241;43m48903\u001b[39;49m\u001b[43m)\u001b[49m\n\u001b[0;32m      2\u001b[0m \u001b[38;5;28mprint\u001b[39m(resultado)\n",
      "Cell \u001b[1;32mIn[40], line 15\u001b[0m, in \u001b[0;36mUsuario.check\u001b[1;34m(self, otro_usuario, cantidad)\u001b[0m\n\u001b[0;32m     13\u001b[0m \u001b[38;5;28;01mdef\u001b[39;00m \u001b[38;5;21mcheck\u001b[39m(\u001b[38;5;28mself\u001b[39m, otro_usuario, cantidad): \u001b[38;5;66;03m#definimos el segundo metodo: chequear\u001b[39;00m\n\u001b[0;32m     14\u001b[0m     \u001b[38;5;28;01mif\u001b[39;00m cantidad \u001b[38;5;241m>\u001b[39m otro_usuario\u001b[38;5;241m.\u001b[39msaldo: \u001b[38;5;66;03m#devuelve un error si el otro usuario no tiene suficiente dinero\u001b[39;00m\n\u001b[1;32m---> 15\u001b[0m         \u001b[38;5;28;01mraise\u001b[39;00m \u001b[38;5;167;01mValueError\u001b[39;00m(\u001b[38;5;124m\"\u001b[39m\u001b[38;5;124mEl otro usuario no tiene suficiente dinero.\u001b[39m\u001b[38;5;124m\"\u001b[39m)\n\u001b[0;32m     16\u001b[0m     \u001b[38;5;28;01mif\u001b[39;00m \u001b[38;5;129;01mnot\u001b[39;00m otro_usuario\u001b[38;5;241m.\u001b[39mchecking_account:\n\u001b[0;32m     17\u001b[0m         \u001b[38;5;28;01mraise\u001b[39;00m \u001b[38;5;167;01mValueError\u001b[39;00m(\u001b[38;5;124m\"\u001b[39m\u001b[38;5;124mEl otro usuario no  tiene una cuenta corriente.\u001b[39m\u001b[38;5;124m\"\u001b[39m) \u001b[38;5;66;03m#devuelve un error si el otro usuario no tiene una cuenta corriente\u001b[39;00m\n",
      "\u001b[1;31mValueError\u001b[0m: El otro usuario no tiene suficiente dinero."
     ]
    }
   ],
   "source": [
    "resultado = Maria.check(Alicia, 48903) #devuelve un ValueError porque Alicia no tiene suficiente dinero\n",
    "print(resultado)"
   ]
  },
  {
   "cell_type": "code",
   "execution_count": 55,
   "id": "3c2aa2a2-02b9-44b5-bc8c-b4ecd032f1fb",
   "metadata": {},
   "outputs": [
    {
     "ename": "ValueError",
     "evalue": "No hay suficiente dinero para retirar.",
     "output_type": "error",
     "traceback": [
      "\u001b[1;31m---------------------------------------------------------------------------\u001b[0m",
      "\u001b[1;31mValueError\u001b[0m                                Traceback (most recent call last)",
      "Cell \u001b[1;32mIn[55], line 1\u001b[0m\n\u001b[1;32m----> 1\u001b[0m resultado \u001b[38;5;241m=\u001b[39m \u001b[43mMaria\u001b[49m\u001b[38;5;241;43m.\u001b[39;49m\u001b[43mwithdraw\u001b[49m\u001b[43m(\u001b[49m\u001b[38;5;241;43m3287462\u001b[39;49m\u001b[43m)\u001b[49m\n\u001b[0;32m      2\u001b[0m \u001b[38;5;28mprint\u001b[39m(resultado)\n",
      "Cell \u001b[1;32mIn[40], line 9\u001b[0m, in \u001b[0;36mUsuario.withdraw\u001b[1;34m(self, cantidad)\u001b[0m\n\u001b[0;32m      7\u001b[0m \u001b[38;5;28;01mdef\u001b[39;00m \u001b[38;5;21mwithdraw\u001b[39m(\u001b[38;5;28mself\u001b[39m, cantidad): \u001b[38;5;66;03m#definimos el primer metodo: retirar dinero\u001b[39;00m\n\u001b[0;32m      8\u001b[0m     \u001b[38;5;28;01mif\u001b[39;00m cantidad \u001b[38;5;241m>\u001b[39m \u001b[38;5;28mself\u001b[39m\u001b[38;5;241m.\u001b[39msaldo:\n\u001b[1;32m----> 9\u001b[0m         \u001b[38;5;28;01mraise\u001b[39;00m \u001b[38;5;167;01mValueError\u001b[39;00m(\u001b[38;5;124m\"\u001b[39m\u001b[38;5;124mNo hay suficiente dinero para retirar.\u001b[39m\u001b[38;5;124m\"\u001b[39m) \u001b[38;5;66;03m#si no hay saldo suficiente para retirar la cantidad de dinero devuelve un error\u001b[39;00m\n\u001b[0;32m     10\u001b[0m     \u001b[38;5;28mself\u001b[39m\u001b[38;5;241m.\u001b[39msaldo \u001b[38;5;241m-\u001b[39m\u001b[38;5;241m=\u001b[39m cantidad \u001b[38;5;66;03m#si lo hay, retira la cantidad de dinero del saldo y devuelve el saldo actual\u001b[39;00m\n\u001b[0;32m     11\u001b[0m     \u001b[38;5;28;01mreturn\u001b[39;00m \u001b[38;5;124mf\u001b[39m\u001b[38;5;124m\"\u001b[39m\u001b[38;5;132;01m{\u001b[39;00m\u001b[38;5;28mself\u001b[39m\u001b[38;5;241m.\u001b[39mnombre\u001b[38;5;132;01m}\u001b[39;00m\u001b[38;5;124m, tu saldo actual es de \u001b[39m\u001b[38;5;132;01m{\u001b[39;00m\u001b[38;5;28mself\u001b[39m\u001b[38;5;241m.\u001b[39msaldo\u001b[38;5;132;01m}\u001b[39;00m\u001b[38;5;124m.\u001b[39m\u001b[38;5;124m\"\u001b[39m\n",
      "\u001b[1;31mValueError\u001b[0m: No hay suficiente dinero para retirar."
     ]
    }
   ],
   "source": [
    "resultado = Maria.withdraw(3287462) #devuelve un ValueError porque no hay suficiente dinero para retirar\n",
    "print(resultado)"
   ]
  },
  {
   "cell_type": "code",
   "execution_count": 56,
   "id": "d68c6053-7926-4e24-b1cf-4e9ec3affe1b",
   "metadata": {},
   "outputs": [
    {
     "name": "stdout",
     "output_type": "stream",
     "text": [
      "Alicia, tu saldo actual es de 280294.\n"
     ]
    }
   ],
   "source": [
    "resultado = Alicia.add_cash(278264) #añade dinero a la cuenta de Alicia\n",
    "print(resultado)"
   ]
  },
  {
   "cell_type": "code",
   "execution_count": 58,
   "id": "f451b934-bc01-4bac-8c15-900a215ecdb7",
   "metadata": {},
   "outputs": [
    {
     "name": "stdout",
     "output_type": "stream",
     "text": [
      "Alicia, tu saldo actual es de 280572.264.\n"
     ]
    }
   ],
   "source": [
    "resultado = Alicia.add_cash(278.264) #añade dinero a la cuenta de Alicia\n",
    "print(resultado)"
   ]
  },
  {
   "cell_type": "code",
   "execution_count": null,
   "id": "6870077b-9732-428b-8a67-fcc833a95d50",
   "metadata": {},
   "outputs": [],
   "source": []
  }
 ],
 "metadata": {
  "kernelspec": {
   "display_name": "Python 3 (ipykernel)",
   "language": "python",
   "name": "python3"
  },
  "language_info": {
   "codemirror_mode": {
    "name": "ipython",
    "version": 3
   },
   "file_extension": ".py",
   "mimetype": "text/x-python",
   "name": "python",
   "nbconvert_exporter": "python",
   "pygments_lexer": "ipython3",
   "version": "3.11.5"
  }
 },
 "nbformat": 4,
 "nbformat_minor": 5
}
