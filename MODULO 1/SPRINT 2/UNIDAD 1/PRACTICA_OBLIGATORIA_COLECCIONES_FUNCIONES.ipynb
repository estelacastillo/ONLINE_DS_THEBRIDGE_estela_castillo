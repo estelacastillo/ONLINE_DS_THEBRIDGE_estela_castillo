{
 "cells": [
  {
   "cell_type": "markdown",
   "id": "48e8f390-6dab-4b96-af5d-9143da8cfc07",
   "metadata": {},
   "source": [
    "**EJERCICIO 1**"
   ]
  },
  {
   "cell_type": "code",
   "execution_count": 4,
   "id": "aa33bc29-ead2-40c0-acca-53f9922f9dfa",
   "metadata": {},
   "outputs": [
    {
     "name": "stdout",
     "output_type": "stream",
     "text": [
      "[1, 4, 9, 16, 25]\n"
     ]
    }
   ],
   "source": [
    "lista = [1,2,3,4,5]\n",
    "lista_cuadrada = [i ** 2 for i in lista]\n",
    "print(lista_cuadrada)\r\n"
   ]
  },
  {
   "cell_type": "markdown",
   "id": "872e48fa-9d5f-47bf-8886-da6eacdd7ed1",
   "metadata": {},
   "source": [
    "**EJERCICIO 2**"
   ]
  },
  {
   "cell_type": "code",
   "execution_count": 20,
   "id": "86e73804-4a73-4458-a59c-2c80a02e14a0",
   "metadata": {},
   "outputs": [
    {
     "name": "stdout",
     "output_type": "stream",
     "text": [
      "[2, 3, 13, 15]\n"
     ]
    }
   ],
   "source": [
    "lista = [\"Un\", \"árbol\", \"binario\", \"es\", \"una\", \"estructura\", \"de\", \"un\", \"tipo\", \"particular\", \"a\", \"veces\", \"no\", \"es\", \"ni\", \"binario\"]\n",
    "for k in range(15):\n",
    "   duplicado=[i for i,x in enumerate(lista) if lista.count(x)>1]\n",
    "print(duplicado)\n"
   ]
  },
  {
   "cell_type": "markdown",
   "id": "f1db459a-9cbe-41f9-8580-3b6135ed14cb",
   "metadata": {},
   "source": [
    "**EJERCICIO 3**"
   ]
  },
  {
   "cell_type": "code",
   "execution_count": 27,
   "id": "4f65fdcb-c535-4211-b22c-04a804c39153",
   "metadata": {},
   "outputs": [
    {
     "name": "stdout",
     "output_type": "stream",
     "text": [
      "7\n",
      "(3, 29, 45, 67, 78, 90)\n",
      "26\n",
      "6\n"
     ]
    }
   ],
   "source": [
    "tupla = (3, 20, 3, 47, 19, 3, 29, 45, 67, 78, 90, 3, 3, 5, 2, 4, 7, 9, 4, 2, 4, 3, 3, 4, 6, 7)\n",
    "x = tupla.count(3) ##calcula el numero de veces que se repite el numero 3\n",
    "print(x)\n",
    "tupla_2 = tupla [5:11] #nueva tupla con los elementos de la tupla anterior desde la posicion 5 a la 10\n",
    "print(tupla_2)\n",
    "numero_total_elementos = len(tupla) ##numero de elementos de la primera tupla\n",
    "print(numero_total_elementos)\n",
    "numero_total_elementos_2 = len(tupla_2) ##numero de elementos de la segunda tupla\n",
    "print(numero_total_elementos_2)\n"
   ]
  },
  {
   "cell_type": "markdown",
   "id": "d0b9b7d8-a512-46fc-97cd-da8bae08b6bb",
   "metadata": {},
   "source": [
    "**EJERCICIO 4**"
   ]
  },
  {
   "cell_type": "code",
   "execution_count": 32,
   "id": "3f2b7102-5231-46a9-966e-f19001139bab",
   "metadata": {},
   "outputs": [
    {
     "name": "stdout",
     "output_type": "stream",
     "text": [
      "False\n"
     ]
    }
   ],
   "source": [
    "tupla = (3, 20, 3, 47, 19, 3, 29, 45, 67, 78, 90, 3, 3, 5, 2, 4, 7, 9, 4, 2, 4, 3, 3, 4, 6, 7)\n",
    "\n",
    "existe = 60 in tupla #averigua si el elemento 60 esta en la tupla\n",
    "print(existe)\n"
   ]
  },
  {
   "cell_type": "markdown",
   "id": "4cab4acc-e76d-4989-835e-efb283d42c4e",
   "metadata": {},
   "source": [
    "**EJERCICIO 5**"
   ]
  },
  {
   "cell_type": "code",
   "execution_count": 46,
   "id": "c8b1cf7c-43c2-4261-82a0-0124a91951ab",
   "metadata": {},
   "outputs": [
    {
     "name": "stdout",
     "output_type": "stream",
     "text": [
      "[3, 20, 3, 47, 19, 3, 29, 45, 67, 78, 90, 3, 3, 5, 2, 4, 7, 9, 4, 2, 4, 3, 3, 4, 6, 7]\n"
     ]
    }
   ],
   "source": [
    "tupla = (3, 20, 3, 47, 19, 3, 29, 45, 67, 78, 90, 3, 3, 5, 2, 4, 7, 9, 4, 2, 4, 3, 3, 4, 6, 7)\n",
    "lista = list(tupla) #convierte una tupla en lista\n",
    "print(lista)\n"
   ]
  },
  {
   "cell_type": "markdown",
   "id": "a9d2e658-9883-4aae-adb6-a30a7253fe9d",
   "metadata": {},
   "source": [
    "**EJERCICIO 6**"
   ]
  },
  {
   "cell_type": "code",
   "execution_count": 53,
   "id": "b0926215-f2f3-4ad3-ae78-1952a6581839",
   "metadata": {},
   "outputs": [
    {
     "name": "stdout",
     "output_type": "stream",
     "text": [
      "[11, 22, 33, 44, 55]\n",
      "[1, 2, 3, 4, 5]\n",
      "[11, 44, 99, 176, 275]\n"
     ]
    }
   ],
   "source": [
    "ejer_6 = {1: 11, 2: 22, 3: 33, 4: 44, 5: 55}\n",
    "values_list = list(ejer_6.values()) #crear lista con los valores del diccionario\n",
    "print(values_list)\n",
    "keys_list = list(ejer_6.keys()) #crear lista con las claves del diccionario\n",
    "print(keys_list)\n",
    "product_list = []\n",
    "for x, y in zip(values_list, keys_list): #producto de las claves y los valores\n",
    "    product_list.append(x * y)\n",
    "\n",
    "print(product_list)"
   ]
  },
  {
   "cell_type": "markdown",
   "id": "c90e4d46-ac17-40fe-a0e4-1ca111275cb0",
   "metadata": {},
   "source": [
    "**EJERCICIO 7**"
   ]
  },
  {
   "cell_type": "code",
   "execution_count": 55,
   "id": "44ec94a8-6b1d-4c23-9a89-ce77f00bb3f9",
   "metadata": {},
   "outputs": [
    {
     "name": "stdout",
     "output_type": "stream",
     "text": [
      "{'titulo': 'Harry Potter y la piedra filosofal', 'autor': 'J.K.Rowling', 'idioma original': 'Ingles', 'año de publicación': '1997'}\n",
      "['Harry Potter y la piedra filosofal', 'Harry Potter y la camara secreta', 'Harry Potter y el  caliz de fuego', 'Harry Potter y la orden del fenix']\n"
     ]
    }
   ],
   "source": [
    "libro = {             #crear diccionario libro\n",
    "    \"titulo\" : \"Harry Potter y la piedra filosofal\",\n",
    "    \"autor\" : \"J.K.Rowling\" ,\n",
    "    \"idioma original\" : \"Ingles\" ,\n",
    "    \"año de publicación\" : \"1997\"\n",
    "}\n",
    "libreria = [\"Harry Potter y la piedra filosofal\", \"Harry Potter y la camara secreta\", \"Harry Potter y el  caliz de fuego\", \"Harry Potter y la orden del fenix\"]\n",
    "print(libro)\n",
    "print(libreria)"
   ]
  },
  {
   "cell_type": "markdown",
   "id": "61b57eba-ea35-44d0-9e17-48441e06043b",
   "metadata": {},
   "source": [
    "**EJERCICIO 8**"
   ]
  },
  {
   "cell_type": "code",
   "execution_count": 56,
   "id": "f5677ffb-a18b-4c00-9b9c-512eea07162b",
   "metadata": {},
   "outputs": [
    {
     "name": "stdout",
     "output_type": "stream",
     "text": [
      "{'titulo': 'Harry Potter y la piedra filosofal', 'autor': 'J.K.Rowling', 'idioma original': 'esperanto', 'año de publicación': '1997'}\n"
     ]
    }
   ],
   "source": [
    "libro = {             #crear diccionario libro\n",
    "    \"titulo\" : \"Harry Potter y la piedra filosofal\",\n",
    "    \"autor\" : \"J.K.Rowling\" ,\n",
    "    \"idioma original\" : \"Ingles\" ,\n",
    "    \"año de publicación\" : \"1997\"\n",
    "}\n",
    "\n",
    "libro['idioma original'] = \"esperanto\"\n",
    "\n",
    "print(libro)"
   ]
  },
  {
   "cell_type": "markdown",
   "id": "fd7307a1-99b6-4c85-8445-3c527b5a32d0",
   "metadata": {},
   "source": [
    "**EJERCICIO 9**"
   ]
  },
  {
   "cell_type": "code",
   "execution_count": null,
   "id": "3d36f573-9f2c-490c-bf53-4681163915f3",
   "metadata": {},
   "outputs": [],
   "source": [
    "libreria = [\"Harry Potter y la piedra filosofal\", \"Harry Potter y la camara secreta\", \"Harry Potter y el caliz de fuego\", \"Harry Potter y la orden del fenix\"]\n",
    "def libreria (**libro_titulo):\n",
    "    libreria (libro_1 = \"Harry Potter y la piedra filosofal\", libro_2 = \"Harry Potter y la camara secreta\", libro_3 = \"Harry Potter y el caliz de fuego\", libro_4 = \"Harry Potter y la orden del fenix\")\n",
    "buscar_libro = []\n",
    "if buscar_libro = \"libro_1\":\n",
    "   elif buscar_libro = \"libro_2\":\n",
    "   elif buscar_libro = \"libro_3\":\n",
    "   elif buscar_libro = \"libro_4\":\n",
    "    print(\"Tenemos el libro\")\n",
    "else:\n",
    "    print(\"No tenemos el libro\")"
   ]
  },
  {
   "cell_type": "markdown",
   "id": "c1252727-a84c-4c66-8d24-10a4204cf211",
   "metadata": {},
   "source": [
    "**EJERCICIO 10**"
   ]
  },
  {
   "cell_type": "code",
   "execution_count": 76,
   "id": "f27b2a34-4c32-49e2-8c37-f28f2e230006",
   "metadata": {},
   "outputs": [],
   "source": [
    "lista = [\"Un\", \"árbol\", \"binario\", \"es\", \"una\", \"estructura\", \"de\", \"un\", \"tipo\", \"particular\", \"a\", \"veces\", \"no\", \"es\", \"ni\", \"binario\"]\n",
    "def buscar_valor(valor, lista): ##crear funcion para buscar un valor en la lista\n",
    "    for elemento in lista:\n",
    "        if elemento == valor: ##compara cada elemeneto con el valor buscado, y si coincide devuelve True\n",
    "            return True\n",
    "    return False\n"
   ]
  },
  {
   "cell_type": "markdown",
   "id": "da336e42-410c-4e27-af6a-7cccfac94d3a",
   "metadata": {},
   "source": [
    "**EJERCICIO 11**"
   ]
  },
  {
   "cell_type": "code",
   "execution_count": null,
   "id": "d6505007-9a64-400d-a741-a53425dcca9d",
   "metadata": {},
   "outputs": [],
   "source": [
    "def funcion (**libreria_titulo):\n",
    "    print(libreria_titulo)"
   ]
  },
  {
   "cell_type": "markdown",
   "id": "1c906176-ba34-4457-b65f-10e0978604bd",
   "metadata": {},
   "source": [
    "**EJERCICIO 12**"
   ]
  },
  {
   "cell_type": "code",
   "execution_count": null,
   "id": "c186773f-390a-4b3a-9bfc-5bf8577f1a6f",
   "metadata": {},
   "outputs": [],
   "source": [
    "from chatterbot import ChatBot\n",
    "from chatterbot.trainers import ChatterBotTrainer\n",
    "\n",
    "def chatbot():\n",
    "    bot = ChatBot(\"MiChatBot\")\n",
    "    trainer = ChatterBotTrainer(bot)\n",
    "    trainer.train(\"chatterbot\")\n",
    "    while True:\n",
    "        try:\n",
    "            user_input = input(\"Ingresa tu dirección email\")\n",
    "            response = bot.get_response(user_input)\n",
    "\n",
    "            print(\" Mi direccion email es\", response)\n",
    "\n",
    "        except ():\n",
    "            break\n",
    "            "
   ]
  },
  {
   "cell_type": "markdown",
   "id": "7c064b84-1fdc-4be1-a464-76da41261de3",
   "metadata": {},
   "source": [
    "**EJERCICIO 13**"
   ]
  },
  {
   "cell_type": "code",
   "execution_count": null,
   "id": "1cb2bf1e-840e-4a80-b338-1e1c4efa972d",
   "metadata": {},
   "outputs": [],
   "source": [
    "def validar_dni(dni):\n",
    "    tabla = \"TRWAGMYFPDXBNJZSQVHLCKE\"\n",
    "    if len(dni) != 9: #comprueba que tenga nueve caracteres\n",
    "        return False\n",
    "    letra = dni[-1] #comprueba que el ultimo caracter sea una letra\n",
    "    numeros = dni[:-1] #comprueba que los primeros ocho caracteres sean numeros\n",
    "    if not numeros.isdigit():\n",
    "        return False\n",
    "    return tabla[int(numeros) % 23] == letra.upper()"
   ]
  },
  {
   "cell_type": "code",
   "execution_count": null,
   "id": "71023876-c336-4f1f-bde4-d576765e4fac",
   "metadata": {},
   "outputs": [],
   "source": []
  }
 ],
 "metadata": {
  "kernelspec": {
   "display_name": "Python 3 (ipykernel)",
   "language": "python",
   "name": "python3"
  },
  "language_info": {
   "codemirror_mode": {
    "name": "ipython",
    "version": 3
   },
   "file_extension": ".py",
   "mimetype": "text/x-python",
   "name": "python",
   "nbconvert_exporter": "python",
   "pygments_lexer": "ipython3",
   "version": "3.11.5"
  }
 },
 "nbformat": 4,
 "nbformat_minor": 5
}
