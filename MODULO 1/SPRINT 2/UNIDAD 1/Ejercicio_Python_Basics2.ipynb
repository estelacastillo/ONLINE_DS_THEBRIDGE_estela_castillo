{
 "cells": [
  {
   "cell_type": "markdown",
   "id": "d8e104ba-3553-4d61-9984-8767abf90238",
   "metadata": {},
   "source": [
    "**EJERCICIO 1**"
   ]
  },
  {
   "cell_type": "code",
   "execution_count": 3,
   "id": "7267aaa4-203a-4669-97c6-11037a9212fe",
   "metadata": {},
   "outputs": [
    {
     "name": "stdout",
     "output_type": "stream",
     "text": [
      "Alicia\n",
      "Sofia\n",
      "Maria\n",
      "['Alicia', 'Maria', 'Sofia']\n",
      "Alicia\n",
      "['Alicia', 'Maria']\n",
      "['Alicia', 'Juan', 'Maria']\n"
     ]
    }
   ],
   "source": [
    "lista_invitados = [\"Alicia\", \"Sofia\", \"Maria\"]\n",
    "print(lista_invitados[0]) \n",
    "print(lista_invitados[1])\n",
    "print(lista_invitados[2])\n",
    "lista_invitados.sort() ##ordenacion alfabética\n",
    "print(lista_invitados) \n",
    "print(lista_invitados[0]) ##primer invitado de la lista\n",
    "lista_invitados.remove(\"Sofia\") ##se elimina a Sofia de la lista de invitados\n",
    "print(lista_invitados)\n",
    "lista_invitados.insert(1, \"Juan\") ##insert en lugar de append para meter un elemento en un lugar concreto de la lista\n",
    "print(lista_invitados)\n"
   ]
  },
  {
   "cell_type": "markdown",
   "id": "a2a3b0d9-af6e-474f-9511-e4f862ec6adc",
   "metadata": {},
   "source": [
    "**EJERCICIO 2**"
   ]
  },
  {
   "cell_type": "code",
   "execution_count": 14,
   "id": "16bf4906-2dac-4e09-9941-542e7a8d5854",
   "metadata": {},
   "outputs": [
    {
     "name": "stdout",
     "output_type": "stream",
     "text": [
      "('comida',) <class 'tuple'>\n",
      "('canelones', 'pizza', 'lentejas')\n",
      "(('comida',), ('canelones', 'pizza', 'lentejas'))\n",
      "(('comida',),)\n"
     ]
    }
   ],
   "source": [
    "tupla = (\"comida\",) #crear tupla con un elemento\n",
    "print(tupla, type(tupla))\n",
    "segunda_tupla = (\"canelones\", \"pizza\", \"lentejas\") ##crear otra tupla con tres elementos\n",
    "print(segunda_tupla)\n",
    "tercera_tupla = (tupla, (segunda_tupla)) ##anidar la segunda tupla en la primera\n",
    "print(tercera_tupla)\n",
    "cuarta_tupla = tercera_tupla [:1] ##elimino los valores, al poner: a la izquierda quito los del final, si fuera a la derecha empieza por el principio\n",
    "print(cuarta_tupla)\n",
    "\n"
   ]
  },
  {
   "cell_type": "markdown",
   "id": "3c7ea9c3-122c-466e-8adc-1f8e82ecb57f",
   "metadata": {},
   "source": [
    "**EJERCICIO 3**"
   ]
  },
  {
   "cell_type": "code",
   "execution_count": 15,
   "id": "fbd2ca56-c18e-42fd-94e2-cf19e0e63350",
   "metadata": {},
   "outputs": [
    {
     "name": "stdout",
     "output_type": "stream",
     "text": [
      "[1, 2, 3, 4, 5, 6]\n",
      "[6, 5, 4, 3, 2, 1]\n"
     ]
    }
   ],
   "source": [
    "ejer_3 = [1,2,3,4,5,6]\n",
    "print(ejer_3)\n",
    "ejer_3.reverse() ##imprime la lista al reves\n",
    "print(ejer_3)\n"
   ]
  },
  {
   "cell_type": "markdown",
   "id": "407c730d-93dd-489c-a27b-dd8de81e71db",
   "metadata": {},
   "source": [
    "**EJERCICIO 4**"
   ]
  },
  {
   "cell_type": "code",
   "execution_count": 18,
   "id": "2ca5381b-b71d-4105-8bd6-f0598818f4f8",
   "metadata": {},
   "outputs": [
    {
     "name": "stdout",
     "output_type": "stream",
     "text": [
      "('cien', 'cañones', 'por', 'banda')\n",
      "cien cañones por banda\n"
     ]
    }
   ],
   "source": [
    "ejer_4 = (\"cien\", \"cañones\", \"por\", \"banda\")\n",
    "print(ejer_4)\n",
    "def concat(ejer_4, separador=''): ##se usa separador para que las palabras salgan separadas por algo, y esta vacio para que sea un espacio\n",
    "    return separador.join(ejer_4)\n",
    "resultado = concat(ejer_4, separador=\" \")\n",
    "print(resultado) \n"
   ]
  },
  {
   "cell_type": "markdown",
   "id": "ac3378e8-0c95-40bf-a7c3-ad2e136d50fd",
   "metadata": {},
   "source": [
    "**EJERCICIO 5**"
   ]
  },
  {
   "cell_type": "code",
   "execution_count": 21,
   "id": "891c4a37-7057-4c75-bcaf-d35c1b929f2f",
   "metadata": {},
   "outputs": [
    {
     "name": "stdout",
     "output_type": "stream",
     "text": [
      "45\n",
      "[20, 47, 19, 29, 67, 10, 78, 90]\n"
     ]
    }
   ],
   "source": [
    "ejer_5 = [20, 47, 19, 29, 45, 67, 78, 90]\n",
    "print(ejer_5[4]) ##encuentra el indice del valor 45\n",
    "eliminado = ejer_5.pop(4) ##elimina el valor 45\n",
    "ejer_5.insert(5, 10) ##sustituye el valor 45 por 10\n",
    "print(ejer_5)\n"
   ]
  },
  {
   "cell_type": "markdown",
   "id": "c811a5df-ce47-4c62-ad81-3b55edb59c52",
   "metadata": {},
   "source": [
    "**EJERCICIO 6**"
   ]
  },
  {
   "cell_type": "code",
   "execution_count": 22,
   "id": "2037db21-d532-46d6-a0c1-9d8315d0a8e0",
   "metadata": {},
   "outputs": [
    {
     "name": "stdout",
     "output_type": "stream",
     "text": [
      "3\n",
      "90\n"
     ]
    }
   ],
   "source": [
    "ejer_6 = (3, 20, 3, 47, 19, 3, 29, 45, 67, 78, 90, 3, 3)\n",
    "print(ejer_6[2])\n",
    "print(ejer_6[10])\n"
   ]
  },
  {
   "cell_type": "markdown",
   "id": "f70b2bd7-551d-4bd6-942d-20a56ee0cac4",
   "metadata": {},
   "source": [
    "**EJERCICIO 7**"
   ]
  },
  {
   "cell_type": "code",
   "execution_count": 29,
   "id": "73697c14-c054-474f-aa9f-3fd97ca901d6",
   "metadata": {},
   "outputs": [
    {
     "name": "stdout",
     "output_type": "stream",
     "text": [
      "[20, 47, 19, 29, 45, 67, 78, 90]\n"
     ]
    }
   ],
   "source": [
    "ejer_7 = [3, 20, 3, 47, 19, 3, 29, 45, 67, 78, 90, 3, 3]\n",
    "ejer_7.remove(3)\n",
    "ejer_7.remove(3)\n",
    "ejer_7.remove(3)\n",
    "ejer_7.remove(3)\n",
    "ejer_7.remove(3)\n",
    "print(ejer_7)\n",
    "\n"
   ]
  },
  {
   "cell_type": "code",
   "execution_count": null,
   "id": "18b8b3e6-1f86-49c3-a9c8-58da62fe29f7",
   "metadata": {},
   "outputs": [],
   "source": []
  }
 ],
 "metadata": {
  "kernelspec": {
   "display_name": "Python 3 (ipykernel)",
   "language": "python",
   "name": "python3"
  },
  "language_info": {
   "codemirror_mode": {
    "name": "ipython",
    "version": 3
   },
   "file_extension": ".py",
   "mimetype": "text/x-python",
   "name": "python",
   "nbconvert_exporter": "python",
   "pygments_lexer": "ipython3",
   "version": "3.11.5"
  }
 },
 "nbformat": 4,
 "nbformat_minor": 5
}
