{
 "cells": [
  {
   "cell_type": "markdown",
   "id": "461599ce-9bb6-4ade-a983-929be787c1ac",
   "metadata": {},
   "source": [
    ">EJERCICIO1"
   ]
  },
  {
   "cell_type": "markdown",
   "id": "e0dcea74-b156-4e0f-9ecc-cfcc47fd9974",
   "metadata": {},
   "source": [
    "# Ciencia de datos\n",
    "\n",
    "## Introducción\n",
    "\n",
    "### Herramientas\n"
   ]
  },
  {
   "cell_type": "markdown",
   "id": "901d1b2e-687d-4ed8-bc92-51b3abb5da85",
   "metadata": {},
   "source": [
    ">EJERCICIO2"
   ]
  },
  {
   "cell_type": "markdown",
   "id": "24271de7-3d49-4c95-87ce-9ecfcc02101a",
   "metadata": {},
   "source": [
    "**Markdown**\n",
    "\n",
    "*Jupyter*\n",
    "\n",
    "***Python***"
   ]
  },
  {
   "cell_type": "markdown",
   "id": "b897faf2-84c6-465c-bcc5-9f5dcf9a2097",
   "metadata": {},
   "source": [
    ">EJERCICIO3"
   ]
  },
  {
   "cell_type": "markdown",
   "id": "3ecf17db-2851-40d2-8e06-be3ce5bfbb6c",
   "metadata": {},
   "source": [
    "<span style=\"color:blue\">color</span>"
   ]
  },
  {
   "cell_type": "markdown",
   "id": "a06f2d6f-39fe-4adf-ba3c-f80b6e50764c",
   "metadata": {},
   "source": [
    "<span style=\"background:#FFFF00\">resaltado</span>"
   ]
  },
  {
   "cell_type": "code",
   "execution_count": null,
   "id": "9c6aacbb-59f6-4a9d-b09e-25e6b592baaa",
   "metadata": {},
   "outputs": [],
   "source": []
  }
 ],
 "metadata": {
  "kernelspec": {
   "display_name": "Python 3 (ipykernel)",
   "language": "python",
   "name": "python3"
  },
  "language_info": {
   "codemirror_mode": {
    "name": "ipython",
    "version": 3
   },
   "file_extension": ".py",
   "mimetype": "text/x-python",
   "name": "python",
   "nbconvert_exporter": "python",
   "pygments_lexer": "ipython3",
   "version": "3.11.5"
  }
 },
 "nbformat": 4,
 "nbformat_minor": 5
}
