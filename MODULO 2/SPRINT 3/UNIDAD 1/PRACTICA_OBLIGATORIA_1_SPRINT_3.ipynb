{
 "cells": [
  {
   "cell_type": "markdown",
   "id": "1cfaf921-070c-4a70-bcf2-3c21afd4ae1f",
   "metadata": {},
   "source": [
    "**PARTE I: ¿Dónde me pongo como el Kiko?**\n",
    "***\n",
    "Rafa, Nacho y Clara quieren comprar palmeras, donuts, hojaldres y tartas. Cada uno necesita diferentes cantidades y pueden elegir dos tiendas: Manolo Bakes y Starbucks.\r\n",
    "\r\n",
    "Las siguiente tablas muestran, respectivamente, la cantidad que cada uno necesita, y los precios en cada una de las tiendas\r\n",
    "\r\n",
    "Palmeras\tDonuts\tHojaldres\tTartas\r\n",
    "Rafa\t6\t5\t3\t1\r\n",
    "Nacho\t3\t6\t2\t2\r\n",
    "Clara\t3\t4\t3\t1\r\n",
    "Manolo Bakes\tStarbucks\r\n",
    "Palmera\t1.50\t1.00\r\n",
    "Donut\t2.00\t2.50\r\n",
    "Hojaldre\t5.00\t4.50\r\n",
    "Tarta\t\n",
    "1. **SE PIDE**: genera la matriz que exprese la cantidad que cada persona gastaría en cada tienda, y recomienda a cada uno dónde debería hacer sus compras (pista: donde le cueste menos, ¿no?)\r\n",
    "2. **REQUISITO**: emplea Numpy, su tipo array y sus operaciones para la resolución del ejercicio.o.rbucks gastaría:\n"
   ]
  },
  {
   "cell_type": "code",
   "execution_count": 13,
   "id": "85f1fe62-c338-40df-9b0d-71b9a00cd09e",
   "metadata": {},
   "outputs": [
    {
     "name": "stdout",
     "output_type": "stream",
     "text": [
      "[[50.  49. ]\n",
      " [58.5 61. ]\n",
      " [43.5 43.5]]\n"
     ]
    }
   ],
   "source": [
    "import numpy as np\n",
    "\n",
    "cantidades = np.array([[6, 5, 3, 1], #las cantidades de cada producto que quiere Rafa\n",
    "                       [3, 6, 2, 2], #las cantidades de cada producto que quiere Nacho\n",
    "                       [3, 4, 3, 1]]) #las cantidades de cada producto que quiere Clara\n",
    "\n",
    "precios = np.array([[1.50, 2.00, 5.00, 16.00], #precios de cada producto de la tienda Manolo Bakes\n",
    "                    [1.00, 2.50, 4.50, 17.00]]) #precios de cada producto de la tienda Starbucks\n",
    "\n",
    "#creamos una matriz con el gasto que haria cada persona en cada tienda\n",
    "gastos = cantidades.dot(precios.T) #transponemos los precios para que coincidan las dimensiones\n",
    "print(gastos)\n",
    "\n"
   ]
  },
  {
   "cell_type": "code",
   "execution_count": 29,
   "id": "cf066b4a-cb38-48c2-8079-26f3d4106215",
   "metadata": {},
   "outputs": [
    {
     "name": "stdout",
     "output_type": "stream",
     "text": [
      "La persona 1 debería comprar en Starbucks donde gastaría 49.0 euros.\n",
      "La persona 2 debería comprar en Manolo Bakes donde gastaría 58.5 euros.\n",
      "La persona 3 debería comprar en Manolo Bakes donde gastaría 43.5 euros.\n"
     ]
    }
   ],
   "source": [
    "for i in range(len(cantidades)): \n",
    "    min_gasto = gastos[i].min() #para saber cual es el gasto minimo de la fila i\n",
    "    min_indice = gastos[i].argmin() #para saber cual es el índice del gasto minimo de la fila i\n",
    "    if min_indice == 0: #si el índice es 0, recomendamos la tienda Manolo Bakes\n",
    "        tienda = \"Manolo Bakes\"\n",
    "    else: #si el índice es 1, recomendamos la tienda Starbucks\n",
    "        tienda = \"Starbucks\"\n",
    "        \n",
    "    print(\"La persona\", i+1, \"debería comprar en\",tienda, \"donde gastaría\", min_gasto, \"euros.\")"
   ]
  },
  {
   "cell_type": "markdown",
   "id": "157946e4-3b0c-4758-b666-5bb9b1e2c904",
   "metadata": {},
   "source": [
    "**PARTE II: Clasificador de peliculas**\n",
    "***\r",
    "**Similitud entre peliculas**: vamos a calcular similitudes entre peliculas. Para ello las clasificamos segun egeneros, en concreto tenemos:\n",
    "1. *Toy Story:* Aventura, Animacion, Comedia\n",
    "2. *Jumanji:* Aventura\n",
    "3. *Mortal Combat:* Accion, Aventura\n",
    "4. *Pocahontas:* Animacion, Romance\n",
    "***\n",
    "Y ahora calcularemos por el metodo del coseno. Para ello:\n",
    "1. Convierte cada pelicula en un vector y almacenalo en un diccionario con clave el nombre de la pelicula. Pista: para convertirlo en vector, crea un vector/lista por pelicula con esta estructura.\n",
    "2. Crea una matriz de peliculas con un array de numpy. Muestra la dimension, shape, tamaño y tipo del array.\n",
    "3. A partir de la similitud por coseno, genera un programa que calcule la similitud entre cada pelicula y nos diga cuales son mas parecidas entre si. sí.énero?):\r\n",
    "óó"
   ]
  },
  {
   "cell_type": "code",
   "execution_count": 28,
   "id": "b1ed0d47-0a0f-4319-b772-835a2125d2b2",
   "metadata": {},
   "outputs": [
    {
     "name": "stdout",
     "output_type": "stream",
     "text": [
      "{'Toy Story': array([1, 1, 1, 0, 0]), 'Jumanji': array([1, 0, 0, 0, 0]), 'Mortal Combat': array([1, 0, 0, 1, 0]), 'Pocahontas': array([0, 1, 0, 0, 1])}\n",
      "[[1 1 1 0 0]\n",
      " [1 0 0 0 0]\n",
      " [1 0 0 1 0]\n",
      " [0 1 0 0 1]]\n",
      "Dimensión de la matriz: 2\n",
      "Numero de filas y de columnas de la matriz: (4, 5)\n",
      "Tamaño de la matriz: 20\n",
      "Tipo de la matriz: int32\n"
     ]
    }
   ],
   "source": [
    "import numpy as np\n",
    "\n",
    "#creamos el diccionario peliculas vacío\n",
    "peliculas = {}\n",
    "#asignamos valor 1 si pertenece a ese genero y valor 0 si no pertenece\n",
    "#lista de generos por orden: aventura, animacion, comedia, accion, romance\n",
    "#añadimos cada película con su vector correspondiente\n",
    "peliculas[\"Toy Story\"] = np.array([1, 1, 1, 0, 0])\n",
    "peliculas[\"Jumanji\"] = np.array([1, 0, 0, 0, 0])\n",
    "peliculas[\"Mortal Combat\"] = np.array([1, 0, 0, 1, 0])\n",
    "peliculas[\"Pocahontas\"] = np.array([0, 1, 0, 0, 1])\n",
    "print(peliculas)\n",
    "\n",
    "#creamos la matriz de películas a partir del diccionario\n",
    "matriz_peliculas = np.vstack(list(peliculas.values())) #np.vstack muestra verticalmente los vectores de cada pelicula\n",
    "print(matriz_peliculas)\n",
    "print(\"Dimensión de la matriz:\", matriz_peliculas.ndim)\n",
    "print(\"Numero de filas y de columnas de la matriz:\", matriz_peliculas.shape)\n",
    "print(\"Tamaño de la matriz:\", matriz_peliculas.size)\n",
    "print(\"Tipo de la matriz:\", matriz_peliculas.dtype)\n",
    "#nos sale que la matriz tiene 2 dimensiones, 4 filas, 5 columnas, 20 elementos y que son de tipo entero\n"
   ]
  },
  {
   "cell_type": "code",
   "execution_count": null,
   "id": "38ca3358-335b-4a0f-99f3-baa1970cce33",
   "metadata": {},
   "outputs": [],
   "source": []
  }
 ],
 "metadata": {
  "kernelspec": {
   "display_name": "Python 3 (ipykernel)",
   "language": "python",
   "name": "python3"
  },
  "language_info": {
   "codemirror_mode": {
    "name": "ipython",
    "version": 3
   },
   "file_extension": ".py",
   "mimetype": "text/x-python",
   "name": "python",
   "nbconvert_exporter": "python",
   "pygments_lexer": "ipython3",
   "version": "3.11.5"
  }
 },
 "nbformat": 4,
 "nbformat_minor": 5
}
