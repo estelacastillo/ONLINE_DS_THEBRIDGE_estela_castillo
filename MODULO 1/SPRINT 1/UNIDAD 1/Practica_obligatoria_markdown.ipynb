{
 "cells": [
  {
   "cell_type": "markdown",
   "id": "44250904-e822-4036-abae-a97eb3ff9f46",
   "metadata": {},
   "source": [
    "**MARKDOWN PRÁCTICA OBLIGATORIA**\n",
    "***********\n"
   ]
  },
  {
   "cell_type": "markdown",
   "id": "06a1e77b-ddad-46d4-bdd8-2c53bd65673a",
   "metadata": {},
   "source": [
    "**EJERCICIO 1**"
   ]
  },
  {
   "cell_type": "markdown",
   "id": "ba51f9ae-d7f8-4b1f-a9a7-c9ecd668d54a",
   "metadata": {},
   "source": [
    "**Lo más importante**"
   ]
  },
  {
   "cell_type": "markdown",
   "id": "339485ac-7907-4210-a567-7315938d1002",
   "metadata": {},
   "source": [
    "* Matemáticas\n",
    "* Python\n",
    "* SQL"
   ]
  },
  {
   "cell_type": "markdown",
   "id": "a83465e9-40e0-45a8-8ee1-903c072da34d",
   "metadata": {},
   "source": [
    "![](https://logos-download.com/wp-content/uploads/2016/10/Python_logo_icon.png)"
   ]
  },
  {
   "cell_type": "markdown",
   "id": "4a42d5d7-643b-42cb-be6c-9e8a34bb0ee7",
   "metadata": {},
   "source": [
    "Otro tema importante es el *Business Intelligence*"
   ]
  },
  {
   "cell_type": "markdown",
   "id": "2a62617a-079a-4c49-b253-f25295b211ca",
   "metadata": {},
   "source": [
    "Si tienes dudas, puedes escribirme a: jaime.gonzalez@thebridgeschool.es"
   ]
  },
  {
   "cell_type": "markdown",
   "id": "d9f466a8-576b-4fdc-a0c4-88ead78abe40",
   "metadata": {},
   "source": [
    "Y en esta página se aprende mucho de machine learning: <p><a href=\"www.thebridge.com\">**página de ML**</a>  "
   ]
  },
  {
   "cell_type": "markdown",
   "id": "da5ce291-d30a-45f0-abc0-491d12c3c0dc",
   "metadata": {},
   "source": [
    "**EJERCICIO 2**"
   ]
  },
  {
   "cell_type": "markdown",
   "id": "92a18fc4-430e-416f-a334-841375ac311a",
   "metadata": {},
   "source": [
    "|**Ramp Up** | **Data Analysis** | **Machine Learning** | **Data & Business**\n",
    "|----------- |-------------------|----------------------|------------------|\n",
    "| Python | EDA | Supervised | Productivización |\n",
    "| Estadística | R | Non Supervised | Storytelling |\n",
    "| SQL | Feat. Eng. | Deep Learning | API |"
   ]
  },
  {
   "cell_type": "markdown",
   "id": "905041cb-53a2-47bb-b716-e8357191552d",
   "metadata": {},
   "source": [
    "$\\sqrt{3x-1}$ + $(1+x)^{2}$"
   ]
  },
  {
   "cell_type": "code",
   "execution_count": null,
   "id": "0b563263-b53f-4314-b4fc-38f01d619036",
   "metadata": {},
   "outputs": [],
   "source": []
  }
 ],
 "metadata": {
  "kernelspec": {
   "display_name": "Python 3 (ipykernel)",
   "language": "python",
   "name": "python3"
  },
  "language_info": {
   "codemirror_mode": {
    "name": "ipython",
    "version": 3
   },
   "file_extension": ".py",
   "mimetype": "text/x-python",
   "name": "python",
   "nbconvert_exporter": "python",
   "pygments_lexer": "ipython3",
   "version": "3.11.5"
  }
 },
 "nbformat": 4,
 "nbformat_minor": 5
}
