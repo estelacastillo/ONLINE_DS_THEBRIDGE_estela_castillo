{
 "cells": [
  {
   "cell_type": "markdown",
   "id": "6dcb791f-10a4-4b2e-a980-cf63ff375a3d",
   "metadata": {},
   "source": [
    "**EJERCICIO 1**"
   ]
  },
  {
   "cell_type": "code",
   "execution_count": 4,
   "id": "3ecb56a5-3f31-4055-991b-7fc65e980a47",
   "metadata": {},
   "outputs": [
    {
     "name": "stdout",
     "output_type": "stream",
     "text": [
      "{'x': 3, 'y': 2, 'z': 1}\n"
     ]
    }
   ],
   "source": [
    "ejer_1 = [(\"x\", 1), (\"x\", 2), (\"x\", 3), (\"y\", 1), (\"y\", 2), (\"z\", 1)]\n",
    "ejer_1 = dict(ejer_1)\n",
    "print(ejer_1)"
   ]
  },
  {
   "cell_type": "markdown",
   "id": "21830464-7018-47e9-bfd2-87348e6ce1c4",
   "metadata": {},
   "source": [
    "**EJERCICIO 2**"
   ]
  },
  {
   "cell_type": "code",
   "execution_count": 9,
   "id": "000762b7-5bc8-46df-b191-bf356741de66",
   "metadata": {},
   "outputs": [
    {
     "name": "stdout",
     "output_type": "stream",
     "text": [
      "[2, 4, 5, 8]\n",
      "[8, 5, 4, 2]\n"
     ]
    }
   ],
   "source": [
    "ejer_2 = {4:78, 2:98, 8:234, 5:29}\n",
    "ejer_2 = list(ejer_2) ##pasa de diccionario a lista\n",
    "ejer_2.sort() ##ordena la lista en ordena ascendente\n",
    "print(ejer_2)\n",
    "ejer_2.reverse()\n",
    "print(ejer_2) ##revierte el orden, a descendente"
   ]
  },
  {
   "cell_type": "code",
   "execution_count": 25,
   "id": "ff333523-b79d-4bc7-bef3-5b3e031d8fea",
   "metadata": {},
   "outputs": [
    {
     "name": "stdout",
     "output_type": "stream",
     "text": [
      "{4: 78, 2: 98, 8: 234, 5: 29, 3: 35}\n",
      "dict_keys([4, 2, 8, 5, 3])\n",
      "2\n",
      "4\n",
      "78\n",
      "2\n",
      "98\n",
      "8\n",
      "234\n",
      "5\n",
      "29\n",
      "3\n",
      "35\n"
     ]
    }
   ],
   "source": [
    "ejer_2 = {4:78, 2:98, 8:234, 5:29}\n",
    "ejer_2 [3] = 35 ##añade una nueva clave/valor\n",
    "print(ejer_2)\n",
    "print(ejer_2.keys()) ##imprime las claves\n",
    "dict_keys = [4, 2, 8, 5, 3]\n",
    "print(dict_keys[1]) ##posicion 2 de las claves\n",
    "\n",
    "for i in ejer_2: \n",
    "    print(i)\n",
    "    print(ejer_2[i])\n"
   ]
  },
  {
   "cell_type": "markdown",
   "id": "4a013b4a-68a5-419e-931f-8017e4ba2b6e",
   "metadata": {},
   "source": [
    "**EJERCICIO 3**"
   ]
  },
  {
   "cell_type": "code",
   "execution_count": 26,
   "id": "d207cc2a-ba35-48e1-bf40-d649534f0943",
   "metadata": {},
   "outputs": [
    {
     "name": "stdout",
     "output_type": "stream",
     "text": [
      "{3: 33, 4: 44, 1: 11, 2: 22}\n"
     ]
    }
   ],
   "source": [
    "ejer_3_1 = {1: 11, 2: 22}\n",
    "ejer_3_2 = {3: 33, 4: 44}\n",
    "\n",
    "ejer_3_2.update(ejer_3_1) ##juntar los dos diccionarios con update\n",
    "print(ejer_3_2)"
   ]
  },
  {
   "cell_type": "markdown",
   "id": "0e04201e-99fd-4170-9ad2-ae6559ff6176",
   "metadata": {},
   "source": [
    "**EJERCICIO 4**"
   ]
  },
  {
   "cell_type": "code",
   "execution_count": 31,
   "id": "95ac7e14-b825-4970-928b-aa0fa346f631",
   "metadata": {},
   "outputs": [
    {
     "name": "stdout",
     "output_type": "stream",
     "text": [
      "{'paella', 'lentejas', 'canelones'}\n",
      "{'paella', 'lentejas', 'croquetas', 'canelones'}\n",
      "{'paella', 'lentejas', 'canelones'}\n",
      "{'lentejas', 'canelones'}\n"
     ]
    }
   ],
   "source": [
    "comida = {\"canelones\", \"lentejas\", \"paella\"} ##crear un set de tres elementos\n",
    "print(comida)\n",
    "comida.add(\"croquetas\") ##añadir un elemento\n",
    "print(comida)\n",
    "comida.remove(\"croquetas\") ##quitar el último elemento añadido\n",
    "print(comida)\n",
    "comida.discard(\"paella\") ##eliminar con discard el elemento 10, pero como no exixte he eliminado otro elemento diferente\n",
    "print(comida)"
   ]
  },
  {
   "cell_type": "markdown",
   "id": "adc58ec9-3e84-4da7-8c41-a6e761ebabdc",
   "metadata": {},
   "source": [
    "**EJERCICIO 5**"
   ]
  },
  {
   "cell_type": "code",
   "execution_count": 32,
   "id": "ecac8c28-1f4f-410e-bacb-625b56eb9bc9",
   "metadata": {},
   "outputs": [
    {
     "name": "stdout",
     "output_type": "stream",
     "text": [
      "165\n"
     ]
    }
   ],
   "source": [
    "ejer_5 = {1: 11, 2: 22, 3: 33, 4: 44, 5: 55}\n",
    "total = 0\n",
    "for i in ejer_5.values(): ##suma los valores\n",
    "    total += i\n",
    "\n",
    "print(total)"
   ]
  },
  {
   "cell_type": "markdown",
   "id": "d0cca5ec-e922-47c7-b874-bb333b14c7f0",
   "metadata": {},
   "source": [
    "**EJERCICIO 6**"
   ]
  },
  {
   "cell_type": "code",
   "execution_count": null,
   "id": "1933dd49-6a08-46a9-acb8-dcad4e730e4f",
   "metadata": {},
   "outputs": [],
   "source": [
    "ejer_6 = [11, 2, 4.5, [\"esto\", \"es\"], 3, 4.5, [\"esto\",\"es\"], \"quizás\", True, True, 11]\n",
    "print(ejer_6)\n",
    "ejer_6_1 = list(set(ejer_6)) ##pasa la lista a set eliminando los duplicados, y despues pasa a lista de nuevo\n",
    "print(ejer_6_1)\n"
   ]
  },
  {
   "cell_type": "code",
   "execution_count": null,
   "id": "c8f8f8b6-e1d5-47e4-815b-1faa08734575",
   "metadata": {},
   "outputs": [],
   "source": []
  }
 ],
 "metadata": {
  "kernelspec": {
   "display_name": "Python 3 (ipykernel)",
   "language": "python",
   "name": "python3"
  },
  "language_info": {
   "codemirror_mode": {
    "name": "ipython",
    "version": 3
   },
   "file_extension": ".py",
   "mimetype": "text/x-python",
   "name": "python",
   "nbconvert_exporter": "python",
   "pygments_lexer": "ipython3",
   "version": "3.11.5"
  }
 },
 "nbformat": 4,
 "nbformat_minor": 5
}
