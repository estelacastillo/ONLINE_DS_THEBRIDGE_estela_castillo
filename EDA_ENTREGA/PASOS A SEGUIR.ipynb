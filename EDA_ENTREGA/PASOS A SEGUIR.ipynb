{
 "cells": [
  {
   "cell_type": "markdown",
   "metadata": {},
   "source": [
    "**PASOS A SEGUIR:**\n",
    "***\n",
    "***1. OBJETIVO:*** ¿Cuál sería el lugar ideal para vivir?/**HIPÓTESIS:** el lugar ideal para vivir sería un pais desarrollado con datos positivos en sus variables que lo avalen\n",
    "\n",
    "***2. LIMPIEZA DE DATOS:***\n",
    "    1. Con el primer dataset: el dataset esta muy completo, tiene muy pocos nulos, se pueden usar todas las variables si es preciso; las columnas calling code, capital/major city y abbreviation no me interesan para mi estudio, tengo que eliminarlas; quiero cambiar los nombres de las columnas al español; sustituire los valores nulos por la media; averiguar si hay duplicados.\n",
    "    2. Con el segundo dataset: no hay nulos en la columna dim_sex que es la que me interesa; de primeras quiero eliminar de la columna dim_sex mujer y hombre, y quedarme solo con el total por pais; el resto de columnas no me interesan, las tengo que eliminar; quiero cambiar el nombre de la columna a español; averiguar si hay duplicados.\n",
    "   \n",
    "   Después tengo que cargar el segundo dataset en el primero y quedarme con un unico dataframe. Ajustar el dataframe para que quede bonito y utilizable (quiza el segundo datset no tiene las mismas filas que el primero por paises)\n",
    "\n",
    "***3. TABLA DE VARIABLES:*** rellenar la tabla, priorizar variables, definiciones, tipificar los datos (cardinalidad)\n",
    "\n",
    "***4. ANÁLISIS:***\n",
    "   * Análisis Univariante: Análisis visual y numerico\n",
    "      * Categoricas: Moda, Frecuencias absolutas y relativas (gráficos de barras)\n",
    "      * Numericas: Tendencia Central (mediana, media), rangos (gráficos de caja), posición (percentiles-cuartiles, IQR), dispersion, distribución (histograma, densidad probabilidad), tratar anomalias/outliers (eliminar, crear categoria especial...)\n",
    "  \n",
    "   * Analisis bivariante:  Análisis visual y numérico\n",
    "     Analiza las parejas de variables necesarias, empieza por categoricas importantes/target/directoras\n",
    "      * Categorica-Categórica -> Chi-2 (si p < 0.05, si hay dependencia entre las variables). Usar si el 80% de las celdas tienen una frecuencia esperada de minimo 5.\n",
    "      * Categorica-Numerica -> si la categórica es binaria (Prueba U Mann-Whitney/t-student) y si no es binaria (ANOVA)\n",
    "      * Numerica-Numerica -> Correlación de Pearson (Prueba estadística), mapa de calor (matriz de correlación)\n",
    "   \n",
    "    NO HAY CORRELACION DE PEARSON para categóricas; Binaria: 0,1 -> NO es correcto usar Pearson.\n",
    "    Ideas, preguntas, cosas extraordinarias\n",
    "    Tabla de contingencia -> Solo para dos categóricas con cardinalidad controlada\n",
    "  \n",
    "  * Analisis 2 o más: A \"ojo\".Free style\n",
    "  \n",
    "  * Te paras: Haces restrospectiva -> lista de verdaderas hipótesis/preguntas/suposiciones/inquietudes\n",
    "    - NUMEROS\n",
    "\n",
    "***5. CONCLUSIONES:*** explicadas, y además se puede crear un dashboard para que de un solo vistazo se vea a través de gráficas nuestra conclusión\n",
    "  \n",
    "***6. ENTREGA:***\n",
    "   1. **CÓDIGO (30%)**:\n",
    "      * Separar  el código en las siguientes carpetas:\n",
    "        src/: aquí irá todo el código\n",
    "        src/data: todos los archivos de datos utilizados en el analisis. No subir a GitHub archivos demasiado pesados. [Si tus datos son muy grandes sube únicamente una muestra que permita ejecutar el código]\n",
    "        src/notebooks: los notebooks usados para pruebas.\n",
    "        src/utils: todos los modulos, funciones auxiliares o clases creados para el desarrollo del proyecto.\n",
    "        src/memoria.ipynb: en este notebook tendrás que resumir de forma clara y ordenada todos los pasos de la analítica.\n",
    "   2. Documentación utilizada (datasets...)\n",
    "   3. Fichero README.md (con la descripción breve del proyecto)\n",
    "   4. **MEMORIA (20%)**: un jupyter notebook donde explicarás qué es el desarrollo del proyecto con markdown y código de python de forma resumida.\n",
    "   5. **PRESENTACIÓN (50%)**: powerpoint/prezi, combinable con un dashboard desarrollado (hecho con Power BI, Tableau, Streamlit, Plotly). Explicación: contexto, que has hecho para resolverlo y conclusiones."
   ]
  }
 ],
 "metadata": {
  "kernelspec": {
   "display_name": "Python 3",
   "language": "python",
   "name": "python3"
  },
  "language_info": {
   "name": "python",
   "version": "3.11.5"
  }
 },
 "nbformat": 4,
 "nbformat_minor": 2
}
