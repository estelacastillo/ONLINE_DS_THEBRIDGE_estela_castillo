{
 "cells": [
  {
   "cell_type": "markdown",
   "id": "be399914-5b47-4926-a2c6-fa91671085d5",
   "metadata": {},
   "source": [
    "**EJERCICIO 1**"
   ]
  },
  {
   "cell_type": "code",
   "execution_count": 5,
   "id": "b8778dcf-4cf9-48e0-8035-be517ca61a4d",
   "metadata": {},
   "outputs": [
    {
     "data": {
      "text/plain": [
       "'Miércoles'"
      ]
     },
     "execution_count": 5,
     "metadata": {},
     "output_type": "execute_result"
    }
   ],
   "source": [
    "def numero_dia(numero):\n",
    "    dias = { #crea un diccionario asignando a cada clave un numero y a cada valor, un dia\n",
    "        1: 'Lunes',\n",
    "        2: 'Martes',\n",
    "        3: 'Miércoles',\n",
    "        4: 'Jueves',\n",
    "        5: 'Viernes',\n",
    "        6: 'Sábado',\n",
    "        7: 'Domingo'\n",
    "    }\n",
    "    return dias.get(numero, 'Número inválido') #si el numero no esta en el diccionario, la funcion devuelve numero invalido\n",
    "\n",
    "#ejemplo\n",
    "numero_dia(3)"
   ]
  },
  {
   "cell_type": "markdown",
   "id": "5a6681f9-88de-4a33-92ab-ff7637860d06",
   "metadata": {},
   "source": [
    "**EJERCICIO 2**"
   ]
  },
  {
   "cell_type": "code",
   "execution_count": 14,
   "id": "37a2a8aa-330d-4286-a1ef-072cb56f4378",
   "metadata": {},
   "outputs": [
    {
     "name": "stdout",
     "output_type": "stream",
     "text": [
      "1 \n",
      "1 2 \n",
      "1 2 3 \n",
      "1 2 3 4 \n",
      "1 2 3 4 5 \n"
     ]
    }
   ],
   "source": [
    "def piramide(n): #n es el argumento variable que es la altura de la piramide\n",
    "    for i in range(1, n+1):\n",
    "        for j in range(1, i+1):\n",
    "            print(j, end=' ')\n",
    "        print()\n",
    "#ejemplo eligiendo el valor de la altura 5\n",
    "piramide(5) "
   ]
  },
  {
   "cell_type": "markdown",
   "id": "21471bcf-660f-4ce0-8db6-d12f24c791b1",
   "metadata": {},
   "source": [
    "**EJERCICIO 3**"
   ]
  },
  {
   "cell_type": "code",
   "execution_count": 15,
   "id": "9af1982a-b906-43e0-a602-c1bde0abd35c",
   "metadata": {},
   "outputs": [
    {
     "name": "stdout",
     "output_type": "stream",
     "text": [
      "El número 3 es menor que el número 6\n"
     ]
    }
   ],
   "source": [
    "def comparar_numeros(a, b): #se crea una funcion para comparar dos numeros\n",
    "    if a == b: #si los numeros son iguales\n",
    "        print(\"Los números son iguales\")\n",
    "    elif a < b: #si el primer numero es menor que el segundo\n",
    "        print(\"El número\", a, \"es menor que el número\", b)\n",
    "    else: #la opcion restante, que es que el primer numero es mayor que el segundo\n",
    "        print(\"El número\", a, \"es mayor que el número\", b)\n",
    "#ejemplo\n",
    "comparar_numeros(3, 6)"
   ]
  },
  {
   "cell_type": "markdown",
   "id": "26c016ff-f96c-49bf-83fe-61d6127ff5a5",
   "metadata": {},
   "source": [
    "**EJERCICIO 4**"
   ]
  },
  {
   "cell_type": "code",
   "execution_count": 22,
   "id": "c65516fe-8094-4edd-a881-a58ffdd1f38e",
   "metadata": {},
   "outputs": [
    {
     "data": {
      "text/plain": [
       "2"
      ]
     },
     "execution_count": 22,
     "metadata": {},
     "output_type": "execute_result"
    }
   ],
   "source": [
    "def contar_letra(cadena, letra):\n",
    "    contador = 0\n",
    "    for caracter in cadena:\n",
    "        if caracter == letra:\n",
    "            contador += 1\n",
    "    return contador\n",
    "#ejemplo\n",
    "contar_letra(\"hola a todos\", \"a\")"
   ]
  },
  {
   "cell_type": "markdown",
   "id": "b282ccbb-c4fd-4181-97c9-2d0ef4b5299c",
   "metadata": {},
   "source": [
    "**EJERCICIO 5**"
   ]
  },
  {
   "cell_type": "code",
   "execution_count": 21,
   "id": "ae909b8a-fcba-4772-9e72-638e7a197833",
   "metadata": {},
   "outputs": [
    {
     "data": {
      "text/plain": [
       "{'h': 1, 'o': 3, 'l': 1, 'a': 2, ' ': 2, 't': 1, 'd': 1, 's': 1}"
      ]
     },
     "execution_count": 21,
     "metadata": {},
     "output_type": "execute_result"
    }
   ],
   "source": [
    "def contar_letras(string):\n",
    "    contador = {} \n",
    "    for letra in string:\n",
    "        if letra in contador: #si la letra esta en el diccionario, aumenta en el contador\n",
    "            contador[letra] += 1\n",
    "        else: #en caso contrario, se agrega con un contador de 1\n",
    "            contador[letra] = 1\n",
    "    return contador\n",
    "#ejemplo\n",
    "contar_letras(\"hola a todos\")"
   ]
  },
  {
   "cell_type": "markdown",
   "id": "37da17e6-b571-4ccf-8312-e2c13356d0fb",
   "metadata": {},
   "source": [
    "**EJERCICIO 6**"
   ]
  },
  {
   "cell_type": "code",
   "execution_count": 23,
   "id": "b36fe1a9-adb0-4e52-87ba-338240f04d0a",
   "metadata": {},
   "outputs": [
    {
     "data": {
      "text/plain": [
       "'Hola a todos'"
      ]
     },
     "execution_count": 23,
     "metadata": {},
     "output_type": "execute_result"
    }
   ],
   "source": [
    "def unir_palabras(*palabras): #palabras es un argumento variable\n",
    "    return ' '.join(palabras)\n",
    "#ejemplo\n",
    "unir_palabras(\"Hola\", \"a\", \"todos\")"
   ]
  },
  {
   "cell_type": "code",
   "execution_count": null,
   "id": "771bd3fb-0c21-4007-8491-088eb65b6a70",
   "metadata": {},
   "outputs": [],
   "source": []
  }
 ],
 "metadata": {
  "kernelspec": {
   "display_name": "Python 3 (ipykernel)",
   "language": "python",
   "name": "python3"
  },
  "language_info": {
   "codemirror_mode": {
    "name": "ipython",
    "version": 3
   },
   "file_extension": ".py",
   "mimetype": "text/x-python",
   "name": "python",
   "nbconvert_exporter": "python",
   "pygments_lexer": "ipython3",
   "version": "3.11.5"
  }
 },
 "nbformat": 4,
 "nbformat_minor": 5
}
