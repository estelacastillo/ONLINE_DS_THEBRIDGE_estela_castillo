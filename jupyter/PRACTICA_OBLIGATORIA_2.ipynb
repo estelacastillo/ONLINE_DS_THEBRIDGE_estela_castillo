{
 "cells": [
  {
   "cell_type": "markdown",
   "id": "87964db4-6742-409f-ab72-dc68525a57da",
   "metadata": {},
   "source": [
    "**PRACTICA 2**"
   ]
  },
  {
   "cell_type": "markdown",
   "id": "d5f80e54-6079-4d17-9c04-f6add4fce824",
   "metadata": {},
   "source": [
    "***"
   ]
  },
  {
   "cell_type": "markdown",
   "id": "07718f8d-d219-40ab-932c-b29ed0ab3c49",
   "metadata": {},
   "source": [
    "**PARTE 1**"
   ]
  },
  {
   "cell_type": "raw",
   "id": "ffac2936-7986-4552-82e7-41d1f43c10f5",
   "metadata": {},
   "source": [
    "pizz_familiar = input(\"Buenas tardes, bienvenido al servicio de pedido online, el precio de nuestra pizzas es de 8,95 para la familiar o de 9,90 para la mediana ¿Cuántas pizzas familiares desea?\")"
   ]
  },
  {
   "cell_type": "code",
   "execution_count": 3,
   "id": "010f02dc-c5ed-4ffa-8189-f134c4b0cc4d",
   "metadata": {},
   "outputs": [
    {
     "name": "stdout",
     "output_type": "stream",
     "text": [
      "3\n"
     ]
    }
   ],
   "source": [
    "print(pizz_familiar)"
   ]
  },
  {
   "cell_type": "code",
   "execution_count": 4,
   "id": "10db2986-fb80-46f5-9ee6-b1223721872e",
   "metadata": {},
   "outputs": [
    {
     "name": "stdin",
     "output_type": "stream",
     "text": [
      "Estupendo, ¿cuántas pizzas medianas desea? 2\n"
     ]
    }
   ],
   "source": [
    "pizz_mediana = input(\"Estupendo, ¿cuántas pizzas medianas desea?\")"
   ]
  },
  {
   "cell_type": "code",
   "execution_count": 5,
   "id": "0220775c-a7a6-4e58-83fa-c2c8c5cc9534",
   "metadata": {},
   "outputs": [
    {
     "name": "stdout",
     "output_type": "stream",
     "text": [
      "2\n"
     ]
    }
   ],
   "source": [
    "print(pizz_mediana)"
   ]
  },
  {
   "cell_type": "code",
   "execution_count": 6,
   "id": "bc2d052c-6dca-4eb6-a4d2-257813b1a1ac",
   "metadata": {},
   "outputs": [
    {
     "name": "stdin",
     "output_type": "stream",
     "text": [
      "Estupendo, se están preparando 'pizz_familiar' pizzas familiares y 'pizz_mediana' pizzas medianas. Digame su dirección rosas 1\n"
     ]
    }
   ],
   "source": [
    "direcc = input(\"Estupendo, se están preparando {pizz_familiar} pizzas familiares y {pizz_mediana} pizzas medianas. Digame su dirección\")"
   ]
  },
  {
   "cell_type": "code",
   "execution_count": 7,
   "id": "8a5053a7-51a8-480a-a304-210378072ca6",
   "metadata": {},
   "outputs": [
    {
     "name": "stdout",
     "output_type": "stream",
     "text": [
      "rosas 1\n"
     ]
    }
   ],
   "source": [
    "print(direcc)"
   ]
  },
  {
   "cell_type": "code",
   "execution_count": null,
   "id": "f7243740-3629-4b89-8281-9a882a1a873e",
   "metadata": {},
   "outputs": [],
   "source": [
    "pizz_total() : pizz_familiar + pizz_mediana\n",
    "precio_pizz_familiar == 8.95\n",
    "precio_pizz_mediana == 9.90\n",
    "precio_total = precio_pizz_familiar * pizz_familiar + precio_pizz_mediana * pizz_mediana"
   ]
  },
  {
   "cell_type": "code",
   "execution_count": 23,
   "id": "fc724f0f-84e5-41f6-b1d3-4bff5497f67d",
   "metadata": {},
   "outputs": [
    {
     "name": "stdin",
     "output_type": "stream",
     "text": [
      "Le mandaremos las {pizz_total} pizzas a la dirección {direcc}. Serán {precio_total} euros. Muchas gracias por su pedido. Gracias\n"
     ]
    }
   ],
   "source": [
    "cuarto_input = input(\"Le mandaremos las {pizz_total} pizzas a la dirección {direcc}. Serán {precio_total} euros. Muchas gracias por su pedido.\")"
   ]
  },
  {
   "cell_type": "markdown",
   "id": "6d833162-47a4-4c74-bb63-9f50e18445d4",
   "metadata": {},
   "source": [
    "***"
   ]
  },
  {
   "cell_type": "markdown",
   "id": "a14afbb3-3e5c-42c1-9391-c510fb64fa5a",
   "metadata": {},
   "source": [
    "**PARTE 2**"
   ]
  },
  {
   "cell_type": "code",
   "execution_count": 10,
   "id": "3224f7b1-d582-48a5-ac1d-d2ab8800a75f",
   "metadata": {},
   "outputs": [
    {
     "name": "stdin",
     "output_type": "stream",
     "text": [
      "Introduce tres números enteros separados por comas:  1, 2, 3\n"
     ]
    }
   ],
   "source": [
    "numeros = input (\"Introduce tres números enteros separados por comas: \")"
   ]
  },
  {
   "cell_type": "code",
   "execution_count": 11,
   "id": "7b52de1a-609f-4ab2-8b4f-9ad11baa9a2e",
   "metadata": {},
   "outputs": [
    {
     "name": "stdout",
     "output_type": "stream",
     "text": [
      "1, 2, 3\n"
     ]
    }
   ],
   "source": [
    "print(numeros.replace(\" , \" , \"\\n\"))"
   ]
  },
  {
   "cell_type": "code",
   "execution_count": 12,
   "id": "bbecbaf6-95e8-4be3-bb49-9445e654037c",
   "metadata": {},
   "outputs": [
    {
     "name": "stdout",
     "output_type": "stream",
     "text": [
      "['1', '2', '3']\n"
     ]
    }
   ],
   "source": [
    "numeros_enteros = [\"1\", \"2\", \"3\"]\n",
    "print(numeros_enteros)"
   ]
  },
  {
   "cell_type": "code",
   "execution_count": null,
   "id": "dd519817-ed60-40d8-9e01-845dae7eb4dd",
   "metadata": {},
   "outputs": [],
   "source": [
    "numeros_enteros = [1, 2, 3]\n",
    "min = max = numeros_enteros[0]\n",
    "for numeros in numeros_enteros:\n",
    "    if numeros < min:\n",
    "        min = numeros\n",
    "    elif numeros > max:\n",
    "        max = numeros\n",
    "    print(\"El mínimo es \" + str(min))\n",
    "    print(\"El máximo es \" + str(max))\n",
    "    print(sum(1+2+3))\n",
    "\n",
    "    if ((max - min) == sum/5 ):\n",
    "        sum = 1 + 2 + 3\n",
    "        max == 3\n",
    "        min == 1\n",
    "        print(\"True\")\n",
    "        else:\n",
    "        print(\"False\")"
   ]
  },
  {
   "cell_type": "code",
   "execution_count": null,
   "id": "4cf871c6-403b-4413-aca5-c1c10ef7cc4b",
   "metadata": {},
   "outputs": [],
   "source": []
  }
 ],
 "metadata": {
  "kernelspec": {
   "display_name": "Python 3 (ipykernel)",
   "language": "python",
   "name": "python3"
  },
  "language_info": {
   "codemirror_mode": {
    "name": "ipython",
    "version": 3
   },
   "file_extension": ".py",
   "mimetype": "text/x-python",
   "name": "python",
   "nbconvert_exporter": "python",
   "pygments_lexer": "ipython3",
   "version": "3.11.5"
  }
 },
 "nbformat": 4,
 "nbformat_minor": 5
}
