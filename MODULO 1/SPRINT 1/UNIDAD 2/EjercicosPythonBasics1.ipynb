{
 "cells": [
  {
   "cell_type": "markdown",
   "id": "2cec0776-6e34-4a71-87d4-65f589310280",
   "metadata": {},
   "source": [
    "**EJERCICIOS PYTHON BASICS I**"
   ]
  },
  {
   "cell_type": "markdown",
   "id": "006d14cd-9db7-4aa1-b76c-d292abb80dc9",
   "metadata": {},
   "source": [
    "**EJERCICIO 1**"
   ]
  },
  {
   "cell_type": "markdown",
   "id": "85acaa23-ba21-455a-9640-18d840d59d6c",
   "metadata": {},
   "source": [
    "¿Por qué esta magnífica tecnología cientifíca,\n",
    "       que ahorra trabajo y nos hace la vida más fácil, \n",
    "               nos aporta tan poca felicidad?\n",
    "                       La respuesta es esta, simplemente: porque aún no hemos aprendido a usarla con tino.\n",
    "\"Albert Einstein\"."
   ]
  },
  {
   "cell_type": "code",
   "execution_count": null,
   "id": "c6c6242c-bd2f-4b63-a20c-9332f6e9428b",
   "metadata": {},
   "outputs": [],
   "source": []
  },
  {
   "cell_type": "markdown",
   "id": "e9b64896-67c7-4d0e-af45-173f81748413",
   "metadata": {},
   "source": [
    "**EJERCICIO 2**"
   ]
  },
  {
   "cell_type": "code",
   "execution_count": 29,
   "id": "9a6e9380-9467-4d21-bb24-dbb829069bf1",
   "metadata": {},
   "outputs": [
    {
     "name": "stdout",
     "output_type": "stream",
     "text": [
      "calle guadarrama 7 collado villalba 28400\n"
     ]
    }
   ],
   "source": [
    "domicilio = \"calle guadarrama\"\n",
    "numero = \"7\"\n",
    "poblacion = \"collado villalba\"\n",
    "codigo_postal = \"28400\"\n",
    "direccion = domicilio + \" \" + numero + \" \" + poblacion + \" \" + codigo_postal\n",
    "print(direccion)\n",
    "\n"
   ]
  },
  {
   "cell_type": "markdown",
   "id": "a3383bfa-dbc1-4987-8d6a-2c5898751ba4",
   "metadata": {},
   "source": [
    "**EJERCICIO 3**"
   ]
  },
  {
   "cell_type": "code",
   "execution_count": 30,
   "id": "7b9a1cfd-c619-4ef9-992a-d44d1a1bb8cf",
   "metadata": {},
   "outputs": [
    {
     "name": "stdout",
     "output_type": "stream",
     "text": [
      "calle guadarrama 7 collado villalba 28400\n"
     ]
    }
   ],
   "source": [
    "##Se define la variable domicilio\n",
    "domicilio = \"calle guadarrama\"\n",
    "##Se define la variable numero\n",
    "numero = \"7\"\n",
    "##Se define la variable poblacion\n",
    "poblacion = \"collado villalba\"\n",
    "##Se define la variable codigo_postal\n",
    "codigo_postal = \"28400\"\n",
    "##Se define la variable direccion concatenando las variables previas\n",
    "direccion = domicilio + \" \" + numero + \" \" + poblacion + \" \" + codigo_postal\n",
    "##imprime la direccion\n",
    "print(direccion)"
   ]
  },
  {
   "cell_type": "markdown",
   "id": "de0a436b-8521-4920-93d8-f7e0a5ceef3d",
   "metadata": {},
   "source": [
    "**EJERCICIO 4**"
   ]
  },
  {
   "cell_type": "code",
   "execution_count": 32,
   "id": "91133469-5f7f-4d34-be8e-dad72a412739",
   "metadata": {},
   "outputs": [],
   "source": [
    "## 1. Está bien escrita\n",
    "mi_variable = \"Economia\""
   ]
  },
  {
   "cell_type": "code",
   "execution_count": 33,
   "id": "19a47043-fc8a-49cb-a1cd-c426c58c5b40",
   "metadata": {},
   "outputs": [
    {
     "ename": "SyntaxError",
     "evalue": "unterminated string literal (detected at line 2) (1209217782.py, line 2)",
     "output_type": "error",
     "traceback": [
      "\u001b[1;36m  Cell \u001b[1;32mIn[33], line 2\u001b[1;36m\u001b[0m\n\u001b[1;33m    otra_var = \"Ejercicio\u001b[0m\n\u001b[1;37m               ^\u001b[0m\n\u001b[1;31mSyntaxError\u001b[0m\u001b[1;31m:\u001b[0m unterminated string literal (detected at line 2)\n"
     ]
    }
   ],
   "source": [
    "## 2. Está mal escrita porque faltan las comillas al final\n",
    "otra_var = \"Ejercicio"
   ]
  },
  {
   "cell_type": "code",
   "execution_count": 34,
   "id": "243d6c25-ee52-4196-b0f7-66bb2bfb3d2f",
   "metadata": {},
   "outputs": [
    {
     "ename": "SyntaxError",
     "evalue": "cannot assign to True (250656216.py, line 2)",
     "output_type": "error",
     "traceback": [
      "\u001b[1;36m  Cell \u001b[1;32mIn[34], line 2\u001b[1;36m\u001b[0m\n\u001b[1;33m    True = \"Ejercicio\"\u001b[0m\n\u001b[1;37m    ^\u001b[0m\n\u001b[1;31mSyntaxError\u001b[0m\u001b[1;31m:\u001b[0m cannot assign to True\n"
     ]
    }
   ],
   "source": [
    "## 3. Esta mal escrito por True es una palabra reservada\n",
    "True = \"Ejercicio\""
   ]
  },
  {
   "cell_type": "code",
   "execution_count": 35,
   "id": "764c4abc-0068-42da-98f6-4d107e501d1e",
   "metadata": {},
   "outputs": [
    {
     "ename": "SyntaxError",
     "evalue": "invalid syntax (3320500926.py, line 2)",
     "output_type": "error",
     "traceback": [
      "\u001b[1;36m  Cell \u001b[1;32mIn[35], line 2\u001b[1;36m\u001b[0m\n\u001b[1;33m    mi variabl1e = \"Alpha\"\u001b[0m\n\u001b[1;37m       ^\u001b[0m\n\u001b[1;31mSyntaxError\u001b[0m\u001b[1;31m:\u001b[0m invalid syntax\n"
     ]
    }
   ],
   "source": [
    "## 4. Está mal escrita porque hay un 1 en vez de una l\n",
    "mi variabl1e = \"Alpha\""
   ]
  },
  {
   "cell_type": "code",
   "execution_count": 37,
   "id": "65323115-475e-4ebe-af4e-73fdfc3e3230",
   "metadata": {},
   "outputs": [],
   "source": [
    "## 5. Está bien escrita\n",
    "exec = True"
   ]
  },
  {
   "cell_type": "code",
   "execution_count": 38,
   "id": "aa78f42c-5bc1-4695-a7b3-ce695bc72489",
   "metadata": {},
   "outputs": [
    {
     "ename": "SyntaxError",
     "evalue": "invalid syntax (1862995919.py, line 2)",
     "output_type": "error",
     "traceback": [
      "\u001b[1;36m  Cell \u001b[1;32mIn[38], line 2\u001b[1;36m\u001b[0m\n\u001b[1;33m    import = 40\u001b[0m\n\u001b[1;37m           ^\u001b[0m\n\u001b[1;31mSyntaxError\u001b[0m\u001b[1;31m:\u001b[0m invalid syntax\n"
     ]
    }
   ],
   "source": [
    "## 6. Está mal escrita porque faltan las comillas delanteras y traseras en 40\n",
    "import = 40"
   ]
  },
  {
   "cell_type": "code",
   "execution_count": 39,
   "id": "8276ce0a-5f0a-4582-855a-e532de047894",
   "metadata": {},
   "outputs": [
    {
     "ename": "SyntaxError",
     "evalue": "invalid decimal literal (2487628550.py, line 2)",
     "output_type": "error",
     "traceback": [
      "\u001b[1;36m  Cell \u001b[1;32mIn[39], line 2\u001b[1;36m\u001b[0m\n\u001b[1;33m    81mi_variable = \"Agua\"\u001b[0m\n\u001b[1;37m     ^\u001b[0m\n\u001b[1;31mSyntaxError\u001b[0m\u001b[1;31m:\u001b[0m invalid decimal literal\n"
     ]
    }
   ],
   "source": [
    "## 7. Está mal escrita porque no se puede poner un número ahí\n",
    "81mi_variable = \"Agua\""
   ]
  },
  {
   "cell_type": "code",
   "execution_count": 40,
   "id": "d61c1a17-ec54-471b-b36e-aed794d71800",
   "metadata": {},
   "outputs": [],
   "source": [
    "## 8. Está bien escrita\n",
    "mi_variable10 = 6"
   ]
  },
  {
   "cell_type": "markdown",
   "id": "0c5815b4-ed17-4553-93a6-54e741ab4f77",
   "metadata": {},
   "source": [
    "**EJERCICIO 5**"
   ]
  },
  {
   "cell_type": "code",
   "execution_count": null,
   "id": "d046805c-9ac3-49b1-a362-c45426414fb7",
   "metadata": {},
   "outputs": [],
   "source": [
    "print(\"Ingrese el numero de victorias\")   \n",
    "numero_victorias = float()\n",
    "print(\"Ingrese el numero de derrotas\")\n",
    "numero_derrotas = float()\n",
    "numero_partidos = numero_victorias + numero_derrotas\n",
    "porcentaje_victorias = numero_victorias * 100 / numero_partidos\n",
    "porcentaje_derrotas = numero_victorias * 100 / numero_partidos\n",
    "print(\"El porcentaje de victorias es\" porcentaje_victorias \"%\")\n",
    "print(\"El porcentaje de derrotas es\" porcentaje_derrotas \"%\")"
   ]
  },
  {
   "cell_type": "code",
   "execution_count": null,
   "id": "7f4c2044-5bb3-432a-9d8c-41fe0630aea5",
   "metadata": {},
   "outputs": [],
   "source": []
  }
 ],
 "metadata": {
  "kernelspec": {
   "display_name": "Python 3 (ipykernel)",
   "language": "python",
   "name": "python3"
  },
  "language_info": {
   "codemirror_mode": {
    "name": "ipython",
    "version": 3
   },
   "file_extension": ".py",
   "mimetype": "text/x-python",
   "name": "python",
   "nbconvert_exporter": "python",
   "pygments_lexer": "ipython3",
   "version": "3.11.5"
  }
 },
 "nbformat": 4,
 "nbformat_minor": 5
}
