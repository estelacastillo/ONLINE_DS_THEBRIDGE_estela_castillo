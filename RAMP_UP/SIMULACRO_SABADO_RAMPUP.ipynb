{
 "cells": [
  {
   "cell_type": "code",
   "execution_count": 2,
   "id": "530d4e7a-15bd-47fa-99b5-41d8452029aa",
   "metadata": {},
   "outputs": [
    {
     "name": "stdout",
     "output_type": "stream",
     "text": [
      "Bienvenido Estela Castillo Pernia. Mucha suerte!\n"
     ]
    }
   ],
   "source": [
    "# Escribe tu nombre y apellidos (apellido si solo tienes uno) en las variables:\n",
    "nombre = \"Estela\"\n",
    "apellidos = \"Castillo Pernia\"\n",
    "# Solo ejecutar\n",
    "nombre_apellidos = nombre + ' ' + apellidos\n",
    "print(\"Bienvenido\", nombre_apellidos + '. Mucha suerte!')"
   ]
  },
  {
   "cell_type": "markdown",
   "id": "e3550dc0-52c0-455f-9730-ef8e7c89d52a",
   "metadata": {},
   "source": [
    "**Ejercicio 1: Calculadoras (3 puntos)**\n",
    "Construye un programa que:\n",
    "1. Salude al usuario por su nombre\n",
    "2. Le pregunte si quiere sumar, restar, multiplicar o dividir\n",
    "3. Pida que introduzca 2 números de manera sucesiva\n",
    "4. Devuelva el resultado de manera formal con un mensaje apropiado"
   ]
  },
  {
   "cell_type": "code",
   "execution_count": 5,
   "id": "1206e0fd-5b7d-4e74-9607-86a704065d08",
   "metadata": {},
   "outputs": [
    {
     "name": "stdin",
     "output_type": "stream",
     "text": [
      "¿Cómo te llamas? Estela\n"
     ]
    },
    {
     "name": "stdout",
     "output_type": "stream",
     "text": [
      "Hola,  Estela\n"
     ]
    },
    {
     "name": "stdin",
     "output_type": "stream",
     "text": [
      "¿Qué operación quieres hacer? (sumar, restar, multiplicar o dividir)  sumar\n",
      "Introduce el primer número:  1\n",
      "Introduce el segundo número:  2\n"
     ]
    },
    {
     "name": "stdout",
     "output_type": "stream",
     "text": [
      "La suma de 1.0 y 2.0 es 3.0.\n"
     ]
    }
   ],
   "source": [
    "#Saludar al usuario por su nombre\n",
    "\n",
    "nombre = input(\"¿Cómo te llamas?\")\n",
    "print(\"Hola, \", nombre)\n",
    "\n",
    "#Preguntar si quiere sumar, restar, multiplicar o dividir\n",
    "      \n",
    "operacion = input(\"¿Qué operación quieres hacer? (sumar, restar, multiplicar o dividir) \")\n",
    "operacion = operacion.lower() #Convertir a minúsculas\n",
    "if operacion not in [\"sumar\", \"restar\", \"multiplicar\", \"dividir\"]: #Comprueba que la operación es válida\n",
    "    print(\"La operación no es válida.\")\n",
    "    exit() \n",
    "    \n",
    "#Pedir que introduzca 2 números de manera sucesiva\n",
    "\n",
    "num1 = float(input(\"Introduce el primer número: \")) \n",
    "num2 = float(input(\"Introduce el segundo número: \")) \n",
    "\n",
    "#Realizar la operación y devolver el resultado de manera formal\n",
    "\n",
    "if operacion == \"sumar\":\n",
    "    resultado = num1 + num2\n",
    "    print(\"La suma de \" + str(num1) + \" y \" + str(num2) + \" es \" + str(resultado) + \".\")\n",
    "elif operacion == \"restar\":\n",
    "    resultado = num1 - num2\n",
    "    print(\"La resta de \" + str(num1) + \" y \" + str(num2) + \" es \" + str(resultado) + \".\")\n",
    "elif operacion == \"multiplicar\":\n",
    "    resultado = num1 * num2\n",
    "    print(\"El producto de \" + str(num1) + \" y \" + str(num2) + \" es \" + str(resultado) + \".\")\n",
    "else: \n",
    "    if num2 == 0: #Evita la división por cero\n",
    "        print(\"No se puede dividir por cero.\")\n",
    "        exit() \n",
    "    resultado = num1 / num2\n",
    "    print(\"El cociente de \" + str(num1) + \" y \" + str(num2) + \" es \" + str(resultado) + \".\")"
   ]
  },
  {
   "cell_type": "markdown",
   "id": "82b165f6-73ac-4a46-aaed-9f26d940ea88",
   "metadata": {},
   "source": [
    "**Ejercicio 2** Crear un programa que calcule la cuota de una hipoteca\n",
    "Las cuotas hipotecarias se calculan utilizando la fórmula del interés francés.\n",
    "\n",
    "La fórmula del interés francés es la siguiente:\n",
    " \n",
    " \n",
    "\n",
    "C = cuota a pagar (mensual)\n",
    "V = volumen del préstamo hipotecario\n",
    "i = tipo de interés del período (mensual)\n",
    "n = número de cuotas (mensuales)\n",
    "\n",
    "1. Crea un programa que solicite al usuario los datos de su hipoteca mediante input() los datos (volumen, interés anual, y plazo en años) y le devuelva la cuota mensual a pagar. No es necesario encapsularlo en funciones. (0.4)\n",
    " \n",
    "2. Crea una función calcular_hip que realiza el cálculo y cuyos argumentos de entrada sean volumen, interes_anual y años, devolviendo la couta mensual(float). El argumento de años deberá de tener un valor por defecto de 30. Documenta la función con el estilo de Google. (0.4)\n",
    "\n",
    "3. Calcula la cuota y guárdala en la variable res_cuota si la cantidad de la hipoteca son 350000 euros, el interés anual es del 5% y la quiere pagar en 20 años a partir de la función calcular_hip. (0.4)\n",
    " \n",
    "4. Crea una función gasto_vivienda, con dos argumentos de entrada ingreso y lista_hip. Esta lista tendrá los 3 valores de los argumentos de entrada de calcular_hip, llamando a esta función desde dentro de gasto_vivienda. Tiene que devolver el valor del porcentaje de gasto en la hipoteca respecto a los ingresos. (Entre 0 y 1, es decir 0.5 si es del 50%) Documenta la función. (0.4)\n",
    " \n",
    "5. Calcula el porcentaje de gasto en la hipoteca si el ingreso es de 1700 euros y guárdalo en la variable res_porcentaje a partir de la función gasto_vivienda. (0.4)"
   ]
  },
  {
   "cell_type": "code",
   "execution_count": null,
   "id": "de5b1120-40b1-44ca-98cc-ec9eca20ddf9",
   "metadata": {},
   "outputs": [],
   "source": [
    "volumen = float(input(\"Introduce el volumen del préstamo hipotecario: \"))\n",
    "interes_anual = float(input(\"Introduce el tipo de interés anual: \"))\n",
    "plazo = int(input(\"Introduce el plazo de la hipoteca en años: \"))\n",
    "n = plazo * 12 #Calcula el numero de cuotas mensuales\n",
    "i = interes_anual / 100 / 12 # Calcula el tipo de interés mensual\n",
    "c = volumen * i / (1 - (1 + i) ** (-n)) #Calcular la cuota mensual usando la fórmula del interés francés\n",
    "print(f\"La cuota mensual a pagar es de {} euros.\")\n",
    "\n",
    "def calcular_hip(capital, interes, años):\n",
    "  interes = interes / 12 #se convierte el interés anual en mensual\n",
    "  periodos = años * 12 #se pasa a número de meses\n",
    "  cuota = (capital * interes) / (1 - (1 + interes) ** (-periodos)) \n",
    "  return cuota \n",
    "def gasto_vivienda(ingreso, lista_hip):\n",
    "  cuota_hip = calcular_hip(lista_hip[0], lista_hip[1], lista_hip[2])\n",
    "  porcentaje = (cuota_hip / ingreso) * 100 #se calcula el porcentaje de gasto\n",
    "  return porcentaje "
   ]
  }
 ],
 "metadata": {
  "kernelspec": {
   "display_name": "Python 3 (ipykernel)",
   "language": "python",
   "name": "python3"
  },
  "language_info": {
   "codemirror_mode": {
    "name": "ipython",
    "version": 3
   },
   "file_extension": ".py",
   "mimetype": "text/x-python",
   "name": "python",
   "nbconvert_exporter": "python",
   "pygments_lexer": "ipython3",
   "version": "3.11.5"
  }
 },
 "nbformat": 4,
 "nbformat_minor": 5
}
