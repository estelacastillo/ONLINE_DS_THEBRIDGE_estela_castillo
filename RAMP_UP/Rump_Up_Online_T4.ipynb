{
 "cells": [
  {
   "cell_type": "code",
   "execution_count": 1,
   "id": "3af2a4f6-3483-446b-b46a-16dd4fd8cadc",
   "metadata": {},
   "outputs": [
    {
     "name": "stdout",
     "output_type": "stream",
     "text": [
      "Hola, Estela Castillo Pernia, mucho ánimo. Solo hay victorias o aprendizajes.\n",
      "Y recuerda que nos dirá más de tu capacidad de desarrollar código cualquier cosa que escribas que una celda vacía.\n",
      "Ah, Estela y no hay límites al número de celdas que quieras usar.\n"
     ]
    }
   ],
   "source": [
    "nombre = \"Estela\"\n",
    "apellidos = \"Castillo Pernia\"\n",
    "print(f\"Hola, {nombre} {apellidos}, mucho ánimo. Solo hay victorias o aprendizajes.\")\n",
    "print(\"Y recuerda que nos dirá más de tu capacidad de desarrollar código cualquier cosa que escribas que una celda vacía.\")\n",
    "print(f\"Ah, {nombre} y no hay límites al número de celdas que quieras usar.\")"
   ]
  },
  {
   "cell_type": "markdown",
   "id": "db94e502-3782-43d0-b945-a877f09f5357",
   "metadata": {},
   "source": [
    "**PARTE I. VARIABLES Y COLECCIONES [3.5 puntos]**\n"
   ]
  },
  {
   "cell_type": "markdown",
   "id": "136a5049-c35e-416c-8fb6-7162893940ce",
   "metadata": {},
   "source": [
    "**Ejercicio 1.1 (1 punto)**\n",
    "Vamos a completar tu ficha de cliente. Para ello:\n",
    "\n",
    "1. Crea una variable edad de tipo int y asignale tu edad (o la que quieras tener)\n",
    "2. Crea una variable altura de tipo float y asignale tu altura en el formato (metros.centimetros es decir 1 metro 80 sería 1.8)\n",
    "3. Crea una lista pertenencias con los 4 objetos más valiosos para ti (o con cuatro cosas tuyas que te gusten)\n",
    "4. Crea otra lista valor con el valor en € por el que venderías cada uno de esos objetos. Pon los valores en el mismo orden que los objetos.\n",
    "5. Crea una tupla personas_cercanas con los nombres de 3 personas por las que tengas mucho cariño o amistad o simplemente con 3 personas de tu familia.\n",
    "6. Asigna a la variable regalo el tercer objeto de pertencias\n",
    "7. Asigna a la variable para a la primera persona de las personas cercanas.\n",
    "8. Haz una sub_lista que contenga sólo las dos primeras pertenencias, hazlo con un slicing de la lista inicial. Llamala preferidas\n",
    "9. Entrega el regalo a para, es decir, imprime por pantalla de dos formas diferentes: \"yo, tu_nombre, te regalo esto regalo a ti, nombre_persona_regalada\" (usa las variables adecuadas y recuerda que tu nombre ya lo tienes en una variable si has seguido las instrucciones)"
   ]
  },
  {
   "cell_type": "code",
   "execution_count": 29,
   "id": "9cc938d8-f263-40f3-b1e5-46224d3c230d",
   "metadata": {},
   "outputs": [
    {
     "name": "stdout",
     "output_type": "stream",
     "text": [
      "Yo Estela te regalo este libro a ti, Alicia\n"
     ]
    }
   ],
   "source": [
    "edad = 28 \n",
    "altura = 1.70\n",
    "pertenencias = [\"movil\", \"ordenador\", \"libro\", \"coche\"]\n",
    "valor = [200, 1000, 30, 2500]\n",
    "personas_cercanas = (\"Alicia\", \"Maria\", \"Daymer\")\n",
    "regalo = pertenencias[2]\n",
    "para = personas_cercanas[0]\n",
    "preferidas = pertenencias[0:2]\n",
    "print(\"Yo\", nombre, \"te regalo este\", regalo, \"a ti,\", para) "
   ]
  },
  {
   "cell_type": "markdown",
   "id": "619f4be9-6f9f-4e9f-a7ad-c6bb4524bd16",
   "metadata": {},
   "source": [
    "**Ejercicio 1.2 (1.5 punto)**\n",
    "Considerando las variables del ejercicio anterior y las que ya hayas creado antes:\n",
    "1. Asigna a valores_ordenados la lista valor ordenada de mayor a menor (ojo, valores_ordenados debe contener la lista ordenada, no debe contener None después de la asignación).\n",
    "2. Muestra valores_ordenados usando un print. [Se puntuará que además se haga cambiando el separador de la lista por \";\" (esto es bonus +0.2)]\n",
    "3. A partir de valores_ordenados, crea otra lista cosas_ordenadas de forma que siga el orden de valores_ordenados (que el primer elemento de cosas_ordenadas sea el de mayor valor, el segundo el de segundo valor, etc). Hazlo \"a mano\".\n",
    "4. Cambia, de alguna forma, el nombre de la 1 persona por el de Jaime de manera que personas_cercanas siga siendo una tupla pero con el primer elemento \"Jaime\"\n",
    "5. Concatena las dos listas de valores la ordenada y la que no lo esta.\n",
    "6. Regálale dos objetos a Jaime, imprimiendo por pantalla “A ti Jaime te regalo: nombre del objeto”. Hazlo usando variables, no las cadenas directamente\n",
    "7. Elimina esos dos objetos de la lista duplicada de valores (es decir elimina el valor de esos dos objetos). Hazlo de dos formas diferentes.\n",
    "8. Finalmente comprueba si puedes emplear los dos tickets para atracciones que te regala Jaime: (usa dos comparaciones booleanas)\n",
    "Ticket1 -> Tren del terror, altura minima: 1 metro 50, edad minima: 15 Ticket2 -> Alicia en el pais de Oz, altura maxima: 1 metro 90, edad maxima: 35"
   ]
  },
  {
   "cell_type": "code",
   "execution_count": 19,
   "id": "2f2be6c6-a373-4d5f-b273-8299f42ec319",
   "metadata": {},
   "outputs": [
    {
     "name": "stdout",
     "output_type": "stream",
     "text": [
      "[2500, 1000, 200, 30]\n",
      "['coche', 'ordenador', 'movil', 'libro']\n",
      "('Jaime', 'Maria', 'Daymer')\n",
      "[200, 1000, 30, 2500, 2500, 1000, 200, 30]\n",
      "A ti Jaime te regalo: movil\n",
      "A ti Jaime te regalo: ordenador\n",
      "Puedes usar el ticket 1 para el Tren del terror\n",
      "Puedes usar el ticket 2 para Alicia en el país de Oz\n"
     ]
    }
   ],
   "source": [
    "valor = [200, 1000, 30, 2500]\n",
    "valores_ordenados = sorted(valor, reverse=True)\n",
    "print(valores_ordenados)\n",
    "cosas_ordenadas = []\n",
    "for v in valores_ordenados:\n",
    "  i = valor.index(v) #buscamos el índice del valor en la lista valor\n",
    "  o = pertenencias[i] #entramos al objeto con ese indice\n",
    "  cosas_ordenadas.append(o) #añadimos el objeto a la lista cosas_ordenadas\n",
    "print(cosas_ordenadas)\n",
    "\n",
    "personas_cercanas = (\"Alicia\", \"Maria\", \"Daymer\")\n",
    "lista_personas = list(personas_cercanas) \n",
    "lista_personas[0] = \"Jaime\" #cambia el primer elemento por \"Jaime\"\n",
    "personas_cercanas = tuple(lista_personas) #convierte la lista en una tupla\n",
    "print(personas_cercanas) \n",
    "\n",
    "valores_concatenados = valor + valores_ordenados #concatena las dos listas de valores\n",
    "print(valores_concatenados) \n",
    "\n",
    "objeto1 = \"movil\" \n",
    "objeto2 = \"ordenador\" \n",
    "print(\"A ti Jaime te regalo: {}\".format(objeto1)) \n",
    "print(\"A ti Jaime te regalo: {}\".format(objeto2)) \n",
    "\n",
    "altura = 1.70\n",
    "edad = 28\n",
    "#comprueba si puedes usar el ticket 1\n",
    "if altura >= 1.50 and edad >= 15: \n",
    "    print(\"Puedes usar el ticket 1 para el Tren del terror\") \n",
    "else: # si no los cumples\n",
    "    int(\"No puedes usar el ticket 1 para el Tren del terror\")\n",
    "#comprueba si puedes usar el ticket 2\n",
    "if altura <= 1.9 and edad <= 35: \n",
    "    print(\"Puedes usar el ticket 2 para Alicia en el país de Oz\") \n",
    "else: \n",
    "    print(\"No puedes usar el ticket 2 para Alicia en el país de Oz\") "
   ]
  },
  {
   "cell_type": "markdown",
   "id": "376e9ea5-e3a2-4cea-892a-d27e73922b79",
   "metadata": {},
   "source": [
    "**Ejercicio 1.3 (1 punto)**\n",
    "1. Crea un diccionario vacio\n",
    "2. Añade un campo/clave etapa de la vida, dejalo vacio tipo string.\n",
    "3. Añade un campo/clave años, dale un valor int, el que tu quieras.\n",
    "4. Añade un campo/clave fiesta favorita, dale un valor vacio tipo string.\n",
    "5. Añade un campo/clave motivo, dale un valor vacio tipo string.\n",
    "6. Crea una lista vacía llamada lista_fiestas\n",
    "7. Añade tres diccionarios a la lista con las siguientes etapas Infancia, Adolescencia, Juventud y los años, 10, 16, 25 (o tu edad actual :-) si es menor.\n",
    "8. Completa los otros dos campos de cada diccionario.\n",
    "9. Imprime por pantalla, las claves, los valores y los pares de clave y valor. Hazlo uno a uno."
   ]
  },
  {
   "cell_type": "code",
   "execution_count": 3,
   "id": "cc862057-45ea-4d1e-b56c-7228cb4a8b4b",
   "metadata": {},
   "outputs": [
    {
     "name": "stdout",
     "output_type": "stream",
     "text": [
      "Claves: ['etapa de la vida', 'años', 'fiesta favorita', 'motivo']\n",
      "Valores: ['Infancia', 10, 'Navidad', 'Tiempo en familia']\n",
      "etapa de la vida: Infancia\n",
      "años: 10\n",
      "fiesta favorita: Navidad\n",
      "motivo: Tiempo en familia\n",
      "Claves: ['etapa de la vida', 'años', 'fiesta favorita', 'motivo']\n",
      "Valores: ['Adolescencia', 16, 'Cumpleaños', 'Tiempo con amigos']\n",
      "etapa de la vida: Adolescencia\n",
      "años: 16\n",
      "fiesta favorita: Cumpleaños\n",
      "motivo: Tiempo con amigos\n",
      "Claves: ['etapa de la vida', 'años', 'fiesta favorita', 'motivo']\n",
      "Valores: ['Juventud', 25, 'Cumpleaños de mi abuelo', 'Tiempo de descuento']\n",
      "etapa de la vida: Juventud\n",
      "años: 25\n",
      "fiesta favorita: Cumpleaños de mi abuelo\n",
      "motivo: Tiempo de descuento\n"
     ]
    }
   ],
   "source": [
    "diccionario = {}\n",
    "diccionario['etapa de la vida'] = \"\"\n",
    "diccionario['años'] = 6\n",
    "diccionario['fiesta favorita'] = \"\"\n",
    "diccionario['motivo'] = \"\"\n",
    "\n",
    "lista_fiestas = []\n",
    "lista_fiestas.append({'etapa de la vida': 'Infancia', 'años': 10, 'fiesta favorita': 'Navidad', 'motivo': 'Tiempo en familia'})\n",
    "lista_fiestas.append({'etapa de la vida': 'Adolescencia', 'años': 16, 'fiesta favorita': 'Cumpleaños', 'motivo': 'Tiempo con amigos'})\n",
    "lista_fiestas.append({'etapa de la vida': 'Juventud', 'años': 25, 'fiesta favorita': 'Cumpleaños de mi abuelo', 'motivo': 'Tiempo de descuento'})\n",
    "\n",
    "for fiesta in lista_fiestas:\n",
    "    print(\"Claves:\", list(fiesta.keys()))\n",
    "    print(\"Valores:\", list(fiesta.values()))\n",
    "    for clave, valor in fiesta.items():\n",
    "        print(f\"{clave}: {valor}\")"
   ]
  },
  {
   "cell_type": "markdown",
   "id": "71fdd777-d069-48fd-9e6e-30f9cfe9c171",
   "metadata": {},
   "source": [
    "**PARTE II. CONTROL DE FLUJOS [3.5 puntos, Bonus: hasta 3.5 puntos más]**\n"
   ]
  },
  {
   "cell_type": "markdown",
   "id": "2b99c4c2-3d0d-418a-93e2-7f373809b33d",
   "metadata": {},
   "source": [
    "**Parte I (3 puntos)**\n",
    "Haz un programa que cumpla las siguientes instrucciones:\n",
    "1. Pregunte una lista de números enteros positivos al usuario (números separados por comas)\n",
    "2. Luego pregunte por un numero con el mensaje \"Y ahora de que numero quieres saber si son multiplo\". Almacena ese numero en una variable multiplo_de\n",
    "3. El programa debe devolver una lista con los números de la lista introducida en 1. que sean multiplos del valor almacenado en multiplo_de (Recuerda que un número es multiplo de otro cuando al dividir el primero por el segundo la división es exacta, es decir el resto es cero)\n",
    "4. Si la lista obtenida en 3, está vacía además el programa debe mostrar por pantalla el mensaje: \"Hmmm, parece que no hay multiplos de <multiplo_de> en la lista\". No debe poner el texto <multiplo_de> debe poner el valor de la variable (como ya imaginabas)\n",
    "5. Si la lista obtenida en 3, es la misma que la original, el programa debe mostrar por pantalla el mensaje: \"Jackpot, Rubyduby, todos son multiplos de <multiplo_de>\". Igualmente debe poner el valor de la variable, no el texto <multiplo_de> (como ya imaginabas)\n",
    "6. Muestra un ejemplo del caso descrito en 4 y del caso descrito en 5."
   ]
  },
  {
   "cell_type": "code",
   "execution_count": 5,
   "id": "855ed5f4-9a80-46bc-8c86-67a748bff3cf",
   "metadata": {},
   "outputs": [
    {
     "name": "stdin",
     "output_type": "stream",
     "text": [
      "Introduce una lista de números enteros positivos separados por comas:  1, 2, 3, 4, 8\n",
      "Y ahora de qué número quieres saber si son múltiplos:  2\n"
     ]
    },
    {
     "name": "stdout",
     "output_type": "stream",
     "text": [
      "Los múltiplos de 2 en la lista son: [2, 4, 8]\n"
     ]
    }
   ],
   "source": [
    "#Imprime por pantalla el ejemplo descrito en el caso 4\n",
    "#Pregunta una lista de números enteros positivos separados por comas al usuario\n",
    "lista = input(\"Introduce una lista de números enteros positivos separados por comas: \")\n",
    "#Convierte la lista en una lista de enteros\n",
    "lista = [int(n) for n in lista.split(\",\")]\n",
    "#Pregunta por un número del que queremos saber si son múltiplos\n",
    "multiplo_de = int(input(\"Y ahora de qué número quieres saber si son múltiplos: \"))\n",
    "multiplos = [] \n",
    "for n in lista:\n",
    "  if n % multiplo_de == 0:   #Si el resto de la división es cero, es múltiplo\n",
    "    multiplos.append(n) #Añade el número a la lista de múltiplos\n",
    "print(\"Los múltiplos de\", multiplo_de, \"en la lista son:\", multiplos)\n",
    "if len(multiplos) == 0: #si la lista esta vacia\n",
    "  print(\"Hmmm, parece que no hay múltiplos de\", multiplo_de, \"en la lista\")\n",
    "elif multiplos == lista: \n",
    "  print(\"Jackpot, Rubyduby, todos son múltiplos de\", multiplo_de)"
   ]
  },
  {
   "cell_type": "code",
   "execution_count": 6,
   "id": "a2097caf-1046-4994-b9ca-c0e0c7ae7d4b",
   "metadata": {},
   "outputs": [
    {
     "name": "stdin",
     "output_type": "stream",
     "text": [
      "Introduce una lista de números enteros positivos separados por comas:  3, 6, 9, 12\n",
      "Y ahora de qué número quieres saber si son múltiplos:  3\n"
     ]
    },
    {
     "name": "stdout",
     "output_type": "stream",
     "text": [
      "Los múltiplos de 3 en la lista son: [3, 6, 9, 12]\n",
      "Jackpot, Rubyduby, todos son múltiplos de 3\n"
     ]
    }
   ],
   "source": [
    "#imprime por pantalla un ejemplo del caso 5\n",
    "lista = input(\"Introduce una lista de números enteros positivos separados por comas: \")\n",
    "lista = [int(n) for n in lista.split(\",\")]\n",
    "multiplo_de = int(input(\"Y ahora de qué número quieres saber si son múltiplos: \"))\n",
    "multiplos = [] \n",
    "for n in lista:\n",
    "  if n % multiplo_de == 0:   #Si el resto de la división es cero, es múltiplo\n",
    "    multiplos.append(n) #Añade el número a la lista de múltiplos\n",
    "print(\"Los múltiplos de\", multiplo_de, \"en la lista son:\", multiplos)\n",
    "if len(multiplos) == 0: #si la lista esta vacia\n",
    "  print(\"Hmmm, parece que no hay múltiplos de\", multiplo_de, \"en la lista\")\n",
    "elif multiplos == lista: #si la lista de múltiplos es igual a la original\n",
    "  print(\"Jackpot, Rubyduby, todos son múltiplos de\", multiplo_de)"
   ]
  },
  {
   "cell_type": "markdown",
   "id": "2cbb0f30-22c7-438e-b205-72398dc210e2",
   "metadata": {},
   "source": [
    "**Parte II (0.5 puntos)**\n",
    "Completa el programa para que puedas repetir la operación tantas veces como quieras hasta que en cualquier pregunta introduzcas las palabra \"exit\" (sin las comillas)"
   ]
  },
  {
   "cell_type": "code",
   "execution_count": 22,
   "id": "c0508f9d-8670-47ce-8223-4ac8120a37ec",
   "metadata": {},
   "outputs": [
    {
     "name": "stdin",
     "output_type": "stream",
     "text": [
      "¿Quieres seguir? Si no quieres, escribe: exit. Si quieres seguir, escribe: si. si\n",
      "Introduce una lista de números enteros positivos separados por comas:  1, 2, 3\n",
      "Y ahora de qué número quieres saber si son múltiplos:  1\n"
     ]
    },
    {
     "name": "stdout",
     "output_type": "stream",
     "text": [
      "Los números de la lista que son múltiplos de 1 son: [1, 2, 3]\n",
      "Jackpot, Rubyduby, todos son múltiplos de 1\n"
     ]
    },
    {
     "name": "stdin",
     "output_type": "stream",
     "text": [
      "¿Quieres seguir? Si no quieres, escribe: exit. Si quieres seguir, escribe: si. exit\n"
     ]
    }
   ],
   "source": [
    "while True:\n",
    "    #Pregunta si se quiere continuar o salir\n",
    "    opcion = input(\"¿Quieres seguir? Si no quieres, escribe: exit. Si quieres seguir, escribe: si.\")\n",
    "    if opcion.lower() == \"exit\": #al escribir exit, se acaba el bucle\n",
    "        break\n",
    "    elif opcion.lower() == \"si\": #al escribir si, el bucle continua\n",
    "        numeros = input(\"Introduce una lista de números enteros positivos separados por comas: \")\n",
    "        numeros = [int(n) for n in numeros.split(\",\")]\n",
    "        multiplo_de = int(input(\"Y ahora de qué número quieres saber si son múltiplos: \"))\n",
    "        multiplos = []\n",
    "        for n in numeros:\n",
    "            if n % multiplo_de == 0:\n",
    "                multiplos.append(n)\n",
    "        print(\"Los números de la lista que son múltiplos de\", multiplo_de, \"son:\", multiplos)\n",
    "        if len(multiplos) == 0:\n",
    "            print(\"Hmmm, parece que no hay múltiplos de\", multiplo_de, \"en la lista\")\n",
    "        elif multiplos == numeros:\n",
    "            print(\"Jackpot, Rubyduby, todos son múltiplos de\", multiplo_de)\n",
    "    else: #si se escribe algo que no es exit o si, imprime por pantalla un error\n",
    "        print(\"Opción no válida. Introduce si o exit.\")"
   ]
  },
  {
   "cell_type": "markdown",
   "id": "a7ac5f63-11cc-4936-8db5-dc980d74a07a",
   "metadata": {},
   "source": [
    "**PARTE III. FUNCIONES (y todo lo anterior) [4 + 1.5 Puntos]**\n"
   ]
  },
  {
   "cell_type": "markdown",
   "id": "82db36dc-7238-47e5-8d97-c44fe92fba44",
   "metadata": {},
   "source": [
    "**Ejercicio 3 (4 puntos)**\n",
    "Para mejorar nuestras inversiones bursátiles hemos contratado un sistema que nos envía cada cierto periodo de tiempo una tabla con información de estimaciones de subidas o bajadas de determinadas compañías. Aquí tienes la última recibida:\n",
    "\n",
    "Compañía\tEstimación variación precio acción\n",
    "Acciona\t2,75\n",
    "Sabadell\t-1.46\n",
    "ACS\t-3.4\n",
    "Jaime Co.\t-5\n",
    "Grifols\t-3.2\n",
    "Naturgy\t1.56\n",
    "\n",
    "Necesitamos crear el código necesario para poder saber en qué invertir, y eso vas a hacer.\n",
    "1. Crea un diccionario, llamado estimaciones_bursatiles que recoja la información de la tabla, de forma que las claves sean los nombres de las empresas de la tabla y los valores las estimaciones de la misma tabla. Los valores deben ser floats. Hazlo a mano, claro. (0.75 puntos)\r\n",
    " 2. \r\n",
    "Crea un programa que recorra el diccionario y que para las empresas con una estimacion inferior a -5 imprima el mensaje \"Desinvierta en fuertemente\", para las que esten entre -3 y -5 imprima el mensaje \"Desinvierta en moderadamente\" y para el resto que sea negativo pero superior a -3 (es decir estén entre 0 y -3), \"Desinvierta en un poquito, pero no se pase\". Para las empresas con estimaciones positivas, no debe hacer nada(1 punto)\r",
    "3. \n",
    " \r\n",
    "Crea un función consejos_de_inversion, que reciba como parámetros un diccionario con una estructura similar al creado en 1., un argumento umbral_fuerte y un umbral_moderado. La funció debe hacer lo mismo que el código anterior solo que se utilizará umbral_fuerte en vez del -5 mencionado en el apartado anterior y umbral_moderado en vez del -3 mencionado en el apartado anterior. La función muestra los consejos por pantalla, pero no devuelve nada. (1.25 pun\n",
    "   \n",
    "5. Prueba la función con el diccionario creado en 1, con los valores de umbral_fuerte a 6 y umbral_moderado a 2.5 (0.25 puntos) \n",
    "6. \r\n",
    "Nos han pasado la última estimación pero nos la han dado como una lista de tuplas. Convierte la lista de tuplas en un diccionario y luego muestra los consejos de inversión, empleando la función o el programa, con umbrales: -4.5 y -1.25 para fuerte y moderado respectivamente.tos)\n",
    "               "
   ]
  },
  {
   "cell_type": "code",
   "execution_count": 28,
   "id": "bfd1843f-5b3f-48e6-a71b-088dea4982f1",
   "metadata": {},
   "outputs": [
    {
     "name": "stdout",
     "output_type": "stream",
     "text": [
      "Desinvierta en un poquito, pero no se pase\n",
      "Desinvierta en moderadamente\n",
      "Desinvierta en moderadamente\n",
      "Desinvierta en moderadamente\n",
      "{'TheBridge': 3.35, 'Bankia': -3.3, 'OpenAI': 9.3, 'ATT': -1.15, 'Vodafone': -11.15}\n"
     ]
    }
   ],
   "source": [
    "#creacion del diccionario estimaciones_bursatiles con la informacion de la tabla\n",
    "estimaciones_bursatiles = {\"Acciona\": 2.75, \"Sabadell\": -1.46, \"ACS\": -3.4, \"Jaime Co\": -5, \"Grifols\": -3.2, \"Naturgy\": 1.56}\n",
    "\n",
    "for clave, valor in estimaciones_bursatiles.items():\n",
    "    if valor < -5: #si la estimaciones es menor que -5\n",
    "        print(\"Desinvierta en fuertemente\")\n",
    "    elif -5 <= valor < -3: #si la estimacion esta entre -5 y -3\n",
    "        print(\"Desinvierta en moderadamente\")\n",
    "    elif -3 <= valor < 0: #si la estimacion esta entre -3 y 0\n",
    "        print(\"Desinvierta en un poquito, pero no se pase\")\n",
    "#creacion de la funcion consejos_de_inversion\n",
    "def consejos_de_inversion(diccionario, umbral_fuerte, umbral_moderado):\n",
    "    for clave, valor in diccionario.items():\n",
    "        if valor < umbral_fuerte: ##si la estimacion esta por debajo del umbral_fuerte\n",
    "            print(\"Desinvierta en fuertemente\")\n",
    "        elif umbral_fuerte <= valor < umbral_moderado: #si la estimacion esta entre el umbral_fuerte y el umbral_moderado\n",
    "            print(\"Desinvierta en moderadamente\")\n",
    "        elif umbral_moderado <= valor < 0: #si la estimacion esta entre el valor moderado y 0\n",
    "            print(\"Desinvierta en un poquito, pero no se pase\")\n",
    "#nueva estimacion en una lista de tuplas\n",
    "nueva_estimacion = [(\"TheBridge\",3.35),(\"Bankia\",-3.3),(\"OpenAI\",9.3),(\"ATT\",-1.15),(\"Vodafone\",-11.15)]\n",
    "diccionario = dict(nueva_estimacion) #pasamos de tupla a diccionario\n",
    "print(diccionario)"
   ]
  },
  {
   "cell_type": "code",
   "execution_count": null,
   "id": "5b3edd7e-efa7-416c-8101-7266212c4e14",
   "metadata": {},
   "outputs": [],
   "source": []
  }
 ],
 "metadata": {
  "kernelspec": {
   "display_name": "Python 3 (ipykernel)",
   "language": "python",
   "name": "python3"
  },
  "language_info": {
   "codemirror_mode": {
    "name": "ipython",
    "version": 3
   },
   "file_extension": ".py",
   "mimetype": "text/x-python",
   "name": "python",
   "nbconvert_exporter": "python",
   "pygments_lexer": "ipython3",
   "version": "3.11.5"
  }
 },
 "nbformat": 4,
 "nbformat_minor": 5
}
