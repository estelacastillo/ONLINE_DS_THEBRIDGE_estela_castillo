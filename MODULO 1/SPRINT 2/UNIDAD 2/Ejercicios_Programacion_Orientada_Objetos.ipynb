{
 "cells": [
  {
   "cell_type": "markdown",
   "id": "494a11fa-a207-474b-9afb-08b3991bcef9",
   "metadata": {},
   "source": [
    "**EJERCICIO 1**"
   ]
  },
  {
   "cell_type": "code",
   "execution_count": null,
   "id": "f5566b1e-513f-41d1-b54e-20b2d63c925e",
   "metadata": {},
   "outputs": [],
   "source": [
    "class Tienda:\n",
    "    tipo = \"Electrodomésticos\"\n",
    "    abierta = True\n",
    "\n",
    "    def __init__(self, nombre, direccion, num_empleados, ventas):\n",
    "        self.nombre = nombre\n",
    "        self.direccion = direccion\n",
    "        self.num_empleados = num_empleados\n",
    "        self.ventas = ventas\n",
    "\n",
    "    def calcular_ventas_totales(self):\n",
    "        return sum(self.ventas) #devuelve un int con las ventas totales\n",
    "\n",
    "    def calcular_media_ventas_por_empleado(self):\n",
    "        return sum(self.ventas) / self.num_empleados #devuelve un int con la media de ventas de cada empleado\n",
    "\n",
    "    def obtener_nombre_y_direccion(self):\n",
    "         return f\"{self.nombre}, {self.direccion}\" #devuelve un string con el nombre y la direccion de la tienda\n",
    "\n",
    "    def obtener_ventas_ultimo_mes(self):\n",
    "        return self.ventas[-1] #devuelve un int con las ventas del ultimo mes\n",
    "\n",
    "    def proyectar_ventas(self, X): #x es el dinero invertido en marketing en la tienda\n",
    "        if X < 1000:\n",
    "            factor = 1.2\n",
    "        else:\n",
    "            factor = 1.5\n",
    "        nuevas_ventas = [v * factor for v in self.ventas] #devuelve el numero de ventas con el aumento\n",
    "        self.ventas = nuevas_ventas\n",
    "        return nuevas_ventas"
   ]
  },
  {
   "cell_type": "code",
   "execution_count": 3,
   "id": "ef3be93d-36b5-4622-bfc8-53521ddf5208",
   "metadata": {},
   "outputs": [],
   "source": [
    "#Crear tres tiendas con datos inventados\n",
    "tienda1 = Tienda(\"Tienda1\", \"Calle Asturias 97\", 20, [40000, 12736, 47822])\n",
    "tienda2 = Tienda(\"Tienda2\", \"Calle Cantabria 7\", 8, [83262, 98372, 27202])\n",
    "tienda3 = Tienda(\"Tienda3\", \"Avenida Galicia 4\", 50, [87343, 86634, 24353])"
   ]
  },
  {
   "cell_type": "code",
   "execution_count": 4,
   "id": "61d2fac7-3afd-4479-af24-27ab37fbcc22",
   "metadata": {},
   "outputs": [
    {
     "name": "stdout",
     "output_type": "stream",
     "text": [
      "100558\n",
      "5027.9\n",
      "Tienda1, Calle Asturias 97\n",
      "47822\n",
      "[60000.0, 19104.0, 71733.0]\n"
     ]
    }
   ],
   "source": [
    "#Comprobar todo lo implementado en la clase tienda en la tienda1\n",
    "print(tienda1.calcular_ventas_totales())\n",
    "print(tienda1.calcular_media_ventas_por_empleado())\n",
    "print(tienda1.obtener_nombre_y_direccion())\n",
    "print(tienda1.obtener_ventas_ultimo_mes())\n",
    "print(tienda1.proyectar_ventas(1000))"
   ]
  },
  {
   "cell_type": "code",
   "execution_count": 5,
   "id": "340aa472-8a38-431e-a7be-60555ac3df36",
   "metadata": {},
   "outputs": [
    {
     "name": "stdout",
     "output_type": "stream",
     "text": [
      "Tienda1, Calle Asturias 97 71733.0\n",
      "Tienda2, Calle Cantabria 7 27202\n",
      "Tienda3, Avenida Galicia 4 24353\n"
     ]
    }
   ],
   "source": [
    "#Calcular las ventas del último mes de todas las tiendas usando un bucle for\n",
    "for tienda in [tienda1, tienda2, tienda3]:\n",
    "    print(tienda.obtener_nombre_y_direccion(), tienda.obtener_ventas_ultimo_mes())"
   ]
  },
  {
   "cell_type": "code",
   "execution_count": 6,
   "id": "3ec99620-3132-467a-9954-0161c18695ff",
   "metadata": {},
   "outputs": [
    {
     "name": "stdout",
     "output_type": "stream",
     "text": [
      "Tienda3\n"
     ]
    }
   ],
   "source": [
    "#Imprimir por pantalla los nombres de las tiendas cuya dirección lleve el string \"Avenida\"\n",
    "for tienda in [tienda1, tienda3]:\n",
    "    if \"Avenida\" in tienda.direccion:\n",
    "        print(tienda.nombre)"
   ]
  },
  {
   "cell_type": "markdown",
   "id": "103c6bc4-07b8-4f6b-8e21-25c6cccfb6f9",
   "metadata": {},
   "source": [
    "***"
   ]
  },
  {
   "cell_type": "markdown",
   "id": "182554af-e647-4882-8e2d-2e0df0be87d3",
   "metadata": {},
   "source": [
    "**EJERCICIO 2**"
   ]
  },
  {
   "cell_type": "code",
   "execution_count": 11,
   "id": "89b6250a-1673-479c-be46-b28a6f04f839",
   "metadata": {},
   "outputs": [
    {
     "name": "stdout",
     "output_type": "stream",
     "text": [
      "Border Collie\n",
      "Marrón\n",
      "None\n",
      "4\n",
      "2\n",
      "2\n",
      "0\n"
     ]
    }
   ],
   "source": [
    "class Perro:\n",
    "    def __init__(self, raza, pelo=\"Marrón\", dueno=None):\n",
    "        self.raza = raza\n",
    "        self.pelo = pelo\n",
    "        self.dueno = dueno\n",
    "        self.patas = 4\n",
    "        self.orejas = 2\n",
    "        self.ojos = 2\n",
    "        self.velocidad = 0\n",
    "\n",
    "    def andar(self, aumento_velocidad): #se crea el metodo andar,  el argumento de entrada se le sumará a la velocidad que ya llevaba el perro\n",
    "        self.velocidad += aumento_velocidad\n",
    "\n",
    "    def parar(self): #se crea el metodo parar donde la velocidad se pone a 0\n",
    "        self.velocidad = 0\n",
    "\n",
    "    def ladrar(self, argumento): #se crea el metodo ladrar\n",
    "        return f\"GUAU! {argumento}\"\n",
    "        \n",
    "#implementa la clase perro y crea un objeto de tipo perro sin dueño\n",
    "perro = Perro(\"Border Collie\")\n",
    "\n",
    "#comprueba que estan bien todos los atributos\n",
    "print(perro.raza)\n",
    "print(perro.pelo)\n",
    "print(perro.dueno)\n",
    "print(perro.patas)\n",
    "print(perro.orejas)\n",
    "print(perro.ojos)\n",
    "print(perro.velocidad)"
   ]
  },
  {
   "cell_type": "code",
   "execution_count": 27,
   "id": "a1c997e3-afe3-4dd3-be70-945f10ba0d2e",
   "metadata": {},
   "outputs": [
    {
     "name": "stdout",
     "output_type": "stream",
     "text": [
      "300\n"
     ]
    }
   ],
   "source": [
    "#prueba que ande y su velocidad\n",
    "perro.andar(50)\n",
    "print(perro.velocidad) #sale 300 porque le he dado seis veces a Run y ha ido sumando 50 cada vez a la velocidad anterior"
   ]
  },
  {
   "cell_type": "code",
   "execution_count": 20,
   "id": "22a1356b-cc98-4daf-afb9-db37124cd09b",
   "metadata": {},
   "outputs": [
    {
     "name": "stdout",
     "output_type": "stream",
     "text": [
      "0\n"
     ]
    }
   ],
   "source": [
    "#paralo\n",
    "perro.parar()\n",
    "print(perro.velocidad)"
   ]
  },
  {
   "cell_type": "code",
   "execution_count": 28,
   "id": "2f45701b-f521-4d45-a9f8-497c2bfded72",
   "metadata": {},
   "outputs": [
    {
     "name": "stdout",
     "output_type": "stream",
     "text": [
      "GUAU! los perros no hablan\n"
     ]
    }
   ],
   "source": [
    "#comprobacion del metodo ladrar\n",
    "print(perro.ladrar(\"los perros no hablan\"))"
   ]
  }
 ],
 "metadata": {
  "kernelspec": {
   "display_name": "Python 3 (ipykernel)",
   "language": "python",
   "name": "python3"
  },
  "language_info": {
   "codemirror_mode": {
    "name": "ipython",
    "version": 3
   },
   "file_extension": ".py",
   "mimetype": "text/x-python",
   "name": "python",
   "nbconvert_exporter": "python",
   "pygments_lexer": "ipython3",
   "version": "3.11.5"
  }
 },
 "nbformat": 4,
 "nbformat_minor": 5
}
