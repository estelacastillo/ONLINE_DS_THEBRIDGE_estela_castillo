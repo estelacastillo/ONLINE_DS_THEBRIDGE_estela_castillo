{
 "cells": [
  {
   "cell_type": "code",
   "execution_count": 2,
   "metadata": {},
   "outputs": [],
   "source": [
    "import numpy as np\n",
    "import pandas as pd\n",
    "import seaborn as sns\n",
    "import matplotlib.pyplot as plt "
   ]
  },
  {
   "cell_type": "markdown",
   "metadata": {},
   "source": [
    "***PARTE 1: OBJETIVO***\n",
    "***"
   ]
  },
  {
   "cell_type": "markdown",
   "metadata": {},
   "source": [
    "El objetivo de este proyecto es intentar responder a la siguiente pregunta: ¿Cuál sería el lugar ideal para vivir? No es una pregunta sencilla de responder a priori pero quizá, como hipótesis, se podría decir que el lugar ideal para vivir sería un pais desarrollado con datos positivos en sus variables que lo avalen."
   ]
  },
  {
   "cell_type": "markdown",
   "metadata": {},
   "source": [
    "**PARTE 2: LIMPIEZA DE DATOS**\n",
    "***"
   ]
  },
  {
   "cell_type": "code",
   "execution_count": 29,
   "metadata": {},
   "outputs": [],
   "source": [
    "df_mundo = pd.read_csv('./data/world-data-2023.csv')\n"
   ]
  },
  {
   "cell_type": "code",
   "execution_count": 30,
   "metadata": {},
   "outputs": [
    {
     "name": "stdout",
     "output_type": "stream",
     "text": [
      "<class 'pandas.core.frame.DataFrame'>\n",
      "RangeIndex: 195 entries, 0 to 194\n",
      "Data columns (total 35 columns):\n",
      " #   Column                                     Non-Null Count  Dtype  \n",
      "---  ------                                     --------------  -----  \n",
      " 0   Country                                    195 non-null    object \n",
      " 1   Density\n",
      "(P/Km2)                            195 non-null    object \n",
      " 2   Abbreviation                               188 non-null    object \n",
      " 3   Agricultural Land( %)                      188 non-null    object \n",
      " 4   Land Area(Km2)                             194 non-null    object \n",
      " 5   Armed Forces size                          171 non-null    object \n",
      " 6   Birth Rate                                 189 non-null    float64\n",
      " 7   Calling Code                               194 non-null    float64\n",
      " 8   Capital/Major City                         192 non-null    object \n",
      " 9   Co2-Emissions                              188 non-null    object \n",
      " 10  CPI                                        178 non-null    object \n",
      " 11  CPI Change (%)                             179 non-null    object \n",
      " 12  Currency-Code                              180 non-null    object \n",
      " 13  Fertility Rate                             188 non-null    float64\n",
      " 14  Forested Area (%)                          188 non-null    object \n",
      " 15  Gasoline Price                             175 non-null    object \n",
      " 16  GDP                                        193 non-null    object \n",
      " 17  Gross primary education enrollment (%)     188 non-null    object \n",
      " 18  Gross tertiary education enrollment (%)    183 non-null    object \n",
      " 19  Infant mortality                           189 non-null    float64\n",
      " 20  Largest city                               189 non-null    object \n",
      " 21  Life expectancy                            187 non-null    float64\n",
      " 22  Maternal mortality ratio                   181 non-null    float64\n",
      " 23  Minimum wage                               150 non-null    object \n",
      " 24  Official language                          190 non-null    object \n",
      " 25  Out of pocket health expenditure           188 non-null    object \n",
      " 26  Physicians per thousand                    188 non-null    float64\n",
      " 27  Population                                 194 non-null    object \n",
      " 28  Population: Labor force participation (%)  176 non-null    object \n",
      " 29  Tax revenue (%)                            169 non-null    object \n",
      " 30  Total tax rate                             183 non-null    object \n",
      " 31  Unemployment rate                          176 non-null    object \n",
      " 32  Urban_population                           190 non-null    object \n",
      " 33  Latitude                                   194 non-null    float64\n",
      " 34  Longitude                                  194 non-null    float64\n",
      "dtypes: float64(9), object(26)\n",
      "memory usage: 53.4+ KB\n"
     ]
    }
   ],
   "source": [
    "df_mundo.info() #el dataset esta muy completo, tiene muy pocos nulos, se pueden usar todas las variables si es preciso\n",
    "#las columnas calling code, capital/major city, Largest city, Official language y abbreviation no me interesan para mi estudio, tengo que eliminarlas\n",
    "#eliminare los valores nulos\n"
   ]
  },
  {
   "cell_type": "code",
   "execution_count": 31,
   "metadata": {},
   "outputs": [
    {
     "data": {
      "text/plain": [
       "Index(['Country', 'Density\\n(P/Km2)', 'Abbreviation', 'Agricultural Land( %)',\n",
       "       'Land Area(Km2)', 'Armed Forces size', 'Birth Rate', 'Calling Code',\n",
       "       'Capital/Major City', 'Co2-Emissions', 'CPI', 'CPI Change (%)',\n",
       "       'Currency-Code', 'Fertility Rate', 'Forested Area (%)',\n",
       "       'Gasoline Price', 'GDP', 'Gross primary education enrollment (%)',\n",
       "       'Gross tertiary education enrollment (%)', 'Infant mortality',\n",
       "       'Largest city', 'Life expectancy', 'Maternal mortality ratio',\n",
       "       'Minimum wage', 'Official language', 'Out of pocket health expenditure',\n",
       "       'Physicians per thousand', 'Population',\n",
       "       'Population: Labor force participation (%)', 'Tax revenue (%)',\n",
       "       'Total tax rate', 'Unemployment rate', 'Urban_population', 'Latitude',\n",
       "       'Longitude'],\n",
       "      dtype='object')"
      ]
     },
     "execution_count": 31,
     "metadata": {},
     "output_type": "execute_result"
    }
   ],
   "source": [
    "df_mundo.columns"
   ]
  },
  {
   "cell_type": "code",
   "execution_count": 32,
   "metadata": {},
   "outputs": [
    {
     "name": "stdout",
     "output_type": "stream",
     "text": [
      "<class 'pandas.core.frame.DataFrame'>\n",
      "RangeIndex: 195 entries, 0 to 194\n",
      "Data columns (total 30 columns):\n",
      " #   Column                                     Non-Null Count  Dtype  \n",
      "---  ------                                     --------------  -----  \n",
      " 0   Country                                    195 non-null    object \n",
      " 1   Density\n",
      "(P/Km2)                            195 non-null    object \n",
      " 2   Agricultural Land( %)                      188 non-null    object \n",
      " 3   Land Area(Km2)                             194 non-null    object \n",
      " 4   Armed Forces size                          171 non-null    object \n",
      " 5   Birth Rate                                 189 non-null    float64\n",
      " 6   Co2-Emissions                              188 non-null    object \n",
      " 7   CPI                                        178 non-null    object \n",
      " 8   CPI Change (%)                             179 non-null    object \n",
      " 9   Currency-Code                              180 non-null    object \n",
      " 10  Fertility Rate                             188 non-null    float64\n",
      " 11  Forested Area (%)                          188 non-null    object \n",
      " 12  Gasoline Price                             175 non-null    object \n",
      " 13  GDP                                        193 non-null    object \n",
      " 14  Gross primary education enrollment (%)     188 non-null    object \n",
      " 15  Gross tertiary education enrollment (%)    183 non-null    object \n",
      " 16  Infant mortality                           189 non-null    float64\n",
      " 17  Life expectancy                            187 non-null    float64\n",
      " 18  Maternal mortality ratio                   181 non-null    float64\n",
      " 19  Minimum wage                               150 non-null    object \n",
      " 20  Out of pocket health expenditure           188 non-null    object \n",
      " 21  Physicians per thousand                    188 non-null    float64\n",
      " 22  Population                                 194 non-null    object \n",
      " 23  Population: Labor force participation (%)  176 non-null    object \n",
      " 24  Tax revenue (%)                            169 non-null    object \n",
      " 25  Total tax rate                             183 non-null    object \n",
      " 26  Unemployment rate                          176 non-null    object \n",
      " 27  Urban_population                           190 non-null    object \n",
      " 28  Latitude                                   194 non-null    float64\n",
      " 29  Longitude                                  194 non-null    float64\n",
      "dtypes: float64(8), object(22)\n",
      "memory usage: 45.8+ KB\n"
     ]
    }
   ],
   "source": [
    "#elimino las columnas que no necesito\n",
    "df_mundo.drop(['Abbreviation', 'Calling Code', 'Capital/Major City','Largest city', 'Official language'], axis=1, inplace=True)\n",
    "df_mundo.info()\n"
   ]
  },
  {
   "cell_type": "code",
   "execution_count": 33,
   "metadata": {},
   "outputs": [],
   "source": [
    "#elimino los valores nulos\n",
    "df_mundo.dropna(inplace=True)"
   ]
  },
  {
   "cell_type": "code",
   "execution_count": 34,
   "metadata": {},
   "outputs": [
    {
     "name": "stdout",
     "output_type": "stream",
     "text": [
      "<class 'pandas.core.frame.DataFrame'>\n",
      "Index: 112 entries, 0 to 193\n",
      "Data columns (total 30 columns):\n",
      " #   Column                                     Non-Null Count  Dtype  \n",
      "---  ------                                     --------------  -----  \n",
      " 0   Country                                    112 non-null    object \n",
      " 1   Density\n",
      "(P/Km2)                            112 non-null    object \n",
      " 2   Agricultural Land( %)                      112 non-null    object \n",
      " 3   Land Area(Km2)                             112 non-null    object \n",
      " 4   Armed Forces size                          112 non-null    object \n",
      " 5   Birth Rate                                 112 non-null    float64\n",
      " 6   Co2-Emissions                              112 non-null    object \n",
      " 7   CPI                                        112 non-null    object \n",
      " 8   CPI Change (%)                             112 non-null    object \n",
      " 9   Currency-Code                              112 non-null    object \n",
      " 10  Fertility Rate                             112 non-null    float64\n",
      " 11  Forested Area (%)                          112 non-null    object \n",
      " 12  Gasoline Price                             112 non-null    object \n",
      " 13  GDP                                        112 non-null    object \n",
      " 14  Gross primary education enrollment (%)     112 non-null    object \n",
      " 15  Gross tertiary education enrollment (%)    112 non-null    object \n",
      " 16  Infant mortality                           112 non-null    float64\n",
      " 17  Life expectancy                            112 non-null    float64\n",
      " 18  Maternal mortality ratio                   112 non-null    float64\n",
      " 19  Minimum wage                               112 non-null    object \n",
      " 20  Out of pocket health expenditure           112 non-null    object \n",
      " 21  Physicians per thousand                    112 non-null    float64\n",
      " 22  Population                                 112 non-null    object \n",
      " 23  Population: Labor force participation (%)  112 non-null    object \n",
      " 24  Tax revenue (%)                            112 non-null    object \n",
      " 25  Total tax rate                             112 non-null    object \n",
      " 26  Unemployment rate                          112 non-null    object \n",
      " 27  Urban_population                           112 non-null    object \n",
      " 28  Latitude                                   112 non-null    float64\n",
      " 29  Longitude                                  112 non-null    float64\n",
      "dtypes: float64(8), object(22)\n",
      "memory usage: 27.1+ KB\n"
     ]
    }
   ],
   "source": [
    "#eliminamos los duplicados\n",
    "df_mundo.drop_duplicates(inplace=True)\n",
    "df_mundo.info()\n"
   ]
  },
  {
   "cell_type": "code",
   "execution_count": 8,
   "metadata": {},
   "outputs": [
    {
     "data": {
      "text/html": [
       "<div>\n",
       "<style scoped>\n",
       "    .dataframe tbody tr th:only-of-type {\n",
       "        vertical-align: middle;\n",
       "    }\n",
       "\n",
       "    .dataframe tbody tr th {\n",
       "        vertical-align: top;\n",
       "    }\n",
       "\n",
       "    .dataframe thead th {\n",
       "        text-align: right;\n",
       "    }\n",
       "</style>\n",
       "<table border=\"1\" class=\"dataframe\">\n",
       "  <thead>\n",
       "    <tr style=\"text-align: right;\">\n",
       "      <th></th>\n",
       "      <th>Birth Rate</th>\n",
       "      <th>Fertility Rate</th>\n",
       "      <th>Infant mortality</th>\n",
       "      <th>Life expectancy</th>\n",
       "      <th>Maternal mortality ratio</th>\n",
       "      <th>Physicians per thousand</th>\n",
       "      <th>Latitude</th>\n",
       "      <th>Longitude</th>\n",
       "    </tr>\n",
       "  </thead>\n",
       "  <tbody>\n",
       "    <tr>\n",
       "      <th>count</th>\n",
       "      <td>112.000000</td>\n",
       "      <td>112.000000</td>\n",
       "      <td>112.000000</td>\n",
       "      <td>112.000000</td>\n",
       "      <td>112.000000</td>\n",
       "      <td>112.000000</td>\n",
       "      <td>112.000000</td>\n",
       "      <td>112.000000</td>\n",
       "    </tr>\n",
       "    <tr>\n",
       "      <th>mean</th>\n",
       "      <td>20.240804</td>\n",
       "      <td>2.679643</td>\n",
       "      <td>20.260714</td>\n",
       "      <td>72.683036</td>\n",
       "      <td>138.196429</td>\n",
       "      <td>1.915536</td>\n",
       "      <td>20.473923</td>\n",
       "      <td>22.197749</td>\n",
       "    </tr>\n",
       "    <tr>\n",
       "      <th>std</th>\n",
       "      <td>10.047046</td>\n",
       "      <td>1.309903</td>\n",
       "      <td>18.420848</td>\n",
       "      <td>7.042329</td>\n",
       "      <td>201.046265</td>\n",
       "      <td>1.598291</td>\n",
       "      <td>24.491259</td>\n",
       "      <td>60.746451</td>\n",
       "    </tr>\n",
       "    <tr>\n",
       "      <th>min</th>\n",
       "      <td>6.400000</td>\n",
       "      <td>0.980000</td>\n",
       "      <td>1.700000</td>\n",
       "      <td>54.300000</td>\n",
       "      <td>2.000000</td>\n",
       "      <td>0.010000</td>\n",
       "      <td>-40.900557</td>\n",
       "      <td>-106.346771</td>\n",
       "    </tr>\n",
       "    <tr>\n",
       "      <th>25%</th>\n",
       "      <td>11.225000</td>\n",
       "      <td>1.687500</td>\n",
       "      <td>6.100000</td>\n",
       "      <td>67.525000</td>\n",
       "      <td>14.500000</td>\n",
       "      <td>0.417500</td>\n",
       "      <td>7.497422</td>\n",
       "      <td>-3.810957</td>\n",
       "    </tr>\n",
       "    <tr>\n",
       "      <th>50%</th>\n",
       "      <td>17.830000</td>\n",
       "      <td>2.200000</td>\n",
       "      <td>13.600000</td>\n",
       "      <td>74.400000</td>\n",
       "      <td>41.000000</td>\n",
       "      <td>1.640000</td>\n",
       "      <td>21.033608</td>\n",
       "      <td>21.791488</td>\n",
       "    </tr>\n",
       "    <tr>\n",
       "      <th>75%</th>\n",
       "      <td>28.375000</td>\n",
       "      <td>3.522500</td>\n",
       "      <td>32.025000</td>\n",
       "      <td>77.450000</td>\n",
       "      <td>179.000000</td>\n",
       "      <td>3.025000</td>\n",
       "      <td>40.223245</td>\n",
       "      <td>49.104707</td>\n",
       "    </tr>\n",
       "    <tr>\n",
       "      <th>max</th>\n",
       "      <td>46.080000</td>\n",
       "      <td>6.910000</td>\n",
       "      <td>78.500000</td>\n",
       "      <td>83.300000</td>\n",
       "      <td>1120.000000</td>\n",
       "      <td>7.120000</td>\n",
       "      <td>61.524010</td>\n",
       "      <td>178.065032</td>\n",
       "    </tr>\n",
       "  </tbody>\n",
       "</table>\n",
       "</div>"
      ],
      "text/plain": [
       "       Birth Rate  Fertility Rate  Infant mortality  Life expectancy  \\\n",
       "count  112.000000      112.000000        112.000000       112.000000   \n",
       "mean    20.240804        2.679643         20.260714        72.683036   \n",
       "std     10.047046        1.309903         18.420848         7.042329   \n",
       "min      6.400000        0.980000          1.700000        54.300000   \n",
       "25%     11.225000        1.687500          6.100000        67.525000   \n",
       "50%     17.830000        2.200000         13.600000        74.400000   \n",
       "75%     28.375000        3.522500         32.025000        77.450000   \n",
       "max     46.080000        6.910000         78.500000        83.300000   \n",
       "\n",
       "       Maternal mortality ratio  Physicians per thousand    Latitude  \\\n",
       "count                112.000000               112.000000  112.000000   \n",
       "mean                 138.196429                 1.915536   20.473923   \n",
       "std                  201.046265                 1.598291   24.491259   \n",
       "min                    2.000000                 0.010000  -40.900557   \n",
       "25%                   14.500000                 0.417500    7.497422   \n",
       "50%                   41.000000                 1.640000   21.033608   \n",
       "75%                  179.000000                 3.025000   40.223245   \n",
       "max                 1120.000000                 7.120000   61.524010   \n",
       "\n",
       "        Longitude  \n",
       "count  112.000000  \n",
       "mean    22.197749  \n",
       "std     60.746451  \n",
       "min   -106.346771  \n",
       "25%     -3.810957  \n",
       "50%     21.791488  \n",
       "75%     49.104707  \n",
       "max    178.065032  "
      ]
     },
     "execution_count": 8,
     "metadata": {},
     "output_type": "execute_result"
    }
   ],
   "source": [
    "df_mundo.describe()"
   ]
  },
  {
   "cell_type": "code",
   "execution_count": 9,
   "metadata": {},
   "outputs": [
    {
     "data": {
      "text/html": [
       "<div>\n",
       "<style scoped>\n",
       "    .dataframe tbody tr th:only-of-type {\n",
       "        vertical-align: middle;\n",
       "    }\n",
       "\n",
       "    .dataframe tbody tr th {\n",
       "        vertical-align: top;\n",
       "    }\n",
       "\n",
       "    .dataframe thead th {\n",
       "        text-align: right;\n",
       "    }\n",
       "</style>\n",
       "<table border=\"1\" class=\"dataframe\">\n",
       "  <thead>\n",
       "    <tr style=\"text-align: right;\">\n",
       "      <th></th>\n",
       "      <th>Country</th>\n",
       "      <th>Density\\n(P/Km2)</th>\n",
       "      <th>Agricultural Land( %)</th>\n",
       "      <th>Land Area(Km2)</th>\n",
       "      <th>Armed Forces size</th>\n",
       "      <th>Birth Rate</th>\n",
       "      <th>Co2-Emissions</th>\n",
       "      <th>CPI</th>\n",
       "      <th>CPI Change (%)</th>\n",
       "      <th>Currency-Code</th>\n",
       "      <th>...</th>\n",
       "      <th>Out of pocket health expenditure</th>\n",
       "      <th>Physicians per thousand</th>\n",
       "      <th>Population</th>\n",
       "      <th>Population: Labor force participation (%)</th>\n",
       "      <th>Tax revenue (%)</th>\n",
       "      <th>Total tax rate</th>\n",
       "      <th>Unemployment rate</th>\n",
       "      <th>Urban_population</th>\n",
       "      <th>Latitude</th>\n",
       "      <th>Longitude</th>\n",
       "    </tr>\n",
       "  </thead>\n",
       "  <tbody>\n",
       "    <tr>\n",
       "      <th>0</th>\n",
       "      <td>Afghanistan</td>\n",
       "      <td>60</td>\n",
       "      <td>58.10%</td>\n",
       "      <td>652,230</td>\n",
       "      <td>323,000</td>\n",
       "      <td>32.49</td>\n",
       "      <td>8,672</td>\n",
       "      <td>149.9</td>\n",
       "      <td>2.30%</td>\n",
       "      <td>AFN</td>\n",
       "      <td>...</td>\n",
       "      <td>78.40%</td>\n",
       "      <td>0.28</td>\n",
       "      <td>38,041,754</td>\n",
       "      <td>48.90%</td>\n",
       "      <td>9.30%</td>\n",
       "      <td>71.40%</td>\n",
       "      <td>11.12%</td>\n",
       "      <td>9,797,273</td>\n",
       "      <td>33.939110</td>\n",
       "      <td>67.709953</td>\n",
       "    </tr>\n",
       "    <tr>\n",
       "      <th>1</th>\n",
       "      <td>Albania</td>\n",
       "      <td>105</td>\n",
       "      <td>43.10%</td>\n",
       "      <td>28,748</td>\n",
       "      <td>9,000</td>\n",
       "      <td>11.78</td>\n",
       "      <td>4,536</td>\n",
       "      <td>119.05</td>\n",
       "      <td>1.40%</td>\n",
       "      <td>ALL</td>\n",
       "      <td>...</td>\n",
       "      <td>56.90%</td>\n",
       "      <td>1.20</td>\n",
       "      <td>2,854,191</td>\n",
       "      <td>55.70%</td>\n",
       "      <td>18.60%</td>\n",
       "      <td>36.60%</td>\n",
       "      <td>12.33%</td>\n",
       "      <td>1,747,593</td>\n",
       "      <td>41.153332</td>\n",
       "      <td>20.168331</td>\n",
       "    </tr>\n",
       "    <tr>\n",
       "      <th>2</th>\n",
       "      <td>Algeria</td>\n",
       "      <td>18</td>\n",
       "      <td>17.40%</td>\n",
       "      <td>2,381,741</td>\n",
       "      <td>317,000</td>\n",
       "      <td>24.28</td>\n",
       "      <td>150,006</td>\n",
       "      <td>151.36</td>\n",
       "      <td>2.00%</td>\n",
       "      <td>DZD</td>\n",
       "      <td>...</td>\n",
       "      <td>28.10%</td>\n",
       "      <td>1.72</td>\n",
       "      <td>43,053,054</td>\n",
       "      <td>41.20%</td>\n",
       "      <td>37.20%</td>\n",
       "      <td>66.10%</td>\n",
       "      <td>11.70%</td>\n",
       "      <td>31,510,100</td>\n",
       "      <td>28.033886</td>\n",
       "      <td>1.659626</td>\n",
       "    </tr>\n",
       "    <tr>\n",
       "      <th>4</th>\n",
       "      <td>Angola</td>\n",
       "      <td>26</td>\n",
       "      <td>47.50%</td>\n",
       "      <td>1,246,700</td>\n",
       "      <td>117,000</td>\n",
       "      <td>40.73</td>\n",
       "      <td>34,693</td>\n",
       "      <td>261.73</td>\n",
       "      <td>17.10%</td>\n",
       "      <td>AOA</td>\n",
       "      <td>...</td>\n",
       "      <td>33.40%</td>\n",
       "      <td>0.21</td>\n",
       "      <td>31,825,295</td>\n",
       "      <td>77.50%</td>\n",
       "      <td>9.20%</td>\n",
       "      <td>49.10%</td>\n",
       "      <td>6.89%</td>\n",
       "      <td>21,061,025</td>\n",
       "      <td>-11.202692</td>\n",
       "      <td>17.873887</td>\n",
       "    </tr>\n",
       "    <tr>\n",
       "      <th>6</th>\n",
       "      <td>Argentina</td>\n",
       "      <td>17</td>\n",
       "      <td>54.30%</td>\n",
       "      <td>2,780,400</td>\n",
       "      <td>105,000</td>\n",
       "      <td>17.02</td>\n",
       "      <td>201,348</td>\n",
       "      <td>232.75</td>\n",
       "      <td>53.50%</td>\n",
       "      <td>ARS</td>\n",
       "      <td>...</td>\n",
       "      <td>17.60%</td>\n",
       "      <td>3.96</td>\n",
       "      <td>44,938,712</td>\n",
       "      <td>61.30%</td>\n",
       "      <td>10.10%</td>\n",
       "      <td>106.30%</td>\n",
       "      <td>9.79%</td>\n",
       "      <td>41,339,571</td>\n",
       "      <td>-38.416097</td>\n",
       "      <td>-63.616672</td>\n",
       "    </tr>\n",
       "  </tbody>\n",
       "</table>\n",
       "<p>5 rows × 30 columns</p>\n",
       "</div>"
      ],
      "text/plain": [
       "       Country Density\\n(P/Km2) Agricultural Land( %) Land Area(Km2)  \\\n",
       "0  Afghanistan               60                58.10%        652,230   \n",
       "1      Albania              105                43.10%         28,748   \n",
       "2      Algeria               18                17.40%      2,381,741   \n",
       "4       Angola               26                47.50%      1,246,700   \n",
       "6    Argentina               17                54.30%      2,780,400   \n",
       "\n",
       "  Armed Forces size  Birth Rate Co2-Emissions     CPI CPI Change (%)  \\\n",
       "0           323,000       32.49         8,672   149.9          2.30%   \n",
       "1             9,000       11.78         4,536  119.05          1.40%   \n",
       "2           317,000       24.28       150,006  151.36          2.00%   \n",
       "4           117,000       40.73        34,693  261.73         17.10%   \n",
       "6           105,000       17.02       201,348  232.75         53.50%   \n",
       "\n",
       "  Currency-Code  ...  Out of pocket health expenditure  \\\n",
       "0           AFN  ...                            78.40%   \n",
       "1           ALL  ...                            56.90%   \n",
       "2           DZD  ...                            28.10%   \n",
       "4           AOA  ...                            33.40%   \n",
       "6           ARS  ...                            17.60%   \n",
       "\n",
       "  Physicians per thousand  Population  \\\n",
       "0                    0.28  38,041,754   \n",
       "1                    1.20   2,854,191   \n",
       "2                    1.72  43,053,054   \n",
       "4                    0.21  31,825,295   \n",
       "6                    3.96  44,938,712   \n",
       "\n",
       "  Population: Labor force participation (%) Tax revenue (%) Total tax rate  \\\n",
       "0                                    48.90%           9.30%         71.40%   \n",
       "1                                    55.70%          18.60%         36.60%   \n",
       "2                                    41.20%          37.20%         66.10%   \n",
       "4                                    77.50%           9.20%         49.10%   \n",
       "6                                    61.30%          10.10%        106.30%   \n",
       "\n",
       "   Unemployment rate  Urban_population   Latitude  Longitude  \n",
       "0             11.12%         9,797,273  33.939110  67.709953  \n",
       "1             12.33%         1,747,593  41.153332  20.168331  \n",
       "2             11.70%        31,510,100  28.033886   1.659626  \n",
       "4              6.89%        21,061,025 -11.202692  17.873887  \n",
       "6              9.79%        41,339,571 -38.416097 -63.616672  \n",
       "\n",
       "[5 rows x 30 columns]"
      ]
     },
     "execution_count": 9,
     "metadata": {},
     "output_type": "execute_result"
    }
   ],
   "source": [
    "df_mundo.head()"
   ]
  },
  {
   "cell_type": "code",
   "execution_count": 35,
   "metadata": {},
   "outputs": [
    {
     "data": {
      "text/html": [
       "<div>\n",
       "<style scoped>\n",
       "    .dataframe tbody tr th:only-of-type {\n",
       "        vertical-align: middle;\n",
       "    }\n",
       "\n",
       "    .dataframe tbody tr th {\n",
       "        vertical-align: top;\n",
       "    }\n",
       "\n",
       "    .dataframe thead th {\n",
       "        text-align: right;\n",
       "    }\n",
       "</style>\n",
       "<table border=\"1\" class=\"dataframe\">\n",
       "  <thead>\n",
       "    <tr style=\"text-align: right;\">\n",
       "      <th></th>\n",
       "      <th>Country</th>\n",
       "      <th>Density\\n(P/Km2)</th>\n",
       "      <th>Agricultural Land( %)</th>\n",
       "      <th>Land Area(Km2)</th>\n",
       "      <th>Armed Forces size</th>\n",
       "      <th>Birth Rate</th>\n",
       "      <th>Co2-Emissions</th>\n",
       "      <th>CPI</th>\n",
       "      <th>CPI Change (%)</th>\n",
       "      <th>Currency-Code</th>\n",
       "      <th>...</th>\n",
       "      <th>Out of pocket health expenditure</th>\n",
       "      <th>Physicians per thousand</th>\n",
       "      <th>Population</th>\n",
       "      <th>Population: Labor force participation (%)</th>\n",
       "      <th>Tax revenue (%)</th>\n",
       "      <th>Total tax rate</th>\n",
       "      <th>Unemployment rate</th>\n",
       "      <th>Urban_population</th>\n",
       "      <th>Latitude</th>\n",
       "      <th>Longitude</th>\n",
       "    </tr>\n",
       "  </thead>\n",
       "  <tbody>\n",
       "    <tr>\n",
       "      <th>0</th>\n",
       "      <td>Afghanistan</td>\n",
       "      <td>60</td>\n",
       "      <td>58.10</td>\n",
       "      <td>652.230</td>\n",
       "      <td>323.000</td>\n",
       "      <td>32.49</td>\n",
       "      <td>8.672</td>\n",
       "      <td>149.9</td>\n",
       "      <td>2.30</td>\n",
       "      <td>AFN</td>\n",
       "      <td>...</td>\n",
       "      <td>78.40</td>\n",
       "      <td>0.28</td>\n",
       "      <td>38.041.754</td>\n",
       "      <td>48.90</td>\n",
       "      <td>9.30</td>\n",
       "      <td>71.40</td>\n",
       "      <td>11.12</td>\n",
       "      <td>9.797.273</td>\n",
       "      <td>33.939110</td>\n",
       "      <td>67.709953</td>\n",
       "    </tr>\n",
       "    <tr>\n",
       "      <th>1</th>\n",
       "      <td>Albania</td>\n",
       "      <td>105</td>\n",
       "      <td>43.10</td>\n",
       "      <td>28.748</td>\n",
       "      <td>9.000</td>\n",
       "      <td>11.78</td>\n",
       "      <td>4.536</td>\n",
       "      <td>119.05</td>\n",
       "      <td>1.40</td>\n",
       "      <td>ALL</td>\n",
       "      <td>...</td>\n",
       "      <td>56.90</td>\n",
       "      <td>1.20</td>\n",
       "      <td>2.854.191</td>\n",
       "      <td>55.70</td>\n",
       "      <td>18.60</td>\n",
       "      <td>36.60</td>\n",
       "      <td>12.33</td>\n",
       "      <td>1.747.593</td>\n",
       "      <td>41.153332</td>\n",
       "      <td>20.168331</td>\n",
       "    </tr>\n",
       "    <tr>\n",
       "      <th>2</th>\n",
       "      <td>Algeria</td>\n",
       "      <td>18</td>\n",
       "      <td>17.40</td>\n",
       "      <td>2.381.741</td>\n",
       "      <td>317.000</td>\n",
       "      <td>24.28</td>\n",
       "      <td>150.006</td>\n",
       "      <td>151.36</td>\n",
       "      <td>2.00</td>\n",
       "      <td>DZD</td>\n",
       "      <td>...</td>\n",
       "      <td>28.10</td>\n",
       "      <td>1.72</td>\n",
       "      <td>43.053.054</td>\n",
       "      <td>41.20</td>\n",
       "      <td>37.20</td>\n",
       "      <td>66.10</td>\n",
       "      <td>11.70</td>\n",
       "      <td>31.510.100</td>\n",
       "      <td>28.033886</td>\n",
       "      <td>1.659626</td>\n",
       "    </tr>\n",
       "    <tr>\n",
       "      <th>4</th>\n",
       "      <td>Angola</td>\n",
       "      <td>26</td>\n",
       "      <td>47.50</td>\n",
       "      <td>1.246.700</td>\n",
       "      <td>117.000</td>\n",
       "      <td>40.73</td>\n",
       "      <td>34.693</td>\n",
       "      <td>261.73</td>\n",
       "      <td>17.10</td>\n",
       "      <td>AOA</td>\n",
       "      <td>...</td>\n",
       "      <td>33.40</td>\n",
       "      <td>0.21</td>\n",
       "      <td>31.825.295</td>\n",
       "      <td>77.50</td>\n",
       "      <td>9.20</td>\n",
       "      <td>49.10</td>\n",
       "      <td>6.89</td>\n",
       "      <td>21.061.025</td>\n",
       "      <td>-11.202692</td>\n",
       "      <td>17.873887</td>\n",
       "    </tr>\n",
       "    <tr>\n",
       "      <th>6</th>\n",
       "      <td>Argentina</td>\n",
       "      <td>17</td>\n",
       "      <td>54.30</td>\n",
       "      <td>2.780.400</td>\n",
       "      <td>105.000</td>\n",
       "      <td>17.02</td>\n",
       "      <td>201.348</td>\n",
       "      <td>232.75</td>\n",
       "      <td>53.50</td>\n",
       "      <td>ARS</td>\n",
       "      <td>...</td>\n",
       "      <td>17.60</td>\n",
       "      <td>3.96</td>\n",
       "      <td>44.938.712</td>\n",
       "      <td>61.30</td>\n",
       "      <td>10.10</td>\n",
       "      <td>106.30</td>\n",
       "      <td>9.79</td>\n",
       "      <td>41.339.571</td>\n",
       "      <td>-38.416097</td>\n",
       "      <td>-63.616672</td>\n",
       "    </tr>\n",
       "    <tr>\n",
       "      <th>...</th>\n",
       "      <td>...</td>\n",
       "      <td>...</td>\n",
       "      <td>...</td>\n",
       "      <td>...</td>\n",
       "      <td>...</td>\n",
       "      <td>...</td>\n",
       "      <td>...</td>\n",
       "      <td>...</td>\n",
       "      <td>...</td>\n",
       "      <td>...</td>\n",
       "      <td>...</td>\n",
       "      <td>...</td>\n",
       "      <td>...</td>\n",
       "      <td>...</td>\n",
       "      <td>...</td>\n",
       "      <td>...</td>\n",
       "      <td>...</td>\n",
       "      <td>...</td>\n",
       "      <td>...</td>\n",
       "      <td>...</td>\n",
       "      <td>...</td>\n",
       "    </tr>\n",
       "    <tr>\n",
       "      <th>185</th>\n",
       "      <td>United Kingdom</td>\n",
       "      <td>281</td>\n",
       "      <td>71.70</td>\n",
       "      <td>243.610</td>\n",
       "      <td>148.000</td>\n",
       "      <td>11.00</td>\n",
       "      <td>379.025</td>\n",
       "      <td>119.62</td>\n",
       "      <td>1.70</td>\n",
       "      <td>GBP</td>\n",
       "      <td>...</td>\n",
       "      <td>14.80</td>\n",
       "      <td>2.81</td>\n",
       "      <td>66.834.405</td>\n",
       "      <td>62.80</td>\n",
       "      <td>25.50</td>\n",
       "      <td>30.60</td>\n",
       "      <td>3.85</td>\n",
       "      <td>55.908.316</td>\n",
       "      <td>55.378051</td>\n",
       "      <td>-3.435973</td>\n",
       "    </tr>\n",
       "    <tr>\n",
       "      <th>186</th>\n",
       "      <td>United States</td>\n",
       "      <td>36</td>\n",
       "      <td>44.40</td>\n",
       "      <td>9.833.517</td>\n",
       "      <td>1.359.000</td>\n",
       "      <td>11.60</td>\n",
       "      <td>5.006.302</td>\n",
       "      <td>117.24</td>\n",
       "      <td>7.50</td>\n",
       "      <td>USD</td>\n",
       "      <td>...</td>\n",
       "      <td>11.10</td>\n",
       "      <td>2.61</td>\n",
       "      <td>328.239.523</td>\n",
       "      <td>62.00</td>\n",
       "      <td>9.60</td>\n",
       "      <td>36.60</td>\n",
       "      <td>14.70</td>\n",
       "      <td>270.663.028</td>\n",
       "      <td>37.090240</td>\n",
       "      <td>-95.712891</td>\n",
       "    </tr>\n",
       "    <tr>\n",
       "      <th>187</th>\n",
       "      <td>Uruguay</td>\n",
       "      <td>20</td>\n",
       "      <td>82.60</td>\n",
       "      <td>176.215</td>\n",
       "      <td>22.000</td>\n",
       "      <td>13.86</td>\n",
       "      <td>6.766</td>\n",
       "      <td>202.92</td>\n",
       "      <td>7.90</td>\n",
       "      <td>UYU</td>\n",
       "      <td>...</td>\n",
       "      <td>16.20</td>\n",
       "      <td>5.05</td>\n",
       "      <td>3.461.734</td>\n",
       "      <td>64.00</td>\n",
       "      <td>20.10</td>\n",
       "      <td>41.80</td>\n",
       "      <td>8.73</td>\n",
       "      <td>3.303.394</td>\n",
       "      <td>-32.522779</td>\n",
       "      <td>-55.765835</td>\n",
       "    </tr>\n",
       "    <tr>\n",
       "      <th>191</th>\n",
       "      <td>Vietnam</td>\n",
       "      <td>314</td>\n",
       "      <td>39.30</td>\n",
       "      <td>331.210</td>\n",
       "      <td>522.000</td>\n",
       "      <td>16.75</td>\n",
       "      <td>192.668</td>\n",
       "      <td>163.52</td>\n",
       "      <td>2.80</td>\n",
       "      <td>VND</td>\n",
       "      <td>...</td>\n",
       "      <td>43.50</td>\n",
       "      <td>0.82</td>\n",
       "      <td>96.462.106</td>\n",
       "      <td>77.40</td>\n",
       "      <td>19.10</td>\n",
       "      <td>37.60</td>\n",
       "      <td>2.01</td>\n",
       "      <td>35.332.140</td>\n",
       "      <td>14.058324</td>\n",
       "      <td>108.277199</td>\n",
       "    </tr>\n",
       "    <tr>\n",
       "      <th>193</th>\n",
       "      <td>Zambia</td>\n",
       "      <td>25</td>\n",
       "      <td>32.10</td>\n",
       "      <td>752.618</td>\n",
       "      <td>16.000</td>\n",
       "      <td>36.19</td>\n",
       "      <td>5.141</td>\n",
       "      <td>212.31</td>\n",
       "      <td>9.20</td>\n",
       "      <td>ZMW</td>\n",
       "      <td>...</td>\n",
       "      <td>27.50</td>\n",
       "      <td>1.19</td>\n",
       "      <td>17.861.030</td>\n",
       "      <td>74.60</td>\n",
       "      <td>16.20</td>\n",
       "      <td>15.60</td>\n",
       "      <td>11.43</td>\n",
       "      <td>7.871.713</td>\n",
       "      <td>-13.133897</td>\n",
       "      <td>27.849332</td>\n",
       "    </tr>\n",
       "  </tbody>\n",
       "</table>\n",
       "<p>112 rows × 30 columns</p>\n",
       "</div>"
      ],
      "text/plain": [
       "            Country Density\\n(P/Km2) Agricultural Land( %) Land Area(Km2)  \\\n",
       "0       Afghanistan               60                 58.10        652.230   \n",
       "1           Albania              105                 43.10         28.748   \n",
       "2           Algeria               18                 17.40      2.381.741   \n",
       "4            Angola               26                 47.50      1.246.700   \n",
       "6         Argentina               17                 54.30      2.780.400   \n",
       "..              ...              ...                   ...            ...   \n",
       "185  United Kingdom              281                 71.70        243.610   \n",
       "186   United States               36                 44.40      9.833.517   \n",
       "187         Uruguay               20                 82.60        176.215   \n",
       "191         Vietnam              314                 39.30        331.210   \n",
       "193          Zambia               25                 32.10        752.618   \n",
       "\n",
       "    Armed Forces size  Birth Rate Co2-Emissions     CPI CPI Change (%)  \\\n",
       "0             323.000       32.49         8.672   149.9           2.30   \n",
       "1               9.000       11.78         4.536  119.05           1.40   \n",
       "2             317.000       24.28       150.006  151.36           2.00   \n",
       "4             117.000       40.73        34.693  261.73          17.10   \n",
       "6             105.000       17.02       201.348  232.75          53.50   \n",
       "..                ...         ...           ...     ...            ...   \n",
       "185           148.000       11.00       379.025  119.62           1.70   \n",
       "186         1.359.000       11.60     5.006.302  117.24           7.50   \n",
       "187            22.000       13.86         6.766  202.92           7.90   \n",
       "191           522.000       16.75       192.668  163.52           2.80   \n",
       "193            16.000       36.19         5.141  212.31           9.20   \n",
       "\n",
       "    Currency-Code  ...  Out of pocket health expenditure  \\\n",
       "0             AFN  ...                             78.40   \n",
       "1             ALL  ...                             56.90   \n",
       "2             DZD  ...                             28.10   \n",
       "4             AOA  ...                             33.40   \n",
       "6             ARS  ...                             17.60   \n",
       "..            ...  ...                               ...   \n",
       "185           GBP  ...                             14.80   \n",
       "186           USD  ...                             11.10   \n",
       "187           UYU  ...                             16.20   \n",
       "191           VND  ...                             43.50   \n",
       "193           ZMW  ...                             27.50   \n",
       "\n",
       "    Physicians per thousand   Population  \\\n",
       "0                      0.28   38.041.754   \n",
       "1                      1.20    2.854.191   \n",
       "2                      1.72   43.053.054   \n",
       "4                      0.21   31.825.295   \n",
       "6                      3.96   44.938.712   \n",
       "..                      ...          ...   \n",
       "185                    2.81   66.834.405   \n",
       "186                    2.61  328.239.523   \n",
       "187                    5.05    3.461.734   \n",
       "191                    0.82   96.462.106   \n",
       "193                    1.19   17.861.030   \n",
       "\n",
       "    Population: Labor force participation (%) Tax revenue (%) Total tax rate  \\\n",
       "0                                       48.90            9.30          71.40   \n",
       "1                                       55.70           18.60          36.60   \n",
       "2                                       41.20           37.20          66.10   \n",
       "4                                       77.50            9.20          49.10   \n",
       "6                                       61.30           10.10         106.30   \n",
       "..                                        ...             ...            ...   \n",
       "185                                     62.80           25.50          30.60   \n",
       "186                                     62.00            9.60          36.60   \n",
       "187                                     64.00           20.10          41.80   \n",
       "191                                     77.40           19.10          37.60   \n",
       "193                                     74.60           16.20          15.60   \n",
       "\n",
       "     Unemployment rate  Urban_population   Latitude   Longitude  \n",
       "0                11.12         9.797.273  33.939110   67.709953  \n",
       "1                12.33         1.747.593  41.153332   20.168331  \n",
       "2                11.70        31.510.100  28.033886    1.659626  \n",
       "4                 6.89        21.061.025 -11.202692   17.873887  \n",
       "6                 9.79        41.339.571 -38.416097  -63.616672  \n",
       "..                 ...               ...        ...         ...  \n",
       "185               3.85        55.908.316  55.378051   -3.435973  \n",
       "186              14.70       270.663.028  37.090240  -95.712891  \n",
       "187               8.73         3.303.394 -32.522779  -55.765835  \n",
       "191               2.01        35.332.140  14.058324  108.277199  \n",
       "193              11.43         7.871.713 -13.133897   27.849332  \n",
       "\n",
       "[112 rows x 30 columns]"
      ]
     },
     "execution_count": 35,
     "metadata": {},
     "output_type": "execute_result"
    }
   ],
   "source": [
    "#cambio las comas por puntos, elimino los %, excepeto de la columna country \n",
    "\n",
    "df_mundo.iloc[:, 1:] = df_mundo.iloc[:, 1:].replace({'%': '', ',': '.'}, regex=True)\n",
    "df_mundo"
   ]
  },
  {
   "cell_type": "code",
   "execution_count": 48,
   "metadata": {},
   "outputs": [
    {
     "name": "stdout",
     "output_type": "stream",
     "text": [
      "<class 'pandas.core.frame.DataFrame'>\n",
      "Index: 112 entries, 0 to 193\n",
      "Data columns (total 30 columns):\n",
      " #   Column                                     Non-Null Count  Dtype  \n",
      "---  ------                                     --------------  -----  \n",
      " 0   Country                                    112 non-null    string \n",
      " 1   Density\n",
      "(P/Km2)                            112 non-null    string \n",
      " 2   Agricultural Land( %)                      112 non-null    Float64\n",
      " 3   Land Area(Km2)                             90 non-null     Float64\n",
      " 4   Armed Forces size                          108 non-null    Float64\n",
      " 5   Birth Rate                                 112 non-null    Float64\n",
      " 6   Co2-Emissions                              108 non-null    Float64\n",
      " 7   CPI                                        111 non-null    Float64\n",
      " 8   CPI Change (%)                             112 non-null    string \n",
      " 9   Currency-Code                              112 non-null    string \n",
      " 10  Fertility Rate                             112 non-null    Float64\n",
      " 11  Forested Area (%)                          112 non-null    Float64\n",
      " 12  Gasoline Price                             0 non-null      Float64\n",
      " 13  GDP                                        0 non-null      Float64\n",
      " 14  Gross primary education enrollment (%)     112 non-null    Float64\n",
      " 15  Gross tertiary education enrollment (%)    112 non-null    Float64\n",
      " 16  Infant mortality                           112 non-null    Float64\n",
      " 17  Life expectancy                            112 non-null    Float64\n",
      " 18  Maternal mortality ratio                   112 non-null    Int64  \n",
      " 19  Minimum wage                               0 non-null      Float64\n",
      " 20  Out of pocket health expenditure           112 non-null    Float64\n",
      " 21  Physicians per thousand                    112 non-null    Float64\n",
      " 22  Population                                 6 non-null      Float64\n",
      " 23  Population: Labor force participation (%)  112 non-null    Float64\n",
      " 24  Tax revenue (%)                            112 non-null    Float64\n",
      " 25  Total tax rate                             112 non-null    Float64\n",
      " 26  Unemployment rate                          112 non-null    Float64\n",
      " 27  Urban_population                           10 non-null     Float64\n",
      " 28  Latitude                                   112 non-null    Float64\n",
      " 29  Longitude                                  112 non-null    Float64\n",
      "dtypes: Float64(25), Int64(1), string(4)\n",
      "memory usage: 30.0 KB\n"
     ]
    }
   ],
   "source": [
    "#paso las variables a tipo float\n",
    "#uso error=coerce para que los datos que no puedan psarse a float sean nan\n",
    "df_mundo['Agricultural Land( %)'] = pd.to_numeric(df_mundo['Agricultural Land( %)'], errors='coerce')\n",
    "df_mundo['Land Area(Km2)'] = pd.to_numeric(df_mundo['Land Area(Km2)'], errors='coerce')\n",
    "df_mundo['Armed Forces size'] = pd.to_numeric(df_mundo['Armed Forces size'], errors='coerce')\n",
    "df_mundo['Co2-Emissions'] = pd.to_numeric(df_mundo['Co2-Emissions'], errors='coerce')\n",
    "df_mundo['CPI'] = pd.to_numeric(df_mundo['CPI'], errors='coerce')\n",
    "df_mundo['Forested Area (%)'] = pd.to_numeric(df_mundo['Forested Area (%)'], errors='coerce')\n",
    "df_mundo['Gasoline Price'] = pd.to_numeric(df_mundo['Gasoline Price'], errors='coerce')\n",
    "df_mundo['GDP'] = pd.to_numeric(df_mundo['GDP'], errors='coerce')\n",
    "df_mundo['Gross primary education enrollment (%)'] = pd.to_numeric(df_mundo['Gross primary education enrollment (%)'], errors='coerce')\n",
    "df_mundo['Gross tertiary education enrollment (%)'] = pd.to_numeric(df_mundo['Gross tertiary education enrollment (%)'], errors='coerce')\n",
    "df_mundo['Minimum wage'] = pd.to_numeric(df_mundo['Minimum wage'], errors='coerce')\n",
    "df_mundo['Out of pocket health expenditure'] = pd.to_numeric(df_mundo['Out of pocket health expenditure'], errors='coerce')\n",
    "df_mundo['Population'] = pd.to_numeric(df_mundo['Population'], errors='coerce')\n",
    "df_mundo['Population: Labor force participation (%)'] = pd.to_numeric(df_mundo['Population: Labor force participation (%)'], errors='coerce')\n",
    "df_mundo['Tax revenue (%)'] = pd.to_numeric(df_mundo['Tax revenue (%)'], errors='coerce')\n",
    "df_mundo['Total tax rate'] = pd.to_numeric(df_mundo['Total tax rate'], errors='coerce')\n",
    "df_mundo['Unemployment rate'] = pd.to_numeric(df_mundo['Unemployment rate'], errors='coerce')\n",
    "df_mundo['Urban_population'] = pd.to_numeric(df_mundo['Urban_population'], errors='coerce')\n",
    "\n",
    "\n",
    "df_mundo.info()"
   ]
  },
  {
   "cell_type": "code",
   "execution_count": 49,
   "metadata": {},
   "outputs": [
    {
     "data": {
      "text/html": [
       "<div>\n",
       "<style scoped>\n",
       "    .dataframe tbody tr th:only-of-type {\n",
       "        vertical-align: middle;\n",
       "    }\n",
       "\n",
       "    .dataframe tbody tr th {\n",
       "        vertical-align: top;\n",
       "    }\n",
       "\n",
       "    .dataframe thead th {\n",
       "        text-align: right;\n",
       "    }\n",
       "</style>\n",
       "<table border=\"1\" class=\"dataframe\">\n",
       "  <thead>\n",
       "    <tr style=\"text-align: right;\">\n",
       "      <th></th>\n",
       "      <th>Agricultural Land( %)</th>\n",
       "      <th>Land Area(Km2)</th>\n",
       "      <th>Armed Forces size</th>\n",
       "      <th>Birth Rate</th>\n",
       "      <th>Co2-Emissions</th>\n",
       "      <th>CPI</th>\n",
       "      <th>Fertility Rate</th>\n",
       "      <th>Forested Area (%)</th>\n",
       "      <th>Gasoline Price</th>\n",
       "      <th>GDP</th>\n",
       "      <th>...</th>\n",
       "      <th>Out of pocket health expenditure</th>\n",
       "      <th>Physicians per thousand</th>\n",
       "      <th>Population</th>\n",
       "      <th>Population: Labor force participation (%)</th>\n",
       "      <th>Tax revenue (%)</th>\n",
       "      <th>Total tax rate</th>\n",
       "      <th>Unemployment rate</th>\n",
       "      <th>Urban_population</th>\n",
       "      <th>Latitude</th>\n",
       "      <th>Longitude</th>\n",
       "    </tr>\n",
       "  </thead>\n",
       "  <tbody>\n",
       "    <tr>\n",
       "      <th>0</th>\n",
       "      <td>58.1</td>\n",
       "      <td>652.23</td>\n",
       "      <td>323.0</td>\n",
       "      <td>32.49</td>\n",
       "      <td>8.672</td>\n",
       "      <td>149.9</td>\n",
       "      <td>4.47</td>\n",
       "      <td>2.1</td>\n",
       "      <td>&lt;NA&gt;</td>\n",
       "      <td>&lt;NA&gt;</td>\n",
       "      <td>...</td>\n",
       "      <td>78.4</td>\n",
       "      <td>0.28</td>\n",
       "      <td>&lt;NA&gt;</td>\n",
       "      <td>48.9</td>\n",
       "      <td>9.3</td>\n",
       "      <td>71.4</td>\n",
       "      <td>11.12</td>\n",
       "      <td>&lt;NA&gt;</td>\n",
       "      <td>33.93911</td>\n",
       "      <td>67.709953</td>\n",
       "    </tr>\n",
       "    <tr>\n",
       "      <th>1</th>\n",
       "      <td>43.1</td>\n",
       "      <td>28.748</td>\n",
       "      <td>9.0</td>\n",
       "      <td>11.78</td>\n",
       "      <td>4.536</td>\n",
       "      <td>119.05</td>\n",
       "      <td>1.62</td>\n",
       "      <td>28.1</td>\n",
       "      <td>&lt;NA&gt;</td>\n",
       "      <td>&lt;NA&gt;</td>\n",
       "      <td>...</td>\n",
       "      <td>56.9</td>\n",
       "      <td>1.2</td>\n",
       "      <td>&lt;NA&gt;</td>\n",
       "      <td>55.7</td>\n",
       "      <td>18.6</td>\n",
       "      <td>36.6</td>\n",
       "      <td>12.33</td>\n",
       "      <td>&lt;NA&gt;</td>\n",
       "      <td>41.153332</td>\n",
       "      <td>20.168331</td>\n",
       "    </tr>\n",
       "    <tr>\n",
       "      <th>2</th>\n",
       "      <td>17.4</td>\n",
       "      <td>&lt;NA&gt;</td>\n",
       "      <td>317.0</td>\n",
       "      <td>24.28</td>\n",
       "      <td>150.006</td>\n",
       "      <td>151.36</td>\n",
       "      <td>3.02</td>\n",
       "      <td>0.8</td>\n",
       "      <td>&lt;NA&gt;</td>\n",
       "      <td>&lt;NA&gt;</td>\n",
       "      <td>...</td>\n",
       "      <td>28.1</td>\n",
       "      <td>1.72</td>\n",
       "      <td>&lt;NA&gt;</td>\n",
       "      <td>41.2</td>\n",
       "      <td>37.2</td>\n",
       "      <td>66.1</td>\n",
       "      <td>11.7</td>\n",
       "      <td>&lt;NA&gt;</td>\n",
       "      <td>28.033886</td>\n",
       "      <td>1.659626</td>\n",
       "    </tr>\n",
       "    <tr>\n",
       "      <th>4</th>\n",
       "      <td>47.5</td>\n",
       "      <td>&lt;NA&gt;</td>\n",
       "      <td>117.0</td>\n",
       "      <td>40.73</td>\n",
       "      <td>34.693</td>\n",
       "      <td>261.73</td>\n",
       "      <td>5.52</td>\n",
       "      <td>46.3</td>\n",
       "      <td>&lt;NA&gt;</td>\n",
       "      <td>&lt;NA&gt;</td>\n",
       "      <td>...</td>\n",
       "      <td>33.4</td>\n",
       "      <td>0.21</td>\n",
       "      <td>&lt;NA&gt;</td>\n",
       "      <td>77.5</td>\n",
       "      <td>9.2</td>\n",
       "      <td>49.1</td>\n",
       "      <td>6.89</td>\n",
       "      <td>&lt;NA&gt;</td>\n",
       "      <td>-11.202692</td>\n",
       "      <td>17.873887</td>\n",
       "    </tr>\n",
       "    <tr>\n",
       "      <th>6</th>\n",
       "      <td>54.3</td>\n",
       "      <td>&lt;NA&gt;</td>\n",
       "      <td>105.0</td>\n",
       "      <td>17.02</td>\n",
       "      <td>201.348</td>\n",
       "      <td>232.75</td>\n",
       "      <td>2.26</td>\n",
       "      <td>9.8</td>\n",
       "      <td>&lt;NA&gt;</td>\n",
       "      <td>&lt;NA&gt;</td>\n",
       "      <td>...</td>\n",
       "      <td>17.6</td>\n",
       "      <td>3.96</td>\n",
       "      <td>&lt;NA&gt;</td>\n",
       "      <td>61.3</td>\n",
       "      <td>10.1</td>\n",
       "      <td>106.3</td>\n",
       "      <td>9.79</td>\n",
       "      <td>&lt;NA&gt;</td>\n",
       "      <td>-38.416097</td>\n",
       "      <td>-63.616672</td>\n",
       "    </tr>\n",
       "    <tr>\n",
       "      <th>...</th>\n",
       "      <td>...</td>\n",
       "      <td>...</td>\n",
       "      <td>...</td>\n",
       "      <td>...</td>\n",
       "      <td>...</td>\n",
       "      <td>...</td>\n",
       "      <td>...</td>\n",
       "      <td>...</td>\n",
       "      <td>...</td>\n",
       "      <td>...</td>\n",
       "      <td>...</td>\n",
       "      <td>...</td>\n",
       "      <td>...</td>\n",
       "      <td>...</td>\n",
       "      <td>...</td>\n",
       "      <td>...</td>\n",
       "      <td>...</td>\n",
       "      <td>...</td>\n",
       "      <td>...</td>\n",
       "      <td>...</td>\n",
       "      <td>...</td>\n",
       "    </tr>\n",
       "    <tr>\n",
       "      <th>185</th>\n",
       "      <td>71.7</td>\n",
       "      <td>243.61</td>\n",
       "      <td>148.0</td>\n",
       "      <td>11.0</td>\n",
       "      <td>379.025</td>\n",
       "      <td>119.62</td>\n",
       "      <td>1.68</td>\n",
       "      <td>13.1</td>\n",
       "      <td>&lt;NA&gt;</td>\n",
       "      <td>&lt;NA&gt;</td>\n",
       "      <td>...</td>\n",
       "      <td>14.8</td>\n",
       "      <td>2.81</td>\n",
       "      <td>&lt;NA&gt;</td>\n",
       "      <td>62.8</td>\n",
       "      <td>25.5</td>\n",
       "      <td>30.6</td>\n",
       "      <td>3.85</td>\n",
       "      <td>&lt;NA&gt;</td>\n",
       "      <td>55.378051</td>\n",
       "      <td>-3.435973</td>\n",
       "    </tr>\n",
       "    <tr>\n",
       "      <th>186</th>\n",
       "      <td>44.4</td>\n",
       "      <td>&lt;NA&gt;</td>\n",
       "      <td>&lt;NA&gt;</td>\n",
       "      <td>11.6</td>\n",
       "      <td>&lt;NA&gt;</td>\n",
       "      <td>117.24</td>\n",
       "      <td>1.73</td>\n",
       "      <td>33.9</td>\n",
       "      <td>&lt;NA&gt;</td>\n",
       "      <td>&lt;NA&gt;</td>\n",
       "      <td>...</td>\n",
       "      <td>11.1</td>\n",
       "      <td>2.61</td>\n",
       "      <td>&lt;NA&gt;</td>\n",
       "      <td>62.0</td>\n",
       "      <td>9.6</td>\n",
       "      <td>36.6</td>\n",
       "      <td>14.7</td>\n",
       "      <td>&lt;NA&gt;</td>\n",
       "      <td>37.09024</td>\n",
       "      <td>-95.712891</td>\n",
       "    </tr>\n",
       "    <tr>\n",
       "      <th>187</th>\n",
       "      <td>82.6</td>\n",
       "      <td>176.215</td>\n",
       "      <td>22.0</td>\n",
       "      <td>13.86</td>\n",
       "      <td>6.766</td>\n",
       "      <td>202.92</td>\n",
       "      <td>1.97</td>\n",
       "      <td>10.7</td>\n",
       "      <td>&lt;NA&gt;</td>\n",
       "      <td>&lt;NA&gt;</td>\n",
       "      <td>...</td>\n",
       "      <td>16.2</td>\n",
       "      <td>5.05</td>\n",
       "      <td>&lt;NA&gt;</td>\n",
       "      <td>64.0</td>\n",
       "      <td>20.1</td>\n",
       "      <td>41.8</td>\n",
       "      <td>8.73</td>\n",
       "      <td>&lt;NA&gt;</td>\n",
       "      <td>-32.522779</td>\n",
       "      <td>-55.765835</td>\n",
       "    </tr>\n",
       "    <tr>\n",
       "      <th>191</th>\n",
       "      <td>39.3</td>\n",
       "      <td>331.21</td>\n",
       "      <td>522.0</td>\n",
       "      <td>16.75</td>\n",
       "      <td>192.668</td>\n",
       "      <td>163.52</td>\n",
       "      <td>2.05</td>\n",
       "      <td>48.1</td>\n",
       "      <td>&lt;NA&gt;</td>\n",
       "      <td>&lt;NA&gt;</td>\n",
       "      <td>...</td>\n",
       "      <td>43.5</td>\n",
       "      <td>0.82</td>\n",
       "      <td>&lt;NA&gt;</td>\n",
       "      <td>77.4</td>\n",
       "      <td>19.1</td>\n",
       "      <td>37.6</td>\n",
       "      <td>2.01</td>\n",
       "      <td>&lt;NA&gt;</td>\n",
       "      <td>14.058324</td>\n",
       "      <td>108.277199</td>\n",
       "    </tr>\n",
       "    <tr>\n",
       "      <th>193</th>\n",
       "      <td>32.1</td>\n",
       "      <td>752.618</td>\n",
       "      <td>16.0</td>\n",
       "      <td>36.19</td>\n",
       "      <td>5.141</td>\n",
       "      <td>212.31</td>\n",
       "      <td>4.63</td>\n",
       "      <td>65.2</td>\n",
       "      <td>&lt;NA&gt;</td>\n",
       "      <td>&lt;NA&gt;</td>\n",
       "      <td>...</td>\n",
       "      <td>27.5</td>\n",
       "      <td>1.19</td>\n",
       "      <td>&lt;NA&gt;</td>\n",
       "      <td>74.6</td>\n",
       "      <td>16.2</td>\n",
       "      <td>15.6</td>\n",
       "      <td>11.43</td>\n",
       "      <td>&lt;NA&gt;</td>\n",
       "      <td>-13.133897</td>\n",
       "      <td>27.849332</td>\n",
       "    </tr>\n",
       "  </tbody>\n",
       "</table>\n",
       "<p>112 rows × 25 columns</p>\n",
       "</div>"
      ],
      "text/plain": [
       "     Agricultural Land( %)  Land Area(Km2)  Armed Forces size  Birth Rate  \\\n",
       "0                     58.1          652.23              323.0       32.49   \n",
       "1                     43.1          28.748                9.0       11.78   \n",
       "2                     17.4            <NA>              317.0       24.28   \n",
       "4                     47.5            <NA>              117.0       40.73   \n",
       "6                     54.3            <NA>              105.0       17.02   \n",
       "..                     ...             ...                ...         ...   \n",
       "185                   71.7          243.61              148.0        11.0   \n",
       "186                   44.4            <NA>               <NA>        11.6   \n",
       "187                   82.6         176.215               22.0       13.86   \n",
       "191                   39.3          331.21              522.0       16.75   \n",
       "193                   32.1         752.618               16.0       36.19   \n",
       "\n",
       "     Co2-Emissions     CPI  Fertility Rate  Forested Area (%)  Gasoline Price  \\\n",
       "0            8.672   149.9            4.47                2.1            <NA>   \n",
       "1            4.536  119.05            1.62               28.1            <NA>   \n",
       "2          150.006  151.36            3.02                0.8            <NA>   \n",
       "4           34.693  261.73            5.52               46.3            <NA>   \n",
       "6          201.348  232.75            2.26                9.8            <NA>   \n",
       "..             ...     ...             ...                ...             ...   \n",
       "185        379.025  119.62            1.68               13.1            <NA>   \n",
       "186           <NA>  117.24            1.73               33.9            <NA>   \n",
       "187          6.766  202.92            1.97               10.7            <NA>   \n",
       "191        192.668  163.52            2.05               48.1            <NA>   \n",
       "193          5.141  212.31            4.63               65.2            <NA>   \n",
       "\n",
       "      GDP  ...  Out of pocket health expenditure  Physicians per thousand  \\\n",
       "0    <NA>  ...                              78.4                     0.28   \n",
       "1    <NA>  ...                              56.9                      1.2   \n",
       "2    <NA>  ...                              28.1                     1.72   \n",
       "4    <NA>  ...                              33.4                     0.21   \n",
       "6    <NA>  ...                              17.6                     3.96   \n",
       "..    ...  ...                               ...                      ...   \n",
       "185  <NA>  ...                              14.8                     2.81   \n",
       "186  <NA>  ...                              11.1                     2.61   \n",
       "187  <NA>  ...                              16.2                     5.05   \n",
       "191  <NA>  ...                              43.5                     0.82   \n",
       "193  <NA>  ...                              27.5                     1.19   \n",
       "\n",
       "     Population  Population: Labor force participation (%)  Tax revenue (%)  \\\n",
       "0          <NA>                                       48.9              9.3   \n",
       "1          <NA>                                       55.7             18.6   \n",
       "2          <NA>                                       41.2             37.2   \n",
       "4          <NA>                                       77.5              9.2   \n",
       "6          <NA>                                       61.3             10.1   \n",
       "..          ...                                        ...              ...   \n",
       "185        <NA>                                       62.8             25.5   \n",
       "186        <NA>                                       62.0              9.6   \n",
       "187        <NA>                                       64.0             20.1   \n",
       "191        <NA>                                       77.4             19.1   \n",
       "193        <NA>                                       74.6             16.2   \n",
       "\n",
       "     Total tax rate  Unemployment rate  Urban_population   Latitude  \\\n",
       "0              71.4              11.12              <NA>   33.93911   \n",
       "1              36.6              12.33              <NA>  41.153332   \n",
       "2              66.1               11.7              <NA>  28.033886   \n",
       "4              49.1               6.89              <NA> -11.202692   \n",
       "6             106.3               9.79              <NA> -38.416097   \n",
       "..              ...                ...               ...        ...   \n",
       "185            30.6               3.85              <NA>  55.378051   \n",
       "186            36.6               14.7              <NA>   37.09024   \n",
       "187            41.8               8.73              <NA> -32.522779   \n",
       "191            37.6               2.01              <NA>  14.058324   \n",
       "193            15.6              11.43              <NA> -13.133897   \n",
       "\n",
       "      Longitude  \n",
       "0     67.709953  \n",
       "1     20.168331  \n",
       "2      1.659626  \n",
       "4     17.873887  \n",
       "6    -63.616672  \n",
       "..          ...  \n",
       "185   -3.435973  \n",
       "186  -95.712891  \n",
       "187  -55.765835  \n",
       "191  108.277199  \n",
       "193   27.849332  \n",
       "\n",
       "[112 rows x 25 columns]"
      ]
     },
     "execution_count": 49,
     "metadata": {},
     "output_type": "execute_result"
    }
   ],
   "source": [
    "float_columns = df_mundo.select_dtypes(include=['float'])\n",
    "float_columns"
   ]
  },
  {
   "cell_type": "markdown",
   "metadata": {},
   "source": [
    "**PARTE 3: TABLA DE VARIABLES**\n",
    "***"
   ]
  },
  {
   "cell_type": "code",
   "execution_count": 50,
   "metadata": {},
   "outputs": [
    {
     "data": {
      "text/plain": [
       "Country                                      112\n",
       "Density\\n(P/Km2)                              86\n",
       "Agricultural Land( %)                        104\n",
       "Land Area(Km2)                                90\n",
       "Armed Forces size                             78\n",
       "Birth Rate                                   103\n",
       "Co2-Emissions                                108\n",
       "CPI                                          110\n",
       "CPI Change (%)                                65\n",
       "Currency-Code                                 90\n",
       "Fertility Rate                                97\n",
       "Forested Area (%)                            103\n",
       "Gasoline Price                                 0\n",
       "GDP                                            0\n",
       "Gross primary education enrollment (%)        90\n",
       "Gross tertiary education enrollment (%)      108\n",
       "Infant mortality                              91\n",
       "Life expectancy                               87\n",
       "Maternal mortality ratio                      78\n",
       "Minimum wage                                   0\n",
       "Out of pocket health expenditure             101\n",
       "Physicians per thousand                       99\n",
       "Population                                     6\n",
       "Population: Labor force participation (%)    100\n",
       "Tax revenue (%)                               85\n",
       "Total tax rate                               104\n",
       "Unemployment rate                            104\n",
       "Urban_population                              10\n",
       "Latitude                                     112\n",
       "Longitude                                    112\n",
       "dtype: int64"
      ]
     },
     "execution_count": 50,
     "metadata": {},
     "output_type": "execute_result"
    }
   ],
   "source": [
    "#Averiguamos la cardinalidad de las variables. Si cardinalidad < 10 serán categóricas, si no, serán numéricas\n",
    "cardinalidad = df_mundo.nunique()\n",
    "cardinalidad"
   ]
  },
  {
   "cell_type": "code",
   "execution_count": 51,
   "metadata": {},
   "outputs": [
    {
     "data": {
      "text/plain": [
       "Country                                      100.000000\n",
       "Density\\n(P/Km2)                              76.785714\n",
       "Agricultural Land( %)                         92.857143\n",
       "Land Area(Km2)                                80.357143\n",
       "Armed Forces size                             69.642857\n",
       "Birth Rate                                    91.964286\n",
       "Co2-Emissions                                 96.428571\n",
       "CPI                                           98.214286\n",
       "CPI Change (%)                                58.035714\n",
       "Currency-Code                                 80.357143\n",
       "Fertility Rate                                86.607143\n",
       "Forested Area (%)                             91.964286\n",
       "Gasoline Price                                 0.000000\n",
       "GDP                                            0.000000\n",
       "Gross primary education enrollment (%)        80.357143\n",
       "Gross tertiary education enrollment (%)       96.428571\n",
       "Infant mortality                              81.250000\n",
       "Life expectancy                               77.678571\n",
       "Maternal mortality ratio                      69.642857\n",
       "Minimum wage                                   0.000000\n",
       "Out of pocket health expenditure              90.178571\n",
       "Physicians per thousand                       88.392857\n",
       "Population                                     5.357143\n",
       "Population: Labor force participation (%)     89.285714\n",
       "Tax revenue (%)                               75.892857\n",
       "Total tax rate                                92.857143\n",
       "Unemployment rate                             92.857143\n",
       "Urban_population                               8.928571\n",
       "Latitude                                     100.000000\n",
       "Longitude                                    100.000000\n",
       "dtype: float64"
      ]
     },
     "execution_count": 51,
     "metadata": {},
     "output_type": "execute_result"
    }
   ],
   "source": [
    "#Todas las variables son numéricas ya que la cardinalidad > 10 en todas \n",
    "#Averiguamos el porcentaje de cardinalidad. Si % cardinalidad > 30% serán numéricas continuas, si no, serán discretas\n",
    "porcentaje_cardinalidad = (cardinalidad / len(df_mundo)) * 100\n",
    "porcentaje_cardinalidad "
   ]
  },
  {
   "cell_type": "markdown",
   "metadata": {},
   "source": [
    "Todas las variables son numéricas continuas ya que la cardinalidad es mayor de 10 y el porcentaje de cardinalidad es mayor del 30%. Además, se observa que hay varias variables target/directoras, ya que su cardinalidad es del 100%. Estas variables son: country, land area (km2), co2-emissions, GDP, population, urban_population, latitude y longitude."
   ]
  },
  {
   "cell_type": "markdown",
   "metadata": {},
   "source": [
    "|Columna/Variable|Descripción|Tipo_de_Variable|Importancia inicial|Nota|\n",
    "|-|-|-|-|-|\n",
    "|Country|País|Numérica continua/índice/directora/target|0||\n",
    "|Density|Densidad (p/km2)|Numérica continua|1|||\n",
    "|Agricultural Land( %)|% tierras agrícolas|Numérica continua|2|||\n",
    "|Land Area(Km2) |Superficie terrestre (km2)|Numérica continua/índice/directora/target|0|||\n",
    "|Armed Forces size|Tamaño fuerzas armadas|Numérica continua|3|||\n",
    "|Birth Rate|Tasa de natalidad|Numérica continua|2|||\n",
    "|Co2-Emissions |Emisiones CO2 (toneladas)|Numérica continua/índice/directora/target|0|||\n",
    "|CPI|IPC|Numérica continua|2||\n",
    "|CPI Change (%) |Variación % IPC (respecto al año interior) |Numérica continua|2|||\n",
    "|Currency-Code |Moneda|Numérica continua|3|||\n",
    "|Fertility Rate|Tasa de fertilidad|Numérica continua|2|||\n",
    "|Forested Area (%)  |Superficie forestal|Numérica continua|1|||\n",
    "|GDP |PIB|Numérica continua/índice/directora/target|2|||\n",
    "|Gross primary education enrollment (%)  |Matrícula Educación Primaria %|Numérica continua|1|||\n",
    "|Gross tertiary education enrollment (%)|Matrícula Educación Terciaria %|Numérica continua|1|||\n",
    "|Infant mortality  |Mortalidad infantil|Numérica continua|2|||\n",
    "|Life expectancy  |Esperanza de vida|Numérica continua|1|||\n",
    "|Maternal mortality ratio   |Tasa de mortalidad infantil|Numérica continua|2|||\n",
    "|Minimum wage  |Salario mínimo|Numérica continua|1|||\n",
    "|Maternal mortality ratio   |Tasa de mortalidad materna|Numérica continua|2|||\n",
    "|Out of pocket health expenditure  |Gasto por persona en salud|Numérica continua|1|||\n",
    "|Physicians per thousand  |Nº médicos por cada mil habitantes|Numérica continua|1|||\n",
    "|Population |Población|Numérica continua/índice/directora/target|0|||\n",
    "|Population: Labor force participation (%)   |Población participante fuerza laboral|Numérica continua|2|||\n",
    "|Tax revenue (%)  |% beneficios comerciales|Numérica continua|3|||\n",
    "|Unemployment rate  |Tasa de desempleo|Numérica continua|1|||\n",
    "|Total tax rate  |Carga fiscal global|Numérica continua|3|||\n",
    "|Urban_population  |Población urbana|Numérica continua/índice/directora/target|0|||\n",
    "|Latitude  |Latitud|Numérica continua/índice/directora/target|0|||\n",
    "|Longitude  |Longitud|Numérica continua/índice/directora/target|0|||\n",
    "|Gasoline price  |Precio gasolina/litro|Numérica continua|2|||"
   ]
  },
  {
   "cell_type": "markdown",
   "metadata": {},
   "source": [
    "**PARTE 4: ANÁLISIS**\n",
    "***"
   ]
  },
  {
   "cell_type": "markdown",
   "metadata": {},
   "source": [
    "Debido a que el objetivo de mi estudio es averiguar el mejor país para vivir, voy a usar como variable directora principal country y voy a hacer varios tipos de análisis. Primero, un análisis univariante de algunas variables porque quiero averiguar si hay muchos valores dispersos, para comprobar la diferencia entre países. Para ello, usaré la desviación típica. Después, haré un análisis bivariante para averiguar la correlación entre algunas variables, de forma general en el mundo y usaré la correlación de Pearson. Por último, basándome en la media de cada variable, haré un ranking de países de mayor a menor calidad para vivir. Para ello, crearé una nueva columna en el dataframe, la cual llamaré \"cantidad de 1\". Si una variable positiva, en un país, es mayor de la media se sumará un 1 y si es una variable negativa, y el valor está por debajo de la media, se sumará un 1. El ranking se ordenará en función de la cantidad de 1 que tengan los países. A continuación, haré una clasificación en función de los países que sean aptos o no aptos para vivir (según su cantidad de 1) y, a su vez cuál sería el mejor y el peor país para vivir."
   ]
  },
  {
   "cell_type": "code",
   "execution_count": 52,
   "metadata": {},
   "outputs": [
    {
     "data": {
      "text/plain": [
       "Index(['Country', 'Density\\n(P/Km2)', 'Agricultural Land( %)',\n",
       "       'Land Area(Km2)', 'Armed Forces size', 'Birth Rate', 'Co2-Emissions',\n",
       "       'CPI', 'CPI Change (%)', 'Currency-Code', 'Fertility Rate',\n",
       "       'Forested Area (%)', 'Gasoline Price', 'GDP',\n",
       "       'Gross primary education enrollment (%)',\n",
       "       'Gross tertiary education enrollment (%)', 'Infant mortality',\n",
       "       'Life expectancy', 'Maternal mortality ratio', 'Minimum wage',\n",
       "       'Out of pocket health expenditure', 'Physicians per thousand',\n",
       "       'Population', 'Population: Labor force participation (%)',\n",
       "       'Tax revenue (%)', 'Total tax rate', 'Unemployment rate',\n",
       "       'Urban_population', 'Latitude', 'Longitude'],\n",
       "      dtype='object')"
      ]
     },
     "execution_count": 52,
     "metadata": {},
     "output_type": "execute_result"
    }
   ],
   "source": [
    "df_mundo.columns"
   ]
  },
  {
   "cell_type": "code",
   "execution_count": 53,
   "metadata": {},
   "outputs": [
    {
     "data": {
      "image/png": "[encoded data removed]",
      "text/plain": [
       "<Figure size 640x480 with 1 Axes>"
      ]
     },
     "metadata": {},
     "output_type": "display_data"
    }
   ],
   "source": [
    "#esperanza de vida en el mundo\n",
    "df_mundo.hist(column='Life expectancy')\n",
    "plt.show()"
   ]
  },
  {
   "cell_type": "code",
   "execution_count": 54,
   "metadata": {},
   "outputs": [
    {
     "data": {
      "text/plain": [
       "1.3099026362080948"
      ]
     },
     "execution_count": 54,
     "metadata": {},
     "output_type": "execute_result"
    }
   ],
   "source": [
    "#calculo la desviacion tipica de diferentes variables para averiguar si hay muchos valores dispersos o no\n",
    "#esto me permitirá saber si hay mucha o poca variación en el mundo\n",
    "std_dev_f = df_mundo['Fertility Rate'].std()\n",
    "std_dev_f"
   ]
  },
  {
   "cell_type": "code",
   "execution_count": 55,
   "metadata": {},
   "outputs": [
    {
     "data": {
      "text/plain": [
       "10.047046281773328"
      ]
     },
     "execution_count": 55,
     "metadata": {},
     "output_type": "execute_result"
    }
   ],
   "source": [
    "std_dev_b = df_mundo['Birth Rate'].std()\n",
    "std_dev_b"
   ]
  },
  {
   "cell_type": "code",
   "execution_count": 56,
   "metadata": {},
   "outputs": [
    {
     "data": {
      "text/plain": [
       "18.420847752414435"
      ]
     },
     "execution_count": 56,
     "metadata": {},
     "output_type": "execute_result"
    }
   ],
   "source": [
    "std_dev_i = df_mundo['Infant mortality'].std()\n",
    "std_dev_i\n"
   ]
  },
  {
   "cell_type": "code",
   "execution_count": 57,
   "metadata": {},
   "outputs": [
    {
     "data": {
      "text/plain": [
       "1.598290663101691"
      ]
     },
     "execution_count": 57,
     "metadata": {},
     "output_type": "execute_result"
    }
   ],
   "source": [
    "std_dev_p = df_mundo['Physicians per thousand'].std()\n",
    "std_dev_p"
   ]
  },
  {
   "cell_type": "code",
   "execution_count": 58,
   "metadata": {},
   "outputs": [
    {
     "data": {
      "text/plain": [
       "181.3989815730766"
      ]
     },
     "execution_count": 58,
     "metadata": {},
     "output_type": "execute_result"
    }
   ],
   "source": [
    "std_dev_ar = df_mundo['Armed Forces size'].std()\n",
    "std_dev_ar"
   ]
  },
  {
   "cell_type": "code",
   "execution_count": 59,
   "metadata": {},
   "outputs": [
    {
     "data": {
      "text/plain": [
       "60.293279363971536"
      ]
     },
     "execution_count": 59,
     "metadata": {},
     "output_type": "execute_result"
    }
   ],
   "source": [
    "std_dev_cpi = df_mundo['CPI'].std()\n",
    "std_dev_cpi"
   ]
  },
  {
   "cell_type": "code",
   "execution_count": 60,
   "metadata": {},
   "outputs": [
    {
     "data": {
      "text/plain": [
       "11.62074654752225"
      ]
     },
     "execution_count": 60,
     "metadata": {},
     "output_type": "execute_result"
    }
   ],
   "source": [
    "std_dev_ed = df_mundo['Gross primary education enrollment (%)'].std()\n",
    "std_dev_ed"
   ]
  },
  {
   "cell_type": "code",
   "execution_count": 61,
   "metadata": {},
   "outputs": [
    {
     "data": {
      "text/plain": [
       "28.961974901353244"
      ]
     },
     "execution_count": 61,
     "metadata": {},
     "output_type": "execute_result"
    }
   ],
   "source": [
    "std_dev_edd = df_mundo['Gross tertiary education enrollment (%)'].std()\n",
    "std_dev_edd"
   ]
  },
  {
   "cell_type": "code",
   "execution_count": 62,
   "metadata": {},
   "outputs": [
    {
     "data": {
      "text/plain": [
       "18.587441270195665"
      ]
     },
     "execution_count": 62,
     "metadata": {},
     "output_type": "execute_result"
    }
   ],
   "source": [
    "std_dev_h = df_mundo['Out of pocket health expenditure'].std()\n",
    "std_dev_h"
   ]
  },
  {
   "cell_type": "code",
   "execution_count": 63,
   "metadata": {},
   "outputs": [
    {
     "data": {
      "text/plain": [
       "4.313364702632396"
      ]
     },
     "execution_count": 63,
     "metadata": {},
     "output_type": "execute_result"
    }
   ],
   "source": [
    "std_dev_un = df_mundo['Unemployment rate'].std()\n",
    "std_dev_un"
   ]
  },
  {
   "cell_type": "code",
   "execution_count": 64,
   "metadata": {},
   "outputs": [
    {
     "data": {
      "text/plain": [
       "242.8305592982939"
      ]
     },
     "execution_count": 64,
     "metadata": {},
     "output_type": "execute_result"
    }
   ],
   "source": [
    "std_dev_ur = df_mundo['Urban_population'].std()\n",
    "std_dev_ur"
   ]
  },
  {
   "cell_type": "code",
   "execution_count": 65,
   "metadata": {},
   "outputs": [
    {
     "data": {
      "text/plain": [
       "201.04626509301463"
      ]
     },
     "execution_count": 65,
     "metadata": {},
     "output_type": "execute_result"
    }
   ],
   "source": [
    "std_dev_m = df_mundo['Maternal mortality ratio'].std()\n",
    "std_dev_m"
   ]
  },
  {
   "cell_type": "code",
   "execution_count": 66,
   "metadata": {},
   "outputs": [
    {
     "data": {
      "text/plain": [
       "6.468243817977418"
      ]
     },
     "execution_count": 66,
     "metadata": {},
     "output_type": "execute_result"
    }
   ],
   "source": [
    "std_dev_t = df_mundo['Tax revenue (%)'].std()\n",
    "std_dev_t"
   ]
  },
  {
   "cell_type": "code",
   "execution_count": 67,
   "metadata": {},
   "outputs": [
    {
     "data": {
      "text/plain": [
       "19.41948279272486"
      ]
     },
     "execution_count": 67,
     "metadata": {},
     "output_type": "execute_result"
    }
   ],
   "source": [
    "std_dev_ag = df_mundo['Agricultural Land( %)'].std()\n",
    "std_dev_ag"
   ]
  },
  {
   "cell_type": "code",
   "execution_count": 68,
   "metadata": {},
   "outputs": [
    {
     "data": {
      "text/plain": [
       "182.71162499181446"
      ]
     },
     "execution_count": 68,
     "metadata": {},
     "output_type": "execute_result"
    }
   ],
   "source": [
    "std_dev_CO = df_mundo['Co2-Emissions'].std()\n",
    "std_dev_CO"
   ]
  },
  {
   "cell_type": "markdown",
   "metadata": {},
   "source": [
    "Como conclusión, destacaría que la fertilidad, la natalidad, la cantidad de médicos por cada mil habitantes, la esperanza de vida, el porcentaje de beneficios comerciales, la tasa de desempleo, el porcentaje de tierras agrícolas y la educación primaria son parecidas en todo el mundo ya que la desviación típica es menor del 15%. Sin embargo, diría que la mortalidad infantil, el gasto en salud por persona y la educación terciaria es más diferente en el mundo ya que su desviación típica es mayor del 15%, incluso la educación terciaria diría que hay bastante diferencia ya que está rozando la desviación típica el 30%. En cuanto al IPC se diría que la diferencia es bastante alta ya que nos encontramos con una desviacion del 60%. Y, por último, las diferencias enormes que se pueden observar son las emisiones de CO2, el tamaño de las fuerzas armadas, la población urbana y la tasa de mortalidad materna."
   ]
  },
  {
   "cell_type": "code",
   "execution_count": 69,
   "metadata": {},
   "outputs": [
    {
     "data": {
      "text/plain": [
       "-0.8775537653541257"
      ]
     },
     "execution_count": 69,
     "metadata": {},
     "output_type": "execute_result"
    }
   ],
   "source": [
    "from scipy.stats import pearsonr\n",
    "\n",
    "correlation, p_value = pearsonr(df_mundo['Birth Rate'], df_mundo['Life expectancy'])\n",
    "correlation\n",
    "#Existe una alta correlación negativa entre la esperanza de vida y la tasa de natalidad, lo que significa que las dos variables están asociadas en sentido inverso\n",
    "#Significa que cuando la esperanza de vida sea alta, la tasa de natalidad será baja y viceversa"
   ]
  },
  {
   "cell_type": "markdown",
   "metadata": {},
   "source": [
    "***Primera conclusión:*** la tasa de natalidad influye de forma negativa en la esperanza de vida. A mayor cantidad de niños nacidos, la esperanza de vida será menor para la población. ¿A qué puede ser debido? ¿Menos oportunidades por niño, menos dinero por niño, más sobrepoblación para la cantidad de médicos, más posibilidades de mortalidad infantil?"
   ]
  },
  {
   "cell_type": "code",
   "execution_count": 70,
   "metadata": {},
   "outputs": [
    {
     "data": {
      "text/plain": [
       "-0.9307655905715554"
      ]
     },
     "execution_count": 70,
     "metadata": {},
     "output_type": "execute_result"
    }
   ],
   "source": [
    "correlation, p_value = pearsonr(df_mundo['Life expectancy'], df_mundo['Infant mortality'])\n",
    "correlation\n",
    "#Existe una alta correlación negativa entre la esperanza de vida y la tasa de natalidad, lo que significa que las dos variables están asociadas en sentido inverso\n",
    "#Significa que cuando la esperanza de vida sea alta, la tasa de mortalidad infantil será baja y viceversa"
   ]
  },
  {
   "cell_type": "code",
   "execution_count": 71,
   "metadata": {},
   "outputs": [
    {
     "data": {
      "image/png": "[encoded data removed]",
      "text/plain": [
       "<Figure size 640x480 with 1 Axes>"
      ]
     },
     "metadata": {},
     "output_type": "display_data"
    }
   ],
   "source": [
    "df_mundo.plot(x='Life expectancy', y='Infant mortality', kind='hist')\n",
    "plt.xlabel('Esperanza de vida')\n",
    "plt.ylabel('Mortalidad infantil')\n",
    "plt.title('Esperanza de vida vs. Mortalidad infantil')\n",
    "plt.show()"
   ]
  },
  {
   "cell_type": "markdown",
   "metadata": {},
   "source": [
    "***Segunda conclusión:*** la tasa de mortalidad influye de forma negativa en la esperanza de vida. A mayor cantidad de niños muertos, la esperanza de vida será menor para la población. ¿A qué puede ser debido? ¿Relación entre mortalidad infantil y tasa de natalidad?"
   ]
  },
  {
   "cell_type": "code",
   "execution_count": 72,
   "metadata": {},
   "outputs": [
    {
     "data": {
      "text/plain": [
       "0.8849320029132772"
      ]
     },
     "execution_count": 72,
     "metadata": {},
     "output_type": "execute_result"
    }
   ],
   "source": [
    "correlation, p_value = pearsonr(df_mundo['Birth Rate'], df_mundo['Infant mortality'])\n",
    "correlation\n",
    "#Existe una alta correlación positiva entre la tasa de natalidad ymortalidad infantil, lo que significa que las dos variables están asociadas de forma directa\n",
    "#Significa que cuando la tasa de natalidad sea alta, la mortalidad infantil será alta y viceversa"
   ]
  },
  {
   "cell_type": "code",
   "execution_count": 73,
   "metadata": {},
   "outputs": [
    {
     "data": {
      "image/png": "[encoded data removed]",
      "text/plain": [
       "<Figure size 640x480 with 1 Axes>"
      ]
     },
     "metadata": {},
     "output_type": "display_data"
    }
   ],
   "source": [
    "df_mundo.plot(x='Birth Rate', y='Infant mortality', kind='hist')\n",
    "plt.xlabel('Tasa de natalidad')\n",
    "plt.ylabel('Mortalidad infantil')\n",
    "plt.title('Tasa de natalidad vs. Mortalidad infantil')\n",
    "plt.show()"
   ]
  },
  {
   "cell_type": "markdown",
   "metadata": {},
   "source": [
    "***Tercera conclusión:*** la tasa de natalidad influye de forma positiva en la mortalidad infantil. A mayor cantidad de niños nacidos, implicará una mayor mortalidad. "
   ]
  },
  {
   "cell_type": "code",
   "execution_count": 74,
   "metadata": {},
   "outputs": [
    {
     "data": {
      "text/plain": [
       "0.6902091844781157"
      ]
     },
     "execution_count": 74,
     "metadata": {},
     "output_type": "execute_result"
    }
   ],
   "source": [
    "correlation, p_value = pearsonr(df_mundo['Life expectancy'], df_mundo['Physicians per thousand'])\n",
    "correlation\n",
    "#Existe una alta correlación positiva entre la esperanza de vida y la tasa de natalidad, lo que significa que las dos variables están asociadas de forma directa\n",
    "#Significa que cuando la esperanza de vida sea alta, la cantidad de médicos/1000 habitantes será alta y viceversa"
   ]
  },
  {
   "cell_type": "markdown",
   "metadata": {},
   "source": [
    "***Cuarta conclusión:*** la cantidad de médicos influye de forma positiva en la esperanza de vida. A mayor cantidad de médicos, la esperanza de vida será mayor para la población. "
   ]
  },
  {
   "cell_type": "code",
   "execution_count": 75,
   "metadata": {},
   "outputs": [
    {
     "data": {
      "text/plain": [
       "0.9822209685921491"
      ]
     },
     "execution_count": 75,
     "metadata": {},
     "output_type": "execute_result"
    }
   ],
   "source": [
    "correlation, p_value = pearsonr(df_mundo['Birth Rate'], df_mundo['Fertility Rate'])\n",
    "correlation\n",
    "#Existe una alta correlación positiva entre la tasa de fertilidad y la tasa de natalidad, lo que significa que las dos variables están asociadas de forma directa\n",
    "#Significa que cuando la tasa de fertilidad sea alta, la tasa de natalidad será alta y viceversa"
   ]
  },
  {
   "cell_type": "markdown",
   "metadata": {},
   "source": [
    "***Quinta conclusión:*** la tasa de fertilidad influye de forma positiva en la tasa de natalidad. Si la población es más fértil, la tasa de natalidad será mayor para la población."
   ]
  },
  {
   "cell_type": "code",
   "execution_count": 76,
   "metadata": {},
   "outputs": [
    {
     "data": {
      "text/plain": [
       "0.8833214461410345"
      ]
     },
     "execution_count": 76,
     "metadata": {},
     "output_type": "execute_result"
    }
   ],
   "source": [
    "correlation, p_value = pearsonr(df_mundo['Infant mortality'], df_mundo['Maternal mortality ratio'])\n",
    "correlation\n",
    "#Existe una alta correlación positiva entre la tasa de mortalidad infantil y la tasa de mortalidad materna, lo que significa que las dos variables están asociadas de forma directa\n",
    "#Significa que cuando la tasa de mortalidad materna sea alta, la tasa de mortalidad infantil será alta y viceversa"
   ]
  },
  {
   "cell_type": "markdown",
   "metadata": {},
   "source": [
    "***Sexta conclusión:*** la tasa de mortalidad materna influye de forma positiva en la tasa de mortalidad infantil. Es más probable que si muere uno de los dos durante el parto, también muera el otro."
   ]
  },
  {
   "cell_type": "code",
   "execution_count": 77,
   "metadata": {},
   "outputs": [
    {
     "data": {
      "text/plain": [
       "-0.15482024996739532"
      ]
     },
     "execution_count": 77,
     "metadata": {},
     "output_type": "execute_result"
    }
   ],
   "source": [
    "correlation, p_value = pearsonr(df_mundo['Gross primary education enrollment (%)'], df_mundo['Gross tertiary education enrollment (%)'])\n",
    "correlation\n",
    "#Existe una alta correlación negativa entre la educación primaria y la educación terciaria, lo que significa que las dos variables están asociadas de forma inversa\n",
    "#Significa que cuando la tasa de eduación primaria sube, la tasa de educación terciaria baja y viceversa\n",
    "#Pero es una correlación débil"
   ]
  },
  {
   "cell_type": "markdown",
   "metadata": {},
   "source": [
    "***Séptima conclusión:*** basándome en la desviación y en la correlación, se podría decir que hay menos diferencia en el mundo sobre la cantidad de personas que acceden a la educación primaria, pero sí se nota diferencia con la educación terciaria. Existe una correlación negativa entre ambas variables pero es débil lo que significa que hay otros factores en juego."
   ]
  },
  {
   "cell_type": "code",
   "execution_count": 78,
   "metadata": {},
   "outputs": [
    {
     "data": {
      "text/plain": [
       "0.7666160730570042"
      ]
     },
     "execution_count": 78,
     "metadata": {},
     "output_type": "execute_result"
    }
   ],
   "source": [
    "correlation, p_value = pearsonr(df_mundo['Life expectancy'], df_mundo['Gross tertiary education enrollment (%)'])\n",
    "correlation\n",
    "#Existe una alta correlación positiva entre la esperanza de vida y la educación terciaria, lo que significa que las dos variables están asociadas de forma directa\n",
    "#Significa que cuando la tasa de educación terciaria es alta, la esperanza de vida sube significativamente y viceversa"
   ]
  },
  {
   "cell_type": "markdown",
   "metadata": {},
   "source": [
    "***Octava conclusión:*** existe una alta correlación positiva entre la esperanza de vida y la tasa de educación terciaria. Esto significa que en los países con mayor acceso a una educación superior, la esperanza de vida aumenta."
   ]
  },
  {
   "cell_type": "code",
   "execution_count": 79,
   "metadata": {},
   "outputs": [
    {
     "data": {
      "text/plain": [
       "0.17647336836740304"
      ]
     },
     "execution_count": 79,
     "metadata": {},
     "output_type": "execute_result"
    }
   ],
   "source": [
    "correlation, p_value = pearsonr(df_mundo['Unemployment rate'], df_mundo['Gross tertiary education enrollment (%)'])\n",
    "correlation\n",
    "#Existe una correlación positiva entre la tasa de desmepleo y la educación terciaria, lo que significa que las dos variables están asociadas de forma directa\n",
    "  "
   ]
  },
  {
   "cell_type": "code",
   "execution_count": 80,
   "metadata": {},
   "outputs": [
    {
     "data": {
      "text/plain": [
       "-0.05781185780500679"
      ]
     },
     "execution_count": 80,
     "metadata": {},
     "output_type": "execute_result"
    }
   ],
   "source": [
    "correlation, p_value = pearsonr(df_mundo['Unemployment rate'], df_mundo['Gross primary education enrollment (%)'])\n",
    "correlation\n",
    "#Existe una correlación negativa entre la tasa de desmepleo y la educación terciaria, lo que significa que las dos variables están asociadas de forma inversa\n",
    "  "
   ]
  },
  {
   "cell_type": "markdown",
   "metadata": {},
   "source": [
    "***Novena conclusión:*** existe una correlación positiva entre el acceso a la educación terciaria y la tasa de desempleo, pero es mínima. Y lo mismo ocurre con el acceso a la educación primaria pero al contrario. Esto puede significar que es mínimamente más sencillo encontrar trabajo solo con la eduación primaria y que el acceder a una educación superior no garantiza mayores oportunidades de empleo, de hecho podríamos decir que, aunque de forma mínima, no es una ventaja. ¿Podríamos decir que quizá la población podría estar sobrecualificada para la oferta de trabajo existente?"
   ]
  },
  {
   "cell_type": "code",
   "execution_count": 81,
   "metadata": {},
   "outputs": [
    {
     "data": {
      "text/plain": [
       "-0.0649566008065778"
      ]
     },
     "execution_count": 81,
     "metadata": {},
     "output_type": "execute_result"
    }
   ],
   "source": [
    "correlation, p_value = pearsonr(df_mundo['Unemployment rate'], df_mundo['Birth Rate'])\n",
    "correlation\n",
    "#Existe una correlación negativa entre la tasa de desempleo y la tasa de natalidad, lo que significa que las dos variables están asociadas de forma inversa"
   ]
  },
  {
   "cell_type": "markdown",
   "metadata": {},
   "source": [
    "***Décima conclusión:*** podríamos decir que no existe prácticamente ninguna correlación entre la tasa de natalidad y el desempleo, lo que podría significar que estar trabajando no es un factor determinante para tener hijos. "
   ]
  },
  {
   "cell_type": "code",
   "execution_count": 82,
   "metadata": {},
   "outputs": [
    {
     "data": {
      "text/plain": [
       "0.12142409810224769"
      ]
     },
     "execution_count": 82,
     "metadata": {},
     "output_type": "execute_result"
    }
   ],
   "source": [
    "correlation, p_value = pearsonr(df_mundo['Unemployment rate'], df_mundo['Life expectancy'])\n",
    "correlation\n",
    "#Existe una correlación positiva entre la tasa de desempleo y la esperanza de vida, lo que significa que las dos variables están asociadas de forma directa"
   ]
  },
  {
   "cell_type": "markdown",
   "metadata": {},
   "source": [
    "***Undécima conclusión:*** podríamos decir que no existe prácticamente ninguna correlación entre la esperanza de vida y el desempleo, lo que podría significar que estar trabajando no es un factor determinante para tener más años de vida. "
   ]
  },
  {
   "cell_type": "markdown",
   "metadata": {},
   "source": [
    "Ahora averiguaré las medias de cada variable."
   ]
  },
  {
   "cell_type": "code",
   "execution_count": 83,
   "metadata": {},
   "outputs": [
    {
     "data": {
      "text/plain": [
       "Index(['Country', 'Density\\n(P/Km2)', 'Agricultural Land( %)',\n",
       "       'Land Area(Km2)', 'Armed Forces size', 'Birth Rate', 'Co2-Emissions',\n",
       "       'CPI', 'CPI Change (%)', 'Currency-Code', 'Fertility Rate',\n",
       "       'Forested Area (%)', 'Gasoline Price', 'GDP',\n",
       "       'Gross primary education enrollment (%)',\n",
       "       'Gross tertiary education enrollment (%)', 'Infant mortality',\n",
       "       'Life expectancy', 'Maternal mortality ratio', 'Minimum wage',\n",
       "       'Out of pocket health expenditure', 'Physicians per thousand',\n",
       "       'Population', 'Population: Labor force participation (%)',\n",
       "       'Tax revenue (%)', 'Total tax rate', 'Unemployment rate',\n",
       "       'Urban_population', 'Latitude', 'Longitude'],\n",
       "      dtype='object')"
      ]
     },
     "execution_count": 83,
     "metadata": {},
     "output_type": "execute_result"
    }
   ],
   "source": [
    "df_mundo.columns"
   ]
  },
  {
   "cell_type": "code",
   "execution_count": 85,
   "metadata": {},
   "outputs": [
    {
     "data": {
      "text/plain": [
       "249.9467666666667"
      ]
     },
     "execution_count": 85,
     "metadata": {},
     "output_type": "execute_result"
    }
   ],
   "source": [
    "mean2 = df_mundo['Land Area(Km2)'].mean()\n",
    "mean2"
   ]
  },
  {
   "cell_type": "code",
   "execution_count": 86,
   "metadata": {},
   "outputs": [
    {
     "data": {
      "text/plain": [
       "124.12962962962963"
      ]
     },
     "execution_count": 86,
     "metadata": {},
     "output_type": "execute_result"
    }
   ],
   "source": [
    "mean3 = df_mundo['Armed Forces size'].mean()\n",
    "mean3"
   ]
  },
  {
   "cell_type": "code",
   "execution_count": 87,
   "metadata": {},
   "outputs": [
    {
     "data": {
      "text/plain": [
       "20.240803571428575"
      ]
     },
     "execution_count": 87,
     "metadata": {},
     "output_type": "execute_result"
    }
   ],
   "source": [
    "mean4 = df_mundo['Birth Rate'].mean()\n",
    "mean4"
   ]
  },
  {
   "cell_type": "code",
   "execution_count": 88,
   "metadata": {},
   "outputs": [
    {
     "data": {
      "text/plain": [
       "118.90950925925927"
      ]
     },
     "execution_count": 88,
     "metadata": {},
     "output_type": "execute_result"
    }
   ],
   "source": [
    "mean5 = df_mundo['Co2-Emissions'].mean()\n",
    "mean5"
   ]
  },
  {
   "cell_type": "code",
   "execution_count": 89,
   "metadata": {},
   "outputs": [
    {
     "data": {
      "text/plain": [
       "150.4862162162162"
      ]
     },
     "execution_count": 89,
     "metadata": {},
     "output_type": "execute_result"
    }
   ],
   "source": [
    "mean6 = df_mundo['CPI'].mean()\n",
    "mean6"
   ]
  },
  {
   "cell_type": "code",
   "execution_count": 90,
   "metadata": {},
   "outputs": [
    {
     "data": {
      "text/plain": [
       "2.679642857142857"
      ]
     },
     "execution_count": 90,
     "metadata": {},
     "output_type": "execute_result"
    }
   ],
   "source": [
    "mean7 = df_mundo['Fertility Rate'].mean()\n",
    "mean7"
   ]
  },
  {
   "cell_type": "code",
   "execution_count": 91,
   "metadata": {},
   "outputs": [
    {
     "data": {
      "text/plain": [
       "29.766964285714284"
      ]
     },
     "execution_count": 91,
     "metadata": {},
     "output_type": "execute_result"
    }
   ],
   "source": [
    "mean8 = df_mundo['Forested Area (%)'].mean()\n",
    "mean8"
   ]
  },
  {
   "cell_type": "code",
   "execution_count": 92,
   "metadata": {},
   "outputs": [
    {
     "data": {
      "text/plain": [
       "103.55714285714285"
      ]
     },
     "execution_count": 92,
     "metadata": {},
     "output_type": "execute_result"
    }
   ],
   "source": [
    "mean9 = df_mundo['Gross primary education enrollment (%)'].mean()\n",
    "mean9"
   ]
  },
  {
   "cell_type": "code",
   "execution_count": 93,
   "metadata": {},
   "outputs": [
    {
     "data": {
      "text/plain": [
       "41.22589285714285"
      ]
     },
     "execution_count": 93,
     "metadata": {},
     "output_type": "execute_result"
    }
   ],
   "source": [
    "mean10 = df_mundo['Gross tertiary education enrollment (%)'].mean()\n",
    "mean10"
   ]
  },
  {
   "cell_type": "code",
   "execution_count": 94,
   "metadata": {},
   "outputs": [
    {
     "data": {
      "text/plain": [
       "20.260714285714283"
      ]
     },
     "execution_count": 94,
     "metadata": {},
     "output_type": "execute_result"
    }
   ],
   "source": [
    "mean11 = df_mundo['Infant mortality'].mean()\n",
    "mean11"
   ]
  },
  {
   "cell_type": "code",
   "execution_count": 95,
   "metadata": {},
   "outputs": [
    {
     "data": {
      "text/plain": [
       "72.68303571428571"
      ]
     },
     "execution_count": 95,
     "metadata": {},
     "output_type": "execute_result"
    }
   ],
   "source": [
    "mean12 = df_mundo['Life expectancy'].mean()\n",
    "mean12"
   ]
  },
  {
   "cell_type": "code",
   "execution_count": 96,
   "metadata": {},
   "outputs": [
    {
     "data": {
      "text/plain": [
       "138.19642857142858"
      ]
     },
     "execution_count": 96,
     "metadata": {},
     "output_type": "execute_result"
    }
   ],
   "source": [
    "mean13 = df_mundo['Maternal mortality ratio'].mean()\n",
    "mean13"
   ]
  },
  {
   "cell_type": "code",
   "execution_count": 97,
   "metadata": {},
   "outputs": [
    {
     "data": {
      "text/plain": [
       "35.25"
      ]
     },
     "execution_count": 97,
     "metadata": {},
     "output_type": "execute_result"
    }
   ],
   "source": [
    "mean14 = df_mundo['Out of pocket health expenditure'].mean()\n",
    "mean14"
   ]
  },
  {
   "cell_type": "code",
   "execution_count": 98,
   "metadata": {},
   "outputs": [
    {
     "data": {
      "text/plain": [
       "1.9155357142857146"
      ]
     },
     "execution_count": 98,
     "metadata": {},
     "output_type": "execute_result"
    }
   ],
   "source": [
    "mean15 = df_mundo['Physicians per thousand'].mean()\n",
    "mean15"
   ]
  },
  {
   "cell_type": "code",
   "execution_count": 99,
   "metadata": {},
   "outputs": [
    {
     "data": {
      "text/plain": [
       "533.1681666666667"
      ]
     },
     "execution_count": 99,
     "metadata": {},
     "output_type": "execute_result"
    }
   ],
   "source": [
    "mean16 = df_mundo['Population'].mean()\n",
    "mean16"
   ]
  },
  {
   "cell_type": "code",
   "execution_count": 100,
   "metadata": {},
   "outputs": [
    {
     "data": {
      "text/plain": [
       "15.616964285714285"
      ]
     },
     "execution_count": 100,
     "metadata": {},
     "output_type": "execute_result"
    }
   ],
   "source": [
    "mean17 = df_mundo['Tax revenue (%)'].mean()\n",
    "mean17"
   ]
  },
  {
   "cell_type": "code",
   "execution_count": 101,
   "metadata": {},
   "outputs": [
    {
     "data": {
      "text/plain": [
       "6.653571428571429"
      ]
     },
     "execution_count": 101,
     "metadata": {},
     "output_type": "execute_result"
    }
   ],
   "source": [
    "mean18= df_mundo['Unemployment rate'].mean()\n",
    "mean18"
   ]
  },
  {
   "cell_type": "code",
   "execution_count": 102,
   "metadata": {},
   "outputs": [
    {
     "data": {
      "text/plain": [
       "475.3067000000001"
      ]
     },
     "execution_count": 102,
     "metadata": {},
     "output_type": "execute_result"
    }
   ],
   "source": [
    "mean19 = df_mundo['Urban_population'].mean()\n",
    "mean19"
   ]
  },
  {
   "cell_type": "markdown",
   "metadata": {},
   "source": [
    "Por último, basándome en la media de cada variable, haré un ranking de países de mayor a menor calidad para vivir. Primero, voy a dividir las variables en positivas y negativas. Después, crearé una nueva columna en el dataframe, la cual llamaré \"cantidad de 1\". Si una variable positiva, en un país, es mayor de la media se sumará un 1 y si es una variable negativa, y el valor está por debajo de la media, se sumará un 1. El ranking se ordenará de mayor a menor en función de la cantidad de 1 que tengan los países."
   ]
  },
  {
   "cell_type": "code",
   "execution_count": 117,
   "metadata": {},
   "outputs": [
    {
     "data": {
      "text/plain": [
       "Country\n",
       "Luxembourg                          10\n",
       "Lithuania                           10\n",
       "Germany                             10\n",
       "Romania                             10\n",
       "Israel                              10\n",
       "Peru                                 9\n",
       "Colombia                             9\n",
       "Estonia                              9\n",
       "Portugal                             9\n",
       "Czech Republic                       9\n",
       "Poland                               9\n",
       "Belgium                              9\n",
       "Trinidad and Tobago                  9\n",
       "Mexico                               9\n",
       "Paraguay                             8\n",
       "Republic of Ireland                  8\n",
       "Hungary                              8\n",
       "Oman                                 8\n",
       "Saudi Arabia                         8\n",
       "Greece                               8\n",
       "New Zealand                          8\n",
       "Fiji                                 8\n",
       "Lebanon                              8\n",
       "Slovakia                             8\n",
       "France                               8\n",
       "Malta                                8\n",
       "Costa Rica                           8\n",
       "Slovenia                             8\n",
       "Bulgaria                             8\n",
       "United Kingdom                       8\n",
       "Thailand                             8\n",
       "Spain                                8\n",
       "Mozambique                           7\n",
       "Kazakhstan                           7\n",
       "Australia                            7\n",
       "Kuwait                               7\n",
       "United States                        7\n",
       "Latvia                               7\n",
       "Uruguay                              7\n",
       "Morocco                              7\n",
       "Mongolia                             7\n",
       "Malawi                               7\n",
       "Malaysia                             7\n",
       "Jordan                               7\n",
       "Croatia                              7\n",
       "Belize                               7\n",
       "Democratic Republic of the Congo     7\n",
       "Dominican Republic                   7\n",
       "Brazil                               7\n",
       "Sri Lanka                            7\n",
       "Canada                               7\n",
       "China                                7\n",
       "South Korea                          7\n",
       "Sierra Leone                         6\n",
       "Vietnam                              6\n",
       "Mauritius                            6\n",
       "Togo                                 6\n",
       "Serbia                               6\n",
       "Papua New Guinea                     6\n",
       "Syria                                6\n",
       "Tanzania                             6\n",
       "Senegal                              6\n",
       "Afghanistan                          6\n",
       "Ghana                                6\n",
       "Armenia                              6\n",
       "Georgia                              6\n",
       "Azerbaijan                           6\n",
       "Benin                                6\n",
       "Gabon                                6\n",
       "East Timor                           6\n",
       "Ivory Coast                          6\n",
       "Chile                                6\n",
       "Guatemala                            6\n",
       "Honduras                             6\n",
       "Argentina                            6\n",
       "Angola                               6\n",
       "Kyrgyzstan                           6\n",
       "Algeria                              6\n",
       "Albania                              6\n",
       "Madagascar                           6\n",
       "Cape Verde                           5\n",
       "Burkina Faso                         5\n",
       "Botswana                             5\n",
       "Moldova                              5\n",
       "Cameroon                             5\n",
       "Tunisia                              5\n",
       "Russia                               5\n",
       "Republic of the Congo                5\n",
       "Bangladesh                           5\n",
       "Turkey                               5\n",
       "Jamaica                              5\n",
       "Kenya                                5\n",
       "Myanmar                              5\n",
       "Laos                                 5\n",
       "Barbados                             5\n",
       "Uganda                               4\n",
       "Ukraine                              4\n",
       "The Gambia                           4\n",
       "Zambia                               4\n",
       "Indonesia                            4\n",
       "Iran                                 4\n",
       "Philippines                          4\n",
       "Iraq                                 4\n",
       "Pakistan                             4\n",
       "Niger                                4\n",
       "Nicaragua                            4\n",
       "Tajikistan                           3\n",
       "India                                3\n",
       "Nigeria                              3\n",
       "Nepal                                3\n",
       "Mali                                 3\n",
       "Sudan                                2\n",
       "Name: cantidad de 1, dtype: int64"
      ]
     },
     "execution_count": 117,
     "metadata": {},
     "output_type": "execute_result"
    }
   ],
   "source": [
    "#asigno las variables positivas\n",
    "variables_positivas = ['Agricultural Land( %)', 'Armed Forces size', 'Fertility Rate', 'Forested Area (%)', 'GDP',\n",
    "                       'Gross primary education enrollment (%)','Gross primary education enrollment (%)',\n",
    "                       'Life expectancy', 'Minimum wage', 'Physicians per thousand', 'Urban_population']\n",
    "#asigno las variables negativas\n",
    "variables_negativas = ['Density\\n(P/Km2', 'Co2-Emissions', 'CPI', 'Gasoline Price', 'Infant mortality',\n",
    "                       'Maternal mortality ratio', 'Out of pocket health expenditure', 'Unemployment rate' ]\n",
    "\n",
    "#calculo las medias de todas las variables de tipo float\n",
    "df_mundo.select_dtypes(include=['float']).mean()\n",
    "\n",
    "#creo la variable 'cantidad de 1' y la inicializo en 0\n",
    "df_mundo['cantidad de 1'] = 0\n",
    "\n",
    "#creo un bucle for para poder comparar cada variable de cada pais con la media de esa variable en todo el dataframe\n",
    "for col in df_mundo.select_dtypes(include=['float']).columns:\n",
    "    if col != 'Country': # si es una columna que no sea country\n",
    "        mean = df_mundo[col].mean() #declaramos la media\n",
    "        if col in variables_positivas: #primero empezamos con las variables positivas\n",
    "            df_mundo.loc[df_mundo[col] > mean, 'cantidad de 1'] += 1 #si el valor es mayor de la media, se suma un 1 al contador en la variable cantidad de 1\n",
    "        elif col in variables_negativas: #después continuamos con las variables negativas\n",
    "            df_mundo.loc[df_mundo[col] < mean, 'cantidad de 1'] += 1 #si el valor es menor de la media, se suma un 1 al contador en la variable cantidad de 1\n",
    "\n",
    "#esto me sirve para que me aparezcan las 112 filas del dataframe, para ver todos los países\n",
    "pd.set_option('display.max_rows', 112) \n",
    "\n",
    "#creamos un ranking ordenado de mayor a menor (en función del número de 1 sumados en la variable 'cantidad de 1')\n",
    "df_mundo.groupby('Country')['cantidad de 1'].sum().sort_values(ascending=False)\n",
    "\n",
    "\n"
   ]
  },
  {
   "cell_type": "code",
   "execution_count": 124,
   "metadata": {},
   "outputs": [
    {
     "data": {
      "text/html": [
       "<div>\n",
       "<style scoped>\n",
       "    .dataframe tbody tr th:only-of-type {\n",
       "        vertical-align: middle;\n",
       "    }\n",
       "\n",
       "    .dataframe tbody tr th {\n",
       "        vertical-align: top;\n",
       "    }\n",
       "\n",
       "    .dataframe thead th {\n",
       "        text-align: right;\n",
       "    }\n",
       "</style>\n",
       "<table border=\"1\" class=\"dataframe\">\n",
       "  <thead>\n",
       "    <tr style=\"text-align: right;\">\n",
       "      <th></th>\n",
       "      <th>Country</th>\n",
       "      <th>cantidad de 1</th>\n",
       "      <th>apto</th>\n",
       "    </tr>\n",
       "  </thead>\n",
       "  <tbody>\n",
       "    <tr>\n",
       "      <th>0</th>\n",
       "      <td>Afghanistan</td>\n",
       "      <td>6</td>\n",
       "      <td>Apto</td>\n",
       "    </tr>\n",
       "    <tr>\n",
       "      <th>1</th>\n",
       "      <td>Albania</td>\n",
       "      <td>6</td>\n",
       "      <td>Apto</td>\n",
       "    </tr>\n",
       "    <tr>\n",
       "      <th>2</th>\n",
       "      <td>Algeria</td>\n",
       "      <td>6</td>\n",
       "      <td>Apto</td>\n",
       "    </tr>\n",
       "    <tr>\n",
       "      <th>4</th>\n",
       "      <td>Angola</td>\n",
       "      <td>6</td>\n",
       "      <td>Apto</td>\n",
       "    </tr>\n",
       "    <tr>\n",
       "      <th>6</th>\n",
       "      <td>Argentina</td>\n",
       "      <td>6</td>\n",
       "      <td>Apto</td>\n",
       "    </tr>\n",
       "    <tr>\n",
       "      <th>7</th>\n",
       "      <td>Armenia</td>\n",
       "      <td>6</td>\n",
       "      <td>Apto</td>\n",
       "    </tr>\n",
       "    <tr>\n",
       "      <th>8</th>\n",
       "      <td>Australia</td>\n",
       "      <td>7</td>\n",
       "      <td>Apto</td>\n",
       "    </tr>\n",
       "    <tr>\n",
       "      <th>10</th>\n",
       "      <td>Azerbaijan</td>\n",
       "      <td>6</td>\n",
       "      <td>Apto</td>\n",
       "    </tr>\n",
       "    <tr>\n",
       "      <th>13</th>\n",
       "      <td>Bangladesh</td>\n",
       "      <td>5</td>\n",
       "      <td>No apto</td>\n",
       "    </tr>\n",
       "    <tr>\n",
       "      <th>14</th>\n",
       "      <td>Barbados</td>\n",
       "      <td>5</td>\n",
       "      <td>No apto</td>\n",
       "    </tr>\n",
       "    <tr>\n",
       "      <th>16</th>\n",
       "      <td>Belgium</td>\n",
       "      <td>9</td>\n",
       "      <td>Apto</td>\n",
       "    </tr>\n",
       "    <tr>\n",
       "      <th>17</th>\n",
       "      <td>Belize</td>\n",
       "      <td>7</td>\n",
       "      <td>Apto</td>\n",
       "    </tr>\n",
       "    <tr>\n",
       "      <th>18</th>\n",
       "      <td>Benin</td>\n",
       "      <td>6</td>\n",
       "      <td>Apto</td>\n",
       "    </tr>\n",
       "    <tr>\n",
       "      <th>22</th>\n",
       "      <td>Botswana</td>\n",
       "      <td>5</td>\n",
       "      <td>No apto</td>\n",
       "    </tr>\n",
       "    <tr>\n",
       "      <th>23</th>\n",
       "      <td>Brazil</td>\n",
       "      <td>7</td>\n",
       "      <td>Apto</td>\n",
       "    </tr>\n",
       "    <tr>\n",
       "      <th>25</th>\n",
       "      <td>Bulgaria</td>\n",
       "      <td>8</td>\n",
       "      <td>Apto</td>\n",
       "    </tr>\n",
       "    <tr>\n",
       "      <th>26</th>\n",
       "      <td>Burkina Faso</td>\n",
       "      <td>5</td>\n",
       "      <td>No apto</td>\n",
       "    </tr>\n",
       "    <tr>\n",
       "      <th>28</th>\n",
       "      <td>Ivory Coast</td>\n",
       "      <td>6</td>\n",
       "      <td>Apto</td>\n",
       "    </tr>\n",
       "    <tr>\n",
       "      <th>29</th>\n",
       "      <td>Cape Verde</td>\n",
       "      <td>5</td>\n",
       "      <td>No apto</td>\n",
       "    </tr>\n",
       "    <tr>\n",
       "      <th>31</th>\n",
       "      <td>Cameroon</td>\n",
       "      <td>5</td>\n",
       "      <td>No apto</td>\n",
       "    </tr>\n",
       "    <tr>\n",
       "      <th>32</th>\n",
       "      <td>Canada</td>\n",
       "      <td>7</td>\n",
       "      <td>Apto</td>\n",
       "    </tr>\n",
       "    <tr>\n",
       "      <th>35</th>\n",
       "      <td>Chile</td>\n",
       "      <td>6</td>\n",
       "      <td>Apto</td>\n",
       "    </tr>\n",
       "    <tr>\n",
       "      <th>36</th>\n",
       "      <td>China</td>\n",
       "      <td>7</td>\n",
       "      <td>Apto</td>\n",
       "    </tr>\n",
       "    <tr>\n",
       "      <th>37</th>\n",
       "      <td>Colombia</td>\n",
       "      <td>9</td>\n",
       "      <td>Apto</td>\n",
       "    </tr>\n",
       "    <tr>\n",
       "      <th>39</th>\n",
       "      <td>Republic of the Congo</td>\n",
       "      <td>5</td>\n",
       "      <td>No apto</td>\n",
       "    </tr>\n",
       "    <tr>\n",
       "      <th>40</th>\n",
       "      <td>Costa Rica</td>\n",
       "      <td>8</td>\n",
       "      <td>Apto</td>\n",
       "    </tr>\n",
       "    <tr>\n",
       "      <th>41</th>\n",
       "      <td>Croatia</td>\n",
       "      <td>7</td>\n",
       "      <td>Apto</td>\n",
       "    </tr>\n",
       "    <tr>\n",
       "      <th>44</th>\n",
       "      <td>Czech Republic</td>\n",
       "      <td>9</td>\n",
       "      <td>Apto</td>\n",
       "    </tr>\n",
       "    <tr>\n",
       "      <th>45</th>\n",
       "      <td>Democratic Republic of the Congo</td>\n",
       "      <td>7</td>\n",
       "      <td>Apto</td>\n",
       "    </tr>\n",
       "    <tr>\n",
       "      <th>49</th>\n",
       "      <td>Dominican Republic</td>\n",
       "      <td>7</td>\n",
       "      <td>Apto</td>\n",
       "    </tr>\n",
       "    <tr>\n",
       "      <th>55</th>\n",
       "      <td>Estonia</td>\n",
       "      <td>9</td>\n",
       "      <td>Apto</td>\n",
       "    </tr>\n",
       "    <tr>\n",
       "      <th>58</th>\n",
       "      <td>Fiji</td>\n",
       "      <td>8</td>\n",
       "      <td>Apto</td>\n",
       "    </tr>\n",
       "    <tr>\n",
       "      <th>60</th>\n",
       "      <td>France</td>\n",
       "      <td>8</td>\n",
       "      <td>Apto</td>\n",
       "    </tr>\n",
       "    <tr>\n",
       "      <th>61</th>\n",
       "      <td>Gabon</td>\n",
       "      <td>6</td>\n",
       "      <td>Apto</td>\n",
       "    </tr>\n",
       "    <tr>\n",
       "      <th>62</th>\n",
       "      <td>The Gambia</td>\n",
       "      <td>4</td>\n",
       "      <td>No apto</td>\n",
       "    </tr>\n",
       "    <tr>\n",
       "      <th>63</th>\n",
       "      <td>Georgia</td>\n",
       "      <td>6</td>\n",
       "      <td>Apto</td>\n",
       "    </tr>\n",
       "    <tr>\n",
       "      <th>64</th>\n",
       "      <td>Germany</td>\n",
       "      <td>10</td>\n",
       "      <td>Apto</td>\n",
       "    </tr>\n",
       "    <tr>\n",
       "      <th>65</th>\n",
       "      <td>Ghana</td>\n",
       "      <td>6</td>\n",
       "      <td>Apto</td>\n",
       "    </tr>\n",
       "    <tr>\n",
       "      <th>66</th>\n",
       "      <td>Greece</td>\n",
       "      <td>8</td>\n",
       "      <td>Apto</td>\n",
       "    </tr>\n",
       "    <tr>\n",
       "      <th>68</th>\n",
       "      <td>Guatemala</td>\n",
       "      <td>6</td>\n",
       "      <td>Apto</td>\n",
       "    </tr>\n",
       "    <tr>\n",
       "      <th>74</th>\n",
       "      <td>Honduras</td>\n",
       "      <td>6</td>\n",
       "      <td>Apto</td>\n",
       "    </tr>\n",
       "    <tr>\n",
       "      <th>75</th>\n",
       "      <td>Hungary</td>\n",
       "      <td>8</td>\n",
       "      <td>Apto</td>\n",
       "    </tr>\n",
       "    <tr>\n",
       "      <th>77</th>\n",
       "      <td>India</td>\n",
       "      <td>3</td>\n",
       "      <td>No apto</td>\n",
       "    </tr>\n",
       "    <tr>\n",
       "      <th>78</th>\n",
       "      <td>Indonesia</td>\n",
       "      <td>4</td>\n",
       "      <td>No apto</td>\n",
       "    </tr>\n",
       "    <tr>\n",
       "      <th>79</th>\n",
       "      <td>Iran</td>\n",
       "      <td>4</td>\n",
       "      <td>No apto</td>\n",
       "    </tr>\n",
       "    <tr>\n",
       "      <th>80</th>\n",
       "      <td>Iraq</td>\n",
       "      <td>4</td>\n",
       "      <td>No apto</td>\n",
       "    </tr>\n",
       "    <tr>\n",
       "      <th>81</th>\n",
       "      <td>Republic of Ireland</td>\n",
       "      <td>8</td>\n",
       "      <td>Apto</td>\n",
       "    </tr>\n",
       "    <tr>\n",
       "      <th>82</th>\n",
       "      <td>Israel</td>\n",
       "      <td>10</td>\n",
       "      <td>Apto</td>\n",
       "    </tr>\n",
       "    <tr>\n",
       "      <th>84</th>\n",
       "      <td>Jamaica</td>\n",
       "      <td>5</td>\n",
       "      <td>No apto</td>\n",
       "    </tr>\n",
       "    <tr>\n",
       "      <th>86</th>\n",
       "      <td>Jordan</td>\n",
       "      <td>7</td>\n",
       "      <td>Apto</td>\n",
       "    </tr>\n",
       "    <tr>\n",
       "      <th>87</th>\n",
       "      <td>Kazakhstan</td>\n",
       "      <td>7</td>\n",
       "      <td>Apto</td>\n",
       "    </tr>\n",
       "    <tr>\n",
       "      <th>88</th>\n",
       "      <td>Kenya</td>\n",
       "      <td>5</td>\n",
       "      <td>No apto</td>\n",
       "    </tr>\n",
       "    <tr>\n",
       "      <th>90</th>\n",
       "      <td>Kuwait</td>\n",
       "      <td>7</td>\n",
       "      <td>Apto</td>\n",
       "    </tr>\n",
       "    <tr>\n",
       "      <th>91</th>\n",
       "      <td>Kyrgyzstan</td>\n",
       "      <td>6</td>\n",
       "      <td>Apto</td>\n",
       "    </tr>\n",
       "    <tr>\n",
       "      <th>92</th>\n",
       "      <td>Laos</td>\n",
       "      <td>5</td>\n",
       "      <td>No apto</td>\n",
       "    </tr>\n",
       "    <tr>\n",
       "      <th>93</th>\n",
       "      <td>Latvia</td>\n",
       "      <td>7</td>\n",
       "      <td>Apto</td>\n",
       "    </tr>\n",
       "    <tr>\n",
       "      <th>94</th>\n",
       "      <td>Lebanon</td>\n",
       "      <td>8</td>\n",
       "      <td>Apto</td>\n",
       "    </tr>\n",
       "    <tr>\n",
       "      <th>99</th>\n",
       "      <td>Lithuania</td>\n",
       "      <td>10</td>\n",
       "      <td>Apto</td>\n",
       "    </tr>\n",
       "    <tr>\n",
       "      <th>100</th>\n",
       "      <td>Luxembourg</td>\n",
       "      <td>10</td>\n",
       "      <td>Apto</td>\n",
       "    </tr>\n",
       "    <tr>\n",
       "      <th>101</th>\n",
       "      <td>Madagascar</td>\n",
       "      <td>6</td>\n",
       "      <td>Apto</td>\n",
       "    </tr>\n",
       "    <tr>\n",
       "      <th>102</th>\n",
       "      <td>Malawi</td>\n",
       "      <td>7</td>\n",
       "      <td>Apto</td>\n",
       "    </tr>\n",
       "    <tr>\n",
       "      <th>103</th>\n",
       "      <td>Malaysia</td>\n",
       "      <td>7</td>\n",
       "      <td>Apto</td>\n",
       "    </tr>\n",
       "    <tr>\n",
       "      <th>105</th>\n",
       "      <td>Mali</td>\n",
       "      <td>3</td>\n",
       "      <td>No apto</td>\n",
       "    </tr>\n",
       "    <tr>\n",
       "      <th>106</th>\n",
       "      <td>Malta</td>\n",
       "      <td>8</td>\n",
       "      <td>Apto</td>\n",
       "    </tr>\n",
       "    <tr>\n",
       "      <th>109</th>\n",
       "      <td>Mauritius</td>\n",
       "      <td>6</td>\n",
       "      <td>Apto</td>\n",
       "    </tr>\n",
       "    <tr>\n",
       "      <th>110</th>\n",
       "      <td>Mexico</td>\n",
       "      <td>9</td>\n",
       "      <td>Apto</td>\n",
       "    </tr>\n",
       "    <tr>\n",
       "      <th>112</th>\n",
       "      <td>Moldova</td>\n",
       "      <td>5</td>\n",
       "      <td>No apto</td>\n",
       "    </tr>\n",
       "    <tr>\n",
       "      <th>114</th>\n",
       "      <td>Mongolia</td>\n",
       "      <td>7</td>\n",
       "      <td>Apto</td>\n",
       "    </tr>\n",
       "    <tr>\n",
       "      <th>116</th>\n",
       "      <td>Morocco</td>\n",
       "      <td>7</td>\n",
       "      <td>Apto</td>\n",
       "    </tr>\n",
       "    <tr>\n",
       "      <th>117</th>\n",
       "      <td>Mozambique</td>\n",
       "      <td>7</td>\n",
       "      <td>Apto</td>\n",
       "    </tr>\n",
       "    <tr>\n",
       "      <th>118</th>\n",
       "      <td>Myanmar</td>\n",
       "      <td>5</td>\n",
       "      <td>No apto</td>\n",
       "    </tr>\n",
       "    <tr>\n",
       "      <th>121</th>\n",
       "      <td>Nepal</td>\n",
       "      <td>3</td>\n",
       "      <td>No apto</td>\n",
       "    </tr>\n",
       "    <tr>\n",
       "      <th>123</th>\n",
       "      <td>New Zealand</td>\n",
       "      <td>8</td>\n",
       "      <td>Apto</td>\n",
       "    </tr>\n",
       "    <tr>\n",
       "      <th>124</th>\n",
       "      <td>Nicaragua</td>\n",
       "      <td>4</td>\n",
       "      <td>No apto</td>\n",
       "    </tr>\n",
       "    <tr>\n",
       "      <th>125</th>\n",
       "      <td>Niger</td>\n",
       "      <td>4</td>\n",
       "      <td>No apto</td>\n",
       "    </tr>\n",
       "    <tr>\n",
       "      <th>126</th>\n",
       "      <td>Nigeria</td>\n",
       "      <td>3</td>\n",
       "      <td>No apto</td>\n",
       "    </tr>\n",
       "    <tr>\n",
       "      <th>130</th>\n",
       "      <td>Oman</td>\n",
       "      <td>8</td>\n",
       "      <td>Apto</td>\n",
       "    </tr>\n",
       "    <tr>\n",
       "      <th>131</th>\n",
       "      <td>Pakistan</td>\n",
       "      <td>4</td>\n",
       "      <td>No apto</td>\n",
       "    </tr>\n",
       "    <tr>\n",
       "      <th>135</th>\n",
       "      <td>Papua New Guinea</td>\n",
       "      <td>6</td>\n",
       "      <td>Apto</td>\n",
       "    </tr>\n",
       "    <tr>\n",
       "      <th>136</th>\n",
       "      <td>Paraguay</td>\n",
       "      <td>8</td>\n",
       "      <td>Apto</td>\n",
       "    </tr>\n",
       "    <tr>\n",
       "      <th>137</th>\n",
       "      <td>Peru</td>\n",
       "      <td>9</td>\n",
       "      <td>Apto</td>\n",
       "    </tr>\n",
       "    <tr>\n",
       "      <th>138</th>\n",
       "      <td>Philippines</td>\n",
       "      <td>4</td>\n",
       "      <td>No apto</td>\n",
       "    </tr>\n",
       "    <tr>\n",
       "      <th>139</th>\n",
       "      <td>Poland</td>\n",
       "      <td>9</td>\n",
       "      <td>Apto</td>\n",
       "    </tr>\n",
       "    <tr>\n",
       "      <th>140</th>\n",
       "      <td>Portugal</td>\n",
       "      <td>9</td>\n",
       "      <td>Apto</td>\n",
       "    </tr>\n",
       "    <tr>\n",
       "      <th>142</th>\n",
       "      <td>Romania</td>\n",
       "      <td>10</td>\n",
       "      <td>Apto</td>\n",
       "    </tr>\n",
       "    <tr>\n",
       "      <th>143</th>\n",
       "      <td>Russia</td>\n",
       "      <td>5</td>\n",
       "      <td>No apto</td>\n",
       "    </tr>\n",
       "    <tr>\n",
       "      <th>151</th>\n",
       "      <td>Saudi Arabia</td>\n",
       "      <td>8</td>\n",
       "      <td>Apto</td>\n",
       "    </tr>\n",
       "    <tr>\n",
       "      <th>152</th>\n",
       "      <td>Senegal</td>\n",
       "      <td>6</td>\n",
       "      <td>Apto</td>\n",
       "    </tr>\n",
       "    <tr>\n",
       "      <th>153</th>\n",
       "      <td>Serbia</td>\n",
       "      <td>6</td>\n",
       "      <td>Apto</td>\n",
       "    </tr>\n",
       "    <tr>\n",
       "      <th>155</th>\n",
       "      <td>Sierra Leone</td>\n",
       "      <td>6</td>\n",
       "      <td>Apto</td>\n",
       "    </tr>\n",
       "    <tr>\n",
       "      <th>157</th>\n",
       "      <td>Slovakia</td>\n",
       "      <td>8</td>\n",
       "      <td>Apto</td>\n",
       "    </tr>\n",
       "    <tr>\n",
       "      <th>158</th>\n",
       "      <td>Slovenia</td>\n",
       "      <td>8</td>\n",
       "      <td>Apto</td>\n",
       "    </tr>\n",
       "    <tr>\n",
       "      <th>162</th>\n",
       "      <td>South Korea</td>\n",
       "      <td>7</td>\n",
       "      <td>Apto</td>\n",
       "    </tr>\n",
       "    <tr>\n",
       "      <th>164</th>\n",
       "      <td>Spain</td>\n",
       "      <td>8</td>\n",
       "      <td>Apto</td>\n",
       "    </tr>\n",
       "    <tr>\n",
       "      <th>165</th>\n",
       "      <td>Sri Lanka</td>\n",
       "      <td>7</td>\n",
       "      <td>Apto</td>\n",
       "    </tr>\n",
       "    <tr>\n",
       "      <th>166</th>\n",
       "      <td>Sudan</td>\n",
       "      <td>2</td>\n",
       "      <td>No apto</td>\n",
       "    </tr>\n",
       "    <tr>\n",
       "      <th>170</th>\n",
       "      <td>Syria</td>\n",
       "      <td>6</td>\n",
       "      <td>Apto</td>\n",
       "    </tr>\n",
       "    <tr>\n",
       "      <th>171</th>\n",
       "      <td>Tajikistan</td>\n",
       "      <td>3</td>\n",
       "      <td>No apto</td>\n",
       "    </tr>\n",
       "    <tr>\n",
       "      <th>172</th>\n",
       "      <td>Tanzania</td>\n",
       "      <td>6</td>\n",
       "      <td>Apto</td>\n",
       "    </tr>\n",
       "    <tr>\n",
       "      <th>173</th>\n",
       "      <td>Thailand</td>\n",
       "      <td>8</td>\n",
       "      <td>Apto</td>\n",
       "    </tr>\n",
       "    <tr>\n",
       "      <th>174</th>\n",
       "      <td>East Timor</td>\n",
       "      <td>6</td>\n",
       "      <td>Apto</td>\n",
       "    </tr>\n",
       "    <tr>\n",
       "      <th>175</th>\n",
       "      <td>Togo</td>\n",
       "      <td>6</td>\n",
       "      <td>Apto</td>\n",
       "    </tr>\n",
       "    <tr>\n",
       "      <th>177</th>\n",
       "      <td>Trinidad and Tobago</td>\n",
       "      <td>9</td>\n",
       "      <td>Apto</td>\n",
       "    </tr>\n",
       "    <tr>\n",
       "      <th>178</th>\n",
       "      <td>Tunisia</td>\n",
       "      <td>5</td>\n",
       "      <td>No apto</td>\n",
       "    </tr>\n",
       "    <tr>\n",
       "      <th>179</th>\n",
       "      <td>Turkey</td>\n",
       "      <td>5</td>\n",
       "      <td>No apto</td>\n",
       "    </tr>\n",
       "    <tr>\n",
       "      <th>182</th>\n",
       "      <td>Uganda</td>\n",
       "      <td>4</td>\n",
       "      <td>No apto</td>\n",
       "    </tr>\n",
       "    <tr>\n",
       "      <th>183</th>\n",
       "      <td>Ukraine</td>\n",
       "      <td>4</td>\n",
       "      <td>No apto</td>\n",
       "    </tr>\n",
       "    <tr>\n",
       "      <th>185</th>\n",
       "      <td>United Kingdom</td>\n",
       "      <td>8</td>\n",
       "      <td>Apto</td>\n",
       "    </tr>\n",
       "    <tr>\n",
       "      <th>186</th>\n",
       "      <td>United States</td>\n",
       "      <td>7</td>\n",
       "      <td>Apto</td>\n",
       "    </tr>\n",
       "    <tr>\n",
       "      <th>187</th>\n",
       "      <td>Uruguay</td>\n",
       "      <td>7</td>\n",
       "      <td>Apto</td>\n",
       "    </tr>\n",
       "    <tr>\n",
       "      <th>191</th>\n",
       "      <td>Vietnam</td>\n",
       "      <td>6</td>\n",
       "      <td>Apto</td>\n",
       "    </tr>\n",
       "    <tr>\n",
       "      <th>193</th>\n",
       "      <td>Zambia</td>\n",
       "      <td>4</td>\n",
       "      <td>No apto</td>\n",
       "    </tr>\n",
       "  </tbody>\n",
       "</table>\n",
       "</div>"
      ],
      "text/plain": [
       "                              Country  cantidad de 1     apto\n",
       "0                         Afghanistan              6     Apto\n",
       "1                             Albania              6     Apto\n",
       "2                             Algeria              6     Apto\n",
       "4                              Angola              6     Apto\n",
       "6                           Argentina              6     Apto\n",
       "7                             Armenia              6     Apto\n",
       "8                           Australia              7     Apto\n",
       "10                         Azerbaijan              6     Apto\n",
       "13                         Bangladesh              5  No apto\n",
       "14                           Barbados              5  No apto\n",
       "16                            Belgium              9     Apto\n",
       "17                             Belize              7     Apto\n",
       "18                              Benin              6     Apto\n",
       "22                           Botswana              5  No apto\n",
       "23                             Brazil              7     Apto\n",
       "25                           Bulgaria              8     Apto\n",
       "26                       Burkina Faso              5  No apto\n",
       "28                        Ivory Coast              6     Apto\n",
       "29                         Cape Verde              5  No apto\n",
       "31                           Cameroon              5  No apto\n",
       "32                             Canada              7     Apto\n",
       "35                              Chile              6     Apto\n",
       "36                              China              7     Apto\n",
       "37                           Colombia              9     Apto\n",
       "39              Republic of the Congo              5  No apto\n",
       "40                         Costa Rica              8     Apto\n",
       "41                            Croatia              7     Apto\n",
       "44                     Czech Republic              9     Apto\n",
       "45   Democratic Republic of the Congo              7     Apto\n",
       "49                 Dominican Republic              7     Apto\n",
       "55                            Estonia              9     Apto\n",
       "58                               Fiji              8     Apto\n",
       "60                             France              8     Apto\n",
       "61                              Gabon              6     Apto\n",
       "62                         The Gambia              4  No apto\n",
       "63                            Georgia              6     Apto\n",
       "64                            Germany             10     Apto\n",
       "65                              Ghana              6     Apto\n",
       "66                             Greece              8     Apto\n",
       "68                          Guatemala              6     Apto\n",
       "74                           Honduras              6     Apto\n",
       "75                            Hungary              8     Apto\n",
       "77                              India              3  No apto\n",
       "78                          Indonesia              4  No apto\n",
       "79                               Iran              4  No apto\n",
       "80                               Iraq              4  No apto\n",
       "81                Republic of Ireland              8     Apto\n",
       "82                             Israel             10     Apto\n",
       "84                            Jamaica              5  No apto\n",
       "86                             Jordan              7     Apto\n",
       "87                         Kazakhstan              7     Apto\n",
       "88                              Kenya              5  No apto\n",
       "90                             Kuwait              7     Apto\n",
       "91                         Kyrgyzstan              6     Apto\n",
       "92                               Laos              5  No apto\n",
       "93                             Latvia              7     Apto\n",
       "94                            Lebanon              8     Apto\n",
       "99                          Lithuania             10     Apto\n",
       "100                        Luxembourg             10     Apto\n",
       "101                        Madagascar              6     Apto\n",
       "102                            Malawi              7     Apto\n",
       "103                          Malaysia              7     Apto\n",
       "105                              Mali              3  No apto\n",
       "106                             Malta              8     Apto\n",
       "109                         Mauritius              6     Apto\n",
       "110                            Mexico              9     Apto\n",
       "112                           Moldova              5  No apto\n",
       "114                          Mongolia              7     Apto\n",
       "116                           Morocco              7     Apto\n",
       "117                        Mozambique              7     Apto\n",
       "118                           Myanmar              5  No apto\n",
       "121                             Nepal              3  No apto\n",
       "123                       New Zealand              8     Apto\n",
       "124                         Nicaragua              4  No apto\n",
       "125                             Niger              4  No apto\n",
       "126                           Nigeria              3  No apto\n",
       "130                              Oman              8     Apto\n",
       "131                          Pakistan              4  No apto\n",
       "135                  Papua New Guinea              6     Apto\n",
       "136                          Paraguay              8     Apto\n",
       "137                              Peru              9     Apto\n",
       "138                       Philippines              4  No apto\n",
       "139                            Poland              9     Apto\n",
       "140                          Portugal              9     Apto\n",
       "142                           Romania             10     Apto\n",
       "143                            Russia              5  No apto\n",
       "151                      Saudi Arabia              8     Apto\n",
       "152                           Senegal              6     Apto\n",
       "153                            Serbia              6     Apto\n",
       "155                      Sierra Leone              6     Apto\n",
       "157                          Slovakia              8     Apto\n",
       "158                          Slovenia              8     Apto\n",
       "162                       South Korea              7     Apto\n",
       "164                             Spain              8     Apto\n",
       "165                         Sri Lanka              7     Apto\n",
       "166                             Sudan              2  No apto\n",
       "170                             Syria              6     Apto\n",
       "171                        Tajikistan              3  No apto\n",
       "172                          Tanzania              6     Apto\n",
       "173                          Thailand              8     Apto\n",
       "174                        East Timor              6     Apto\n",
       "175                              Togo              6     Apto\n",
       "177               Trinidad and Tobago              9     Apto\n",
       "178                           Tunisia              5  No apto\n",
       "179                            Turkey              5  No apto\n",
       "182                            Uganda              4  No apto\n",
       "183                           Ukraine              4  No apto\n",
       "185                    United Kingdom              8     Apto\n",
       "186                     United States              7     Apto\n",
       "187                           Uruguay              7     Apto\n",
       "191                           Vietnam              6     Apto\n",
       "193                            Zambia              4  No apto"
      ]
     },
     "execution_count": 124,
     "metadata": {},
     "output_type": "execute_result"
    }
   ],
   "source": [
    "#creo una escala para saber qué países se considerarían aptos para vivir (si tienen más de un 6 en la cantidad de 1)\n",
    "#para ello creo una nueva variable 'apto' (si es mayor o igual que 6) o 'no apto (en el resto de casos)\n",
    "df_mundo['apto'] = df_mundo['cantidad de 1'] >= 6\n",
    "df_mundo['apto'] = df_mundo['apto'].replace({True: 'Apto', False: 'No apto'})\n",
    "\n",
    "df_mundo[['Country', 'cantidad de 1', 'apto']]"
   ]
  },
  {
   "cell_type": "code",
   "execution_count": 127,
   "metadata": {},
   "outputs": [
    {
     "data": {
      "text/html": [
       "<div>\n",
       "<style scoped>\n",
       "    .dataframe tbody tr th:only-of-type {\n",
       "        vertical-align: middle;\n",
       "    }\n",
       "\n",
       "    .dataframe tbody tr th {\n",
       "        vertical-align: top;\n",
       "    }\n",
       "\n",
       "    .dataframe thead th {\n",
       "        text-align: right;\n",
       "    }\n",
       "</style>\n",
       "<table border=\"1\" class=\"dataframe\">\n",
       "  <thead>\n",
       "    <tr style=\"text-align: right;\">\n",
       "      <th></th>\n",
       "      <th>cantidad de 1</th>\n",
       "      <th>Country</th>\n",
       "      <th>count</th>\n",
       "    </tr>\n",
       "  </thead>\n",
       "  <tbody>\n",
       "    <tr>\n",
       "      <th>0</th>\n",
       "      <td>2</td>\n",
       "      <td>Sudan</td>\n",
       "      <td>1</td>\n",
       "    </tr>\n",
       "    <tr>\n",
       "      <th>1</th>\n",
       "      <td>3</td>\n",
       "      <td>India</td>\n",
       "      <td>1</td>\n",
       "    </tr>\n",
       "    <tr>\n",
       "      <th>2</th>\n",
       "      <td>3</td>\n",
       "      <td>Mali</td>\n",
       "      <td>1</td>\n",
       "    </tr>\n",
       "    <tr>\n",
       "      <th>3</th>\n",
       "      <td>3</td>\n",
       "      <td>Nepal</td>\n",
       "      <td>1</td>\n",
       "    </tr>\n",
       "    <tr>\n",
       "      <th>4</th>\n",
       "      <td>3</td>\n",
       "      <td>Nigeria</td>\n",
       "      <td>1</td>\n",
       "    </tr>\n",
       "    <tr>\n",
       "      <th>5</th>\n",
       "      <td>3</td>\n",
       "      <td>Tajikistan</td>\n",
       "      <td>1</td>\n",
       "    </tr>\n",
       "    <tr>\n",
       "      <th>6</th>\n",
       "      <td>4</td>\n",
       "      <td>Indonesia</td>\n",
       "      <td>1</td>\n",
       "    </tr>\n",
       "    <tr>\n",
       "      <th>7</th>\n",
       "      <td>4</td>\n",
       "      <td>Iran</td>\n",
       "      <td>1</td>\n",
       "    </tr>\n",
       "    <tr>\n",
       "      <th>8</th>\n",
       "      <td>4</td>\n",
       "      <td>Iraq</td>\n",
       "      <td>1</td>\n",
       "    </tr>\n",
       "    <tr>\n",
       "      <th>9</th>\n",
       "      <td>4</td>\n",
       "      <td>Nicaragua</td>\n",
       "      <td>1</td>\n",
       "    </tr>\n",
       "    <tr>\n",
       "      <th>10</th>\n",
       "      <td>4</td>\n",
       "      <td>Niger</td>\n",
       "      <td>1</td>\n",
       "    </tr>\n",
       "    <tr>\n",
       "      <th>11</th>\n",
       "      <td>4</td>\n",
       "      <td>Pakistan</td>\n",
       "      <td>1</td>\n",
       "    </tr>\n",
       "    <tr>\n",
       "      <th>12</th>\n",
       "      <td>4</td>\n",
       "      <td>Philippines</td>\n",
       "      <td>1</td>\n",
       "    </tr>\n",
       "    <tr>\n",
       "      <th>13</th>\n",
       "      <td>4</td>\n",
       "      <td>The Gambia</td>\n",
       "      <td>1</td>\n",
       "    </tr>\n",
       "    <tr>\n",
       "      <th>14</th>\n",
       "      <td>4</td>\n",
       "      <td>Uganda</td>\n",
       "      <td>1</td>\n",
       "    </tr>\n",
       "    <tr>\n",
       "      <th>15</th>\n",
       "      <td>4</td>\n",
       "      <td>Ukraine</td>\n",
       "      <td>1</td>\n",
       "    </tr>\n",
       "    <tr>\n",
       "      <th>16</th>\n",
       "      <td>4</td>\n",
       "      <td>Zambia</td>\n",
       "      <td>1</td>\n",
       "    </tr>\n",
       "    <tr>\n",
       "      <th>17</th>\n",
       "      <td>5</td>\n",
       "      <td>Bangladesh</td>\n",
       "      <td>1</td>\n",
       "    </tr>\n",
       "    <tr>\n",
       "      <th>18</th>\n",
       "      <td>5</td>\n",
       "      <td>Barbados</td>\n",
       "      <td>1</td>\n",
       "    </tr>\n",
       "    <tr>\n",
       "      <th>19</th>\n",
       "      <td>5</td>\n",
       "      <td>Botswana</td>\n",
       "      <td>1</td>\n",
       "    </tr>\n",
       "    <tr>\n",
       "      <th>20</th>\n",
       "      <td>5</td>\n",
       "      <td>Burkina Faso</td>\n",
       "      <td>1</td>\n",
       "    </tr>\n",
       "    <tr>\n",
       "      <th>21</th>\n",
       "      <td>5</td>\n",
       "      <td>Cameroon</td>\n",
       "      <td>1</td>\n",
       "    </tr>\n",
       "    <tr>\n",
       "      <th>22</th>\n",
       "      <td>5</td>\n",
       "      <td>Cape Verde</td>\n",
       "      <td>1</td>\n",
       "    </tr>\n",
       "    <tr>\n",
       "      <th>23</th>\n",
       "      <td>5</td>\n",
       "      <td>Jamaica</td>\n",
       "      <td>1</td>\n",
       "    </tr>\n",
       "    <tr>\n",
       "      <th>24</th>\n",
       "      <td>5</td>\n",
       "      <td>Kenya</td>\n",
       "      <td>1</td>\n",
       "    </tr>\n",
       "    <tr>\n",
       "      <th>25</th>\n",
       "      <td>5</td>\n",
       "      <td>Laos</td>\n",
       "      <td>1</td>\n",
       "    </tr>\n",
       "    <tr>\n",
       "      <th>26</th>\n",
       "      <td>5</td>\n",
       "      <td>Moldova</td>\n",
       "      <td>1</td>\n",
       "    </tr>\n",
       "    <tr>\n",
       "      <th>27</th>\n",
       "      <td>5</td>\n",
       "      <td>Myanmar</td>\n",
       "      <td>1</td>\n",
       "    </tr>\n",
       "    <tr>\n",
       "      <th>28</th>\n",
       "      <td>5</td>\n",
       "      <td>Republic of the Congo</td>\n",
       "      <td>1</td>\n",
       "    </tr>\n",
       "    <tr>\n",
       "      <th>29</th>\n",
       "      <td>5</td>\n",
       "      <td>Russia</td>\n",
       "      <td>1</td>\n",
       "    </tr>\n",
       "    <tr>\n",
       "      <th>30</th>\n",
       "      <td>5</td>\n",
       "      <td>Tunisia</td>\n",
       "      <td>1</td>\n",
       "    </tr>\n",
       "    <tr>\n",
       "      <th>31</th>\n",
       "      <td>5</td>\n",
       "      <td>Turkey</td>\n",
       "      <td>1</td>\n",
       "    </tr>\n",
       "    <tr>\n",
       "      <th>32</th>\n",
       "      <td>6</td>\n",
       "      <td>Afghanistan</td>\n",
       "      <td>1</td>\n",
       "    </tr>\n",
       "    <tr>\n",
       "      <th>33</th>\n",
       "      <td>6</td>\n",
       "      <td>Albania</td>\n",
       "      <td>1</td>\n",
       "    </tr>\n",
       "    <tr>\n",
       "      <th>34</th>\n",
       "      <td>6</td>\n",
       "      <td>Algeria</td>\n",
       "      <td>1</td>\n",
       "    </tr>\n",
       "    <tr>\n",
       "      <th>35</th>\n",
       "      <td>6</td>\n",
       "      <td>Angola</td>\n",
       "      <td>1</td>\n",
       "    </tr>\n",
       "    <tr>\n",
       "      <th>36</th>\n",
       "      <td>6</td>\n",
       "      <td>Argentina</td>\n",
       "      <td>1</td>\n",
       "    </tr>\n",
       "    <tr>\n",
       "      <th>37</th>\n",
       "      <td>6</td>\n",
       "      <td>Armenia</td>\n",
       "      <td>1</td>\n",
       "    </tr>\n",
       "    <tr>\n",
       "      <th>38</th>\n",
       "      <td>6</td>\n",
       "      <td>Azerbaijan</td>\n",
       "      <td>1</td>\n",
       "    </tr>\n",
       "    <tr>\n",
       "      <th>39</th>\n",
       "      <td>6</td>\n",
       "      <td>Benin</td>\n",
       "      <td>1</td>\n",
       "    </tr>\n",
       "    <tr>\n",
       "      <th>40</th>\n",
       "      <td>6</td>\n",
       "      <td>Chile</td>\n",
       "      <td>1</td>\n",
       "    </tr>\n",
       "    <tr>\n",
       "      <th>41</th>\n",
       "      <td>6</td>\n",
       "      <td>East Timor</td>\n",
       "      <td>1</td>\n",
       "    </tr>\n",
       "    <tr>\n",
       "      <th>42</th>\n",
       "      <td>6</td>\n",
       "      <td>Gabon</td>\n",
       "      <td>1</td>\n",
       "    </tr>\n",
       "    <tr>\n",
       "      <th>43</th>\n",
       "      <td>6</td>\n",
       "      <td>Georgia</td>\n",
       "      <td>1</td>\n",
       "    </tr>\n",
       "    <tr>\n",
       "      <th>44</th>\n",
       "      <td>6</td>\n",
       "      <td>Ghana</td>\n",
       "      <td>1</td>\n",
       "    </tr>\n",
       "    <tr>\n",
       "      <th>45</th>\n",
       "      <td>6</td>\n",
       "      <td>Guatemala</td>\n",
       "      <td>1</td>\n",
       "    </tr>\n",
       "    <tr>\n",
       "      <th>46</th>\n",
       "      <td>6</td>\n",
       "      <td>Honduras</td>\n",
       "      <td>1</td>\n",
       "    </tr>\n",
       "    <tr>\n",
       "      <th>47</th>\n",
       "      <td>6</td>\n",
       "      <td>Ivory Coast</td>\n",
       "      <td>1</td>\n",
       "    </tr>\n",
       "    <tr>\n",
       "      <th>48</th>\n",
       "      <td>6</td>\n",
       "      <td>Kyrgyzstan</td>\n",
       "      <td>1</td>\n",
       "    </tr>\n",
       "    <tr>\n",
       "      <th>49</th>\n",
       "      <td>6</td>\n",
       "      <td>Madagascar</td>\n",
       "      <td>1</td>\n",
       "    </tr>\n",
       "    <tr>\n",
       "      <th>50</th>\n",
       "      <td>6</td>\n",
       "      <td>Mauritius</td>\n",
       "      <td>1</td>\n",
       "    </tr>\n",
       "    <tr>\n",
       "      <th>51</th>\n",
       "      <td>6</td>\n",
       "      <td>Papua New Guinea</td>\n",
       "      <td>1</td>\n",
       "    </tr>\n",
       "    <tr>\n",
       "      <th>52</th>\n",
       "      <td>6</td>\n",
       "      <td>Senegal</td>\n",
       "      <td>1</td>\n",
       "    </tr>\n",
       "    <tr>\n",
       "      <th>53</th>\n",
       "      <td>6</td>\n",
       "      <td>Serbia</td>\n",
       "      <td>1</td>\n",
       "    </tr>\n",
       "    <tr>\n",
       "      <th>54</th>\n",
       "      <td>6</td>\n",
       "      <td>Sierra Leone</td>\n",
       "      <td>1</td>\n",
       "    </tr>\n",
       "    <tr>\n",
       "      <th>55</th>\n",
       "      <td>6</td>\n",
       "      <td>Syria</td>\n",
       "      <td>1</td>\n",
       "    </tr>\n",
       "    <tr>\n",
       "      <th>56</th>\n",
       "      <td>6</td>\n",
       "      <td>Tanzania</td>\n",
       "      <td>1</td>\n",
       "    </tr>\n",
       "    <tr>\n",
       "      <th>57</th>\n",
       "      <td>6</td>\n",
       "      <td>Togo</td>\n",
       "      <td>1</td>\n",
       "    </tr>\n",
       "    <tr>\n",
       "      <th>58</th>\n",
       "      <td>6</td>\n",
       "      <td>Vietnam</td>\n",
       "      <td>1</td>\n",
       "    </tr>\n",
       "    <tr>\n",
       "      <th>59</th>\n",
       "      <td>7</td>\n",
       "      <td>Australia</td>\n",
       "      <td>1</td>\n",
       "    </tr>\n",
       "    <tr>\n",
       "      <th>60</th>\n",
       "      <td>7</td>\n",
       "      <td>Belize</td>\n",
       "      <td>1</td>\n",
       "    </tr>\n",
       "    <tr>\n",
       "      <th>61</th>\n",
       "      <td>7</td>\n",
       "      <td>Brazil</td>\n",
       "      <td>1</td>\n",
       "    </tr>\n",
       "    <tr>\n",
       "      <th>62</th>\n",
       "      <td>7</td>\n",
       "      <td>Canada</td>\n",
       "      <td>1</td>\n",
       "    </tr>\n",
       "    <tr>\n",
       "      <th>63</th>\n",
       "      <td>7</td>\n",
       "      <td>China</td>\n",
       "      <td>1</td>\n",
       "    </tr>\n",
       "    <tr>\n",
       "      <th>64</th>\n",
       "      <td>7</td>\n",
       "      <td>Croatia</td>\n",
       "      <td>1</td>\n",
       "    </tr>\n",
       "    <tr>\n",
       "      <th>65</th>\n",
       "      <td>7</td>\n",
       "      <td>Democratic Republic of the Congo</td>\n",
       "      <td>1</td>\n",
       "    </tr>\n",
       "    <tr>\n",
       "      <th>66</th>\n",
       "      <td>7</td>\n",
       "      <td>Dominican Republic</td>\n",
       "      <td>1</td>\n",
       "    </tr>\n",
       "    <tr>\n",
       "      <th>67</th>\n",
       "      <td>7</td>\n",
       "      <td>Jordan</td>\n",
       "      <td>1</td>\n",
       "    </tr>\n",
       "    <tr>\n",
       "      <th>68</th>\n",
       "      <td>7</td>\n",
       "      <td>Kazakhstan</td>\n",
       "      <td>1</td>\n",
       "    </tr>\n",
       "    <tr>\n",
       "      <th>69</th>\n",
       "      <td>7</td>\n",
       "      <td>Kuwait</td>\n",
       "      <td>1</td>\n",
       "    </tr>\n",
       "    <tr>\n",
       "      <th>70</th>\n",
       "      <td>7</td>\n",
       "      <td>Latvia</td>\n",
       "      <td>1</td>\n",
       "    </tr>\n",
       "    <tr>\n",
       "      <th>71</th>\n",
       "      <td>7</td>\n",
       "      <td>Malawi</td>\n",
       "      <td>1</td>\n",
       "    </tr>\n",
       "    <tr>\n",
       "      <th>72</th>\n",
       "      <td>7</td>\n",
       "      <td>Malaysia</td>\n",
       "      <td>1</td>\n",
       "    </tr>\n",
       "    <tr>\n",
       "      <th>73</th>\n",
       "      <td>7</td>\n",
       "      <td>Mongolia</td>\n",
       "      <td>1</td>\n",
       "    </tr>\n",
       "    <tr>\n",
       "      <th>74</th>\n",
       "      <td>7</td>\n",
       "      <td>Morocco</td>\n",
       "      <td>1</td>\n",
       "    </tr>\n",
       "    <tr>\n",
       "      <th>75</th>\n",
       "      <td>7</td>\n",
       "      <td>Mozambique</td>\n",
       "      <td>1</td>\n",
       "    </tr>\n",
       "    <tr>\n",
       "      <th>76</th>\n",
       "      <td>7</td>\n",
       "      <td>South Korea</td>\n",
       "      <td>1</td>\n",
       "    </tr>\n",
       "    <tr>\n",
       "      <th>77</th>\n",
       "      <td>7</td>\n",
       "      <td>Sri Lanka</td>\n",
       "      <td>1</td>\n",
       "    </tr>\n",
       "    <tr>\n",
       "      <th>78</th>\n",
       "      <td>7</td>\n",
       "      <td>United States</td>\n",
       "      <td>1</td>\n",
       "    </tr>\n",
       "    <tr>\n",
       "      <th>79</th>\n",
       "      <td>7</td>\n",
       "      <td>Uruguay</td>\n",
       "      <td>1</td>\n",
       "    </tr>\n",
       "    <tr>\n",
       "      <th>80</th>\n",
       "      <td>8</td>\n",
       "      <td>Bulgaria</td>\n",
       "      <td>1</td>\n",
       "    </tr>\n",
       "    <tr>\n",
       "      <th>81</th>\n",
       "      <td>8</td>\n",
       "      <td>Costa Rica</td>\n",
       "      <td>1</td>\n",
       "    </tr>\n",
       "    <tr>\n",
       "      <th>82</th>\n",
       "      <td>8</td>\n",
       "      <td>Fiji</td>\n",
       "      <td>1</td>\n",
       "    </tr>\n",
       "    <tr>\n",
       "      <th>83</th>\n",
       "      <td>8</td>\n",
       "      <td>France</td>\n",
       "      <td>1</td>\n",
       "    </tr>\n",
       "    <tr>\n",
       "      <th>84</th>\n",
       "      <td>8</td>\n",
       "      <td>Greece</td>\n",
       "      <td>1</td>\n",
       "    </tr>\n",
       "    <tr>\n",
       "      <th>85</th>\n",
       "      <td>8</td>\n",
       "      <td>Hungary</td>\n",
       "      <td>1</td>\n",
       "    </tr>\n",
       "    <tr>\n",
       "      <th>86</th>\n",
       "      <td>8</td>\n",
       "      <td>Lebanon</td>\n",
       "      <td>1</td>\n",
       "    </tr>\n",
       "    <tr>\n",
       "      <th>87</th>\n",
       "      <td>8</td>\n",
       "      <td>Malta</td>\n",
       "      <td>1</td>\n",
       "    </tr>\n",
       "    <tr>\n",
       "      <th>88</th>\n",
       "      <td>8</td>\n",
       "      <td>New Zealand</td>\n",
       "      <td>1</td>\n",
       "    </tr>\n",
       "    <tr>\n",
       "      <th>89</th>\n",
       "      <td>8</td>\n",
       "      <td>Oman</td>\n",
       "      <td>1</td>\n",
       "    </tr>\n",
       "    <tr>\n",
       "      <th>90</th>\n",
       "      <td>8</td>\n",
       "      <td>Paraguay</td>\n",
       "      <td>1</td>\n",
       "    </tr>\n",
       "    <tr>\n",
       "      <th>91</th>\n",
       "      <td>8</td>\n",
       "      <td>Republic of Ireland</td>\n",
       "      <td>1</td>\n",
       "    </tr>\n",
       "    <tr>\n",
       "      <th>92</th>\n",
       "      <td>8</td>\n",
       "      <td>Saudi Arabia</td>\n",
       "      <td>1</td>\n",
       "    </tr>\n",
       "    <tr>\n",
       "      <th>93</th>\n",
       "      <td>8</td>\n",
       "      <td>Slovakia</td>\n",
       "      <td>1</td>\n",
       "    </tr>\n",
       "    <tr>\n",
       "      <th>94</th>\n",
       "      <td>8</td>\n",
       "      <td>Slovenia</td>\n",
       "      <td>1</td>\n",
       "    </tr>\n",
       "    <tr>\n",
       "      <th>95</th>\n",
       "      <td>8</td>\n",
       "      <td>Spain</td>\n",
       "      <td>1</td>\n",
       "    </tr>\n",
       "    <tr>\n",
       "      <th>96</th>\n",
       "      <td>8</td>\n",
       "      <td>Thailand</td>\n",
       "      <td>1</td>\n",
       "    </tr>\n",
       "    <tr>\n",
       "      <th>97</th>\n",
       "      <td>8</td>\n",
       "      <td>United Kingdom</td>\n",
       "      <td>1</td>\n",
       "    </tr>\n",
       "    <tr>\n",
       "      <th>98</th>\n",
       "      <td>9</td>\n",
       "      <td>Belgium</td>\n",
       "      <td>1</td>\n",
       "    </tr>\n",
       "    <tr>\n",
       "      <th>99</th>\n",
       "      <td>9</td>\n",
       "      <td>Colombia</td>\n",
       "      <td>1</td>\n",
       "    </tr>\n",
       "    <tr>\n",
       "      <th>100</th>\n",
       "      <td>9</td>\n",
       "      <td>Czech Republic</td>\n",
       "      <td>1</td>\n",
       "    </tr>\n",
       "    <tr>\n",
       "      <th>101</th>\n",
       "      <td>9</td>\n",
       "      <td>Estonia</td>\n",
       "      <td>1</td>\n",
       "    </tr>\n",
       "    <tr>\n",
       "      <th>102</th>\n",
       "      <td>9</td>\n",
       "      <td>Mexico</td>\n",
       "      <td>1</td>\n",
       "    </tr>\n",
       "    <tr>\n",
       "      <th>103</th>\n",
       "      <td>9</td>\n",
       "      <td>Peru</td>\n",
       "      <td>1</td>\n",
       "    </tr>\n",
       "    <tr>\n",
       "      <th>104</th>\n",
       "      <td>9</td>\n",
       "      <td>Poland</td>\n",
       "      <td>1</td>\n",
       "    </tr>\n",
       "    <tr>\n",
       "      <th>105</th>\n",
       "      <td>9</td>\n",
       "      <td>Portugal</td>\n",
       "      <td>1</td>\n",
       "    </tr>\n",
       "    <tr>\n",
       "      <th>106</th>\n",
       "      <td>9</td>\n",
       "      <td>Trinidad and Tobago</td>\n",
       "      <td>1</td>\n",
       "    </tr>\n",
       "    <tr>\n",
       "      <th>107</th>\n",
       "      <td>10</td>\n",
       "      <td>Germany</td>\n",
       "      <td>1</td>\n",
       "    </tr>\n",
       "    <tr>\n",
       "      <th>108</th>\n",
       "      <td>10</td>\n",
       "      <td>Israel</td>\n",
       "      <td>1</td>\n",
       "    </tr>\n",
       "    <tr>\n",
       "      <th>109</th>\n",
       "      <td>10</td>\n",
       "      <td>Lithuania</td>\n",
       "      <td>1</td>\n",
       "    </tr>\n",
       "    <tr>\n",
       "      <th>110</th>\n",
       "      <td>10</td>\n",
       "      <td>Luxembourg</td>\n",
       "      <td>1</td>\n",
       "    </tr>\n",
       "    <tr>\n",
       "      <th>111</th>\n",
       "      <td>10</td>\n",
       "      <td>Romania</td>\n",
       "      <td>1</td>\n",
       "    </tr>\n",
       "  </tbody>\n",
       "</table>\n",
       "</div>"
      ],
      "text/plain": [
       "     cantidad de 1                           Country  count\n",
       "0                2                             Sudan      1\n",
       "1                3                             India      1\n",
       "2                3                              Mali      1\n",
       "3                3                             Nepal      1\n",
       "4                3                           Nigeria      1\n",
       "5                3                        Tajikistan      1\n",
       "6                4                         Indonesia      1\n",
       "7                4                              Iran      1\n",
       "8                4                              Iraq      1\n",
       "9                4                         Nicaragua      1\n",
       "10               4                             Niger      1\n",
       "11               4                          Pakistan      1\n",
       "12               4                       Philippines      1\n",
       "13               4                        The Gambia      1\n",
       "14               4                            Uganda      1\n",
       "15               4                           Ukraine      1\n",
       "16               4                            Zambia      1\n",
       "17               5                        Bangladesh      1\n",
       "18               5                          Barbados      1\n",
       "19               5                          Botswana      1\n",
       "20               5                      Burkina Faso      1\n",
       "21               5                          Cameroon      1\n",
       "22               5                        Cape Verde      1\n",
       "23               5                           Jamaica      1\n",
       "24               5                             Kenya      1\n",
       "25               5                              Laos      1\n",
       "26               5                           Moldova      1\n",
       "27               5                           Myanmar      1\n",
       "28               5             Republic of the Congo      1\n",
       "29               5                            Russia      1\n",
       "30               5                           Tunisia      1\n",
       "31               5                            Turkey      1\n",
       "32               6                       Afghanistan      1\n",
       "33               6                           Albania      1\n",
       "34               6                           Algeria      1\n",
       "35               6                            Angola      1\n",
       "36               6                         Argentina      1\n",
       "37               6                           Armenia      1\n",
       "38               6                        Azerbaijan      1\n",
       "39               6                             Benin      1\n",
       "40               6                             Chile      1\n",
       "41               6                        East Timor      1\n",
       "42               6                             Gabon      1\n",
       "43               6                           Georgia      1\n",
       "44               6                             Ghana      1\n",
       "45               6                         Guatemala      1\n",
       "46               6                          Honduras      1\n",
       "47               6                       Ivory Coast      1\n",
       "48               6                        Kyrgyzstan      1\n",
       "49               6                        Madagascar      1\n",
       "50               6                         Mauritius      1\n",
       "51               6                  Papua New Guinea      1\n",
       "52               6                           Senegal      1\n",
       "53               6                            Serbia      1\n",
       "54               6                      Sierra Leone      1\n",
       "55               6                             Syria      1\n",
       "56               6                          Tanzania      1\n",
       "57               6                              Togo      1\n",
       "58               6                           Vietnam      1\n",
       "59               7                         Australia      1\n",
       "60               7                            Belize      1\n",
       "61               7                            Brazil      1\n",
       "62               7                            Canada      1\n",
       "63               7                             China      1\n",
       "64               7                           Croatia      1\n",
       "65               7  Democratic Republic of the Congo      1\n",
       "66               7                Dominican Republic      1\n",
       "67               7                            Jordan      1\n",
       "68               7                        Kazakhstan      1\n",
       "69               7                            Kuwait      1\n",
       "70               7                            Latvia      1\n",
       "71               7                            Malawi      1\n",
       "72               7                          Malaysia      1\n",
       "73               7                          Mongolia      1\n",
       "74               7                           Morocco      1\n",
       "75               7                        Mozambique      1\n",
       "76               7                       South Korea      1\n",
       "77               7                         Sri Lanka      1\n",
       "78               7                     United States      1\n",
       "79               7                           Uruguay      1\n",
       "80               8                          Bulgaria      1\n",
       "81               8                        Costa Rica      1\n",
       "82               8                              Fiji      1\n",
       "83               8                            France      1\n",
       "84               8                            Greece      1\n",
       "85               8                           Hungary      1\n",
       "86               8                           Lebanon      1\n",
       "87               8                             Malta      1\n",
       "88               8                       New Zealand      1\n",
       "89               8                              Oman      1\n",
       "90               8                          Paraguay      1\n",
       "91               8               Republic of Ireland      1\n",
       "92               8                      Saudi Arabia      1\n",
       "93               8                          Slovakia      1\n",
       "94               8                          Slovenia      1\n",
       "95               8                             Spain      1\n",
       "96               8                          Thailand      1\n",
       "97               8                    United Kingdom      1\n",
       "98               9                           Belgium      1\n",
       "99               9                          Colombia      1\n",
       "100              9                    Czech Republic      1\n",
       "101              9                           Estonia      1\n",
       "102              9                            Mexico      1\n",
       "103              9                              Peru      1\n",
       "104              9                            Poland      1\n",
       "105              9                          Portugal      1\n",
       "106              9               Trinidad and Tobago      1\n",
       "107             10                           Germany      1\n",
       "108             10                            Israel      1\n",
       "109             10                         Lithuania      1\n",
       "110             10                        Luxembourg      1\n",
       "111             10                           Romania      1"
      ]
     },
     "execution_count": 127,
     "metadata": {},
     "output_type": "execute_result"
    }
   ],
   "source": [
    "#agrupo los países por cantidad de 1\n",
    "df_mundo.groupby(['cantidad de 1', 'Country']).size().reset_index(name='count')\n"
   ]
  },
  {
   "cell_type": "code",
   "execution_count": 130,
   "metadata": {},
   "outputs": [
    {
     "data": {
      "image/png": "[encoded data removed]",
      "text/plain": [
       "<Figure size 640x480 with 1 Axes>"
      ]
     },
     "metadata": {},
     "output_type": "display_data"
    }
   ],
   "source": [
    "#creamos la gráfica de barras\n",
    "ax = df_mundo['apto'].value_counts().plot(kind='bar')\n",
    "ax.set_xlabel('')\n",
    "ax.set_ylabel('Países')\n",
    "ax.set_title('Países aptos y no aptos')\n",
    "plt.show()\n"
   ]
  },
  {
   "cell_type": "markdown",
   "metadata": {},
   "source": [
    "Voy a pintar las gráficas de los países aptos en función de su puntuación (de 6 a 10)."
   ]
  },
  {
   "cell_type": "code",
   "execution_count": 134,
   "metadata": {},
   "outputs": [
    {
     "data": {
      "image/png": "[encoded data removed]",
      "text/plain": [
       "<Figure size 640x480 with 1 Axes>"
      ]
     },
     "metadata": {},
     "output_type": "display_data"
    }
   ],
   "source": [
    "#seleccionamos las filas correspondientes a los países aptos con un 6 y las columnas 'Country' y 'cantidad de 1'\n",
    "df_aptos = df_mundo.loc[df_mundo['cantidad de 1'].isin([6]), ['Country', 'cantidad de 1']]\n",
    "\n",
    "#ordenamos los países por cantidad de 1\n",
    "df_aptos = df_aptos.sort_values('cantidad de 1', ascending=False)\n",
    "\n",
    "#creamos la gráfica de barras\n",
    "ax = df_aptos.plot.bar(x='Country', y='cantidad de 1', rot=90)\n",
    "ax.set_xlabel('País')\n",
    "ax.set_ylabel('')\n",
    "ax.set_title('Países con un 6')\n",
    "plt.show()\n",
    "\n"
   ]
  },
  {
   "cell_type": "code",
   "execution_count": 136,
   "metadata": {},
   "outputs": [
    {
     "data": {
      "image/png": "[encoded data removed]",
      "text/plain": [
       "<Figure size 640x480 with 1 Axes>"
      ]
     },
     "metadata": {},
     "output_type": "display_data"
    }
   ],
   "source": [
    "#seleccionamos las filas correspondientes a los países aptos con un 7 y las columnas 'Country' y 'cantidad de 1'\n",
    "df_aptos = df_mundo.loc[df_mundo['cantidad de 1'].isin([7]), ['Country', 'cantidad de 1']]\n",
    "\n",
    "#ordenamos los países por cantidad de 1\n",
    "df_aptos = df_aptos.sort_values('cantidad de 1', ascending=False)\n",
    "\n",
    "#creamos la gráfica de barras\n",
    "ax = df_aptos.plot.bar(x='Country', y='cantidad de 1', rot=90)\n",
    "ax.set_xlabel('País')\n",
    "ax.set_ylabel('')\n",
    "ax.set_title('Países con un 7')\n",
    "plt.show()"
   ]
  },
  {
   "cell_type": "code",
   "execution_count": 137,
   "metadata": {},
   "outputs": [
    {
     "data": {
      "image/png": "[encoded data removed]",
      "text/plain": [
       "<Figure size 640x480 with 1 Axes>"
      ]
     },
     "metadata": {},
     "output_type": "display_data"
    }
   ],
   "source": [
    "#seleccionamos las filas correspondientes a los países aptos con un 8 y las columnas 'Country' y 'cantidad de 1'\n",
    "df_aptos = df_mundo.loc[df_mundo['cantidad de 1'].isin([8]), ['Country', 'cantidad de 1']]\n",
    "\n",
    "#ordenamos los países por cantidad de 1\n",
    "df_aptos = df_aptos.sort_values('cantidad de 1', ascending=False)\n",
    "\n",
    "#creamos la gráfica de barras\n",
    "ax = df_aptos.plot.bar(x='Country', y='cantidad de 1', rot=90)\n",
    "ax.set_xlabel('País')\n",
    "ax.set_ylabel('')\n",
    "ax.set_title('Países con un 8')\n",
    "plt.show()"
   ]
  },
  {
   "cell_type": "code",
   "execution_count": 138,
   "metadata": {},
   "outputs": [
    {
     "data": {
      "image/png": "[encoded data removed]",
      "text/plain": [
       "<Figure size 640x480 with 1 Axes>"
      ]
     },
     "metadata": {},
     "output_type": "display_data"
    }
   ],
   "source": [
    "#seleccionamos las filas correspondientes a los países aptos con un 9 y las columnas 'Country' y 'cantidad de 1'\n",
    "df_aptos = df_mundo.loc[df_mundo['cantidad de 1'].isin([9]), ['Country', 'cantidad de 1']]\n",
    "\n",
    "#ordenamos los países por cantidad de 1\n",
    "df_aptos = df_aptos.sort_values('cantidad de 1', ascending=False)\n",
    "\n",
    "#creamos la gráfica de barras\n",
    "ax = df_aptos.plot.bar(x='Country', y='cantidad de 1', rot=90)\n",
    "ax.set_xlabel('País')\n",
    "ax.set_ylabel('')\n",
    "ax.set_title('Países con un 9')\n",
    "plt.show()"
   ]
  },
  {
   "cell_type": "code",
   "execution_count": 139,
   "metadata": {},
   "outputs": [
    {
     "data": {
      "image/png": "[encoded data removed]",
      "text/plain": [
       "<Figure size 640x480 with 1 Axes>"
      ]
     },
     "metadata": {},
     "output_type": "display_data"
    }
   ],
   "source": [
    "#seleccionamos las filas correspondientes a los países aptos con un 10 y las columnas 'Country' y 'cantidad de 1'\n",
    "df_aptos = df_mundo.loc[df_mundo['cantidad de 1'].isin([10]), ['Country', 'cantidad de 1']]\n",
    "\n",
    "#ordenamos los países por cantidad de 1\n",
    "df_aptos = df_aptos.sort_values('cantidad de 1', ascending=False)\n",
    "\n",
    "#creamos la gráfica de barras\n",
    "ax = df_aptos.plot.bar(x='Country', y='cantidad de 1', rot=90)\n",
    "ax.set_xlabel('País')\n",
    "ax.set_ylabel('')\n",
    "ax.set_title('Países con un 10')\n",
    "plt.show()"
   ]
  },
  {
   "cell_type": "markdown",
   "metadata": {},
   "source": [
    "Voy a pintar las gráficas de los países no aptos en función de su puntuación (menor de 6)."
   ]
  },
  {
   "cell_type": "code",
   "execution_count": 151,
   "metadata": {},
   "outputs": [
    {
     "data": {
      "image/png": "[encoded data removed]",
      "text/plain": [
       "<Figure size 640x480 with 1 Axes>"
      ]
     },
     "metadata": {},
     "output_type": "display_data"
    }
   ],
   "source": [
    "#filtramos los países con una cantidad de 1 igual a 3 o 2\n",
    "df_filtrado = df_mundo[(df_mundo['cantidad de 1'] == 3) | (df_mundo['cantidad de 1'] == 2)]\n",
    "\n",
    "#creamos la gráfica de barras\n",
    "ax = df_filtrado.plot.bar(x='Country', y='cantidad de 1', rot=90)\n",
    "ax.set_xlabel('País')\n",
    "ax.set_ylabel('')\n",
    "ax.set_title('Países con 3 ó menos')\n",
    "plt.show()\n"
   ]
  },
  {
   "cell_type": "code",
   "execution_count": 146,
   "metadata": {},
   "outputs": [
    {
     "data": {
      "image/png": "[encoded data removed]",
      "text/plain": [
       "<Figure size 640x480 with 1 Axes>"
      ]
     },
     "metadata": {},
     "output_type": "display_data"
    }
   ],
   "source": [
    "#seleccionamos las filas correspondientes a los países no aptos con un 4 y las columnas 'Country' y 'cantidad de 1'\n",
    "df_aptos = df_mundo.loc[df_mundo['cantidad de 1'].isin([4]), ['Country', 'cantidad de 1']]\n",
    "\n",
    "#ordenamos los países por cantidad de 1\n",
    "df_aptos = df_aptos.sort_values('cantidad de 1', ascending=False)\n",
    "\n",
    "#creamos la gráfica de barras\n",
    "ax = df_aptos.plot.bar(x='Country', y='cantidad de 1', rot=90)\n",
    "ax.set_xlabel('País')\n",
    "ax.set_ylabel('')\n",
    "ax.set_title('Países con un 4')\n",
    "plt.show()"
   ]
  },
  {
   "cell_type": "code",
   "execution_count": 147,
   "metadata": {},
   "outputs": [
    {
     "data": {
      "image/png": "[encoded data removed]",
      "text/plain": [
       "<Figure size 640x480 with 1 Axes>"
      ]
     },
     "metadata": {},
     "output_type": "display_data"
    }
   ],
   "source": [
    "#seleccionamos las filas correspondientes a los países no aptos con un 5 y las columnas 'Country' y 'cantidad de 1'\n",
    "df_aptos = df_mundo.loc[df_mundo['cantidad de 1'].isin([5]), ['Country', 'cantidad de 1']]\n",
    "\n",
    "#ordenamos los países por cantidad de 1\n",
    "df_aptos = df_aptos.sort_values('cantidad de 1', ascending=False)\n",
    "\n",
    "#creamos la gráfica de barras\n",
    "ax = df_aptos.plot.bar(x='Country', y='cantidad de 1', rot=90)\n",
    "ax.set_xlabel('País')\n",
    "ax.set_ylabel('')\n",
    "ax.set_title('Países con un 5')\n",
    "plt.show()"
   ]
  },
  {
   "cell_type": "markdown",
   "metadata": {},
   "source": [
    "***PARTE 5: CONCLUSIONES***\n",
    "***"
   ]
  },
  {
   "cell_type": "markdown",
   "metadata": {},
   "source": [
    "Recuperando el objetivo inicial del proyecto que era responder a la gran pregunta: ¿cuál es el mejor lugar para vivir? nos encontramos en la tesitura de que no existe un lugar ideal para vivir."
   ]
  },
  {
   "cell_type": "markdown",
   "metadata": {},
   "source": [
    "Las características de un país dependen de multitud de factores que es imposible reflejar solo con unos datos, además de que siempre nos encontramos con la subjetividad enorme de los ojos de quien lo mire. A fin de cuentas, ¿qué es lo que buscamos para estar o ser felices? En el mundo somos tantas y tantas personas, que es muy probable que cada una midamos las variables de forma muy diferente porque al final todo depende del prisma con el que se mire."
   ]
  },
  {
   "cell_type": "markdown",
   "metadata": {},
   "source": [
    "Quizá para una persona sea muy importante que un país tenga mucha vegetación y quizá para otra persona que busque estar en una gran urbe no le da tanta importancia a un factor como las emisiones de CO2. Quizá también nos encontremos con alguien que no quiera tener hijos y por ello le de igual la natalidad de un país o incluso, si nos fijamos en la desigualdad de riqueza en el mundo, no creo que una persona millonaria se fije mucho en la tasa de desempleo de un país al que este optando para vivir."
   ]
  },
  {
   "cell_type": "markdown",
   "metadata": {},
   "source": [
    "Sin embargo, como todo en la vida, este proyecto también tiene una parte de subjetividad: la mía. Considero que lugares con una tasa de desempleo baja, con amplias zonas forestales, con baja mortalidad, con un acceso a la educación factible, con una sanidad pública y suficiente y con una gran esperanza de vida, son factores fundamentales para vivir una vida plena, saludable y feliz. En base a ello, he descubierto que países como Alemania, Luxemburgo, Lituania, Israel y Rumanía cumplirían con esas expectativas. A pesar de ello, creo que no eligiría ninguno de esos países como mi lugar ideal para vivir y si, ni yo misma he averiguado mi lugar ideal, dudo que un planeta entero se pusiera de acuerdo para lograrlo."
   ]
  },
  {
   "cell_type": "markdown",
   "metadata": {},
   "source": [
    "Al fin y al cabo, solo somos un puntito más en medio de algo muy grande y al final, el lugar ideal no existe, solo nos pasamos la vida intentando encontrarlo."
   ]
  },
  {
   "attachments": {
    "image.png": {
     "image/png": "[encoded data removed]"
    }
   },
   "cell_type": "markdown",
   "metadata": {},
   "source": [
    "![image.png](attachment:image.png)"
   ]
  }
 ],
 "metadata": {
  "kernelspec": {
   "display_name": "Python 3",
   "language": "python",
   "name": "python3"
  },
  "language_info": {
   "codemirror_mode": {
    "name": "ipython",
    "version": 3
   },
   "file_extension": ".py",
   "mimetype": "text/x-python",
   "name": "python",
   "nbconvert_exporter": "python",
   "pygments_lexer": "ipython3",
   "version": "3.11.5"
  }
 },
 "nbformat": 4,
 "nbformat_minor": 2
}
