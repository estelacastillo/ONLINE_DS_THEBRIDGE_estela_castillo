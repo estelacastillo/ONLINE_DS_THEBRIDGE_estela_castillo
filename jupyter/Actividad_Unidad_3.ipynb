{
 "cells": [
  {
   "cell_type": "markdown",
   "id": "fcdd6966-94a7-4456-8e2e-a4625e57963e",
   "metadata": {},
   "source": [
    "**EJERCICIO 1**"
   ]
  },
  {
   "cell_type": "code",
   "execution_count": null,
   "id": "f515984d-bddc-425f-9e87-1354b6aeb5ce",
   "metadata": {},
   "outputs": [],
   "source": [
    "string = [\"VW\", \"Audi\", \"Renault\", \"VW\", \"BMW\"]\n",
    "character = \"W\"\n",
    "for x in range(len(character)):\n",
    "    string_2 = string.replace('W', ' ')\n",
    "print(\"Nueva lista eliminando la letra W: \", string_2)"
   ]
  },
  {
   "cell_type": "markdown",
   "id": "98318f94-681d-45c0-8e32-48f91b0a2ad0",
   "metadata": {},
   "source": [
    "**EJERCICIO 2**"
   ]
  },
  {
   "cell_type": "code",
   "execution_count": 13,
   "id": "ee872b62-a03e-4f2b-88d0-01ac08741b3c",
   "metadata": {},
   "outputs": [
    {
     "data": {
      "text/plain": [
       "[-10, -9, -8, -7, -6, -5, -4, -3, -2, -1, 0, 1, 2, 3, 4, 5, 6, 7, 8, 9, 10]"
      ]
     },
     "execution_count": 13,
     "metadata": {},
     "output_type": "execute_result"
    }
   ],
   "source": [
    "list(range(-10, 11))\n"
   ]
  },
  {
   "cell_type": "code",
   "execution_count": 14,
   "id": "9d1c3565-e1b7-475b-9df8-eb2181fcb25c",
   "metadata": {},
   "outputs": [
    {
     "name": "stdout",
     "output_type": "stream",
     "text": [
      "[10, 9, 8, 7, 6, 5, 4, 3, 2, 1, 0, -1, -2, -3, -4, -5, -6, -7, -8, -9, -10]\n"
     ]
    }
   ],
   "source": [
    "a = [-10, -9, -8, -7, -6, -5, -4, -3, -2, -1, 0, 1, 2, 3, 4, 5, 6, 7, 8, 9, 10]\n",
    "rev = list(reversed(a))\n",
    "print(rev)"
   ]
  },
  {
   "cell_type": "markdown",
   "id": "7ad9d00c-e7d3-4e26-8faf-60a7aead33e3",
   "metadata": {},
   "source": [
    "**EJERCICIO 3**"
   ]
  },
  {
   "cell_type": "code",
   "execution_count": 20,
   "id": "2eccf29a-df98-49f1-89bc-5d1f6705f9d5",
   "metadata": {},
   "outputs": [
    {
     "name": "stdout",
     "output_type": "stream",
     "text": [
      "La letra M se repite 1 veces\n",
      "La letra m se repite 2 veces\n"
     ]
    }
   ],
   "source": [
    "frase = \"En un lugar de La Mancha, de cuyo nombre no quiero acordarme\"\n",
    "mi_letra = \"M\"\n",
    "contador = 0\n",
    "for letra in frase:\n",
    "    if letra == mi_letra:\n",
    "        contador +=1\n",
    "print(\"La letra \" + mi_letra + \" se repite \" + str(contador) + \" veces\")\n",
    "\n",
    "mi_letra = \"m\"\n",
    "contador = 0\n",
    "for letra in frase:\n",
    "    if letra == mi_letra:\n",
    "        contador +=1\n",
    "print(\"La letra \" + mi_letra + \" se repite \" + str(contador) + \" veces\")"
   ]
  },
  {
   "cell_type": "markdown",
   "id": "620da84d-d035-4ba0-8dcf-08f9501b1302",
   "metadata": {},
   "source": [
    "**EJERCICIO 4**"
   ]
  },
  {
   "cell_type": "markdown",
   "id": "5a9d5bab-6d03-44e2-8f71-35e8b2f36e88",
   "metadata": {},
   "source": [
    "OPCION 1"
   ]
  },
  {
   "cell_type": "code",
   "execution_count": 36,
   "id": "282e91e8-2367-4bf4-bff8-15ca7009a3ce",
   "metadata": {},
   "outputs": [
    {
     "name": "stdout",
     "output_type": "stream",
     "text": [
      "[1, 2, 5, 6, 7, 8, 10]\n"
     ]
    }
   ],
   "source": [
    "list = [1, 2, 3, 4, 5, 6, 7, 8, 9, 10]\n",
    "list.remove(3)\n",
    "list.remove(4)\n",
    "list.remove(9)\n",
    "print(list)"
   ]
  },
  {
   "cell_type": "markdown",
   "id": "cb4aa3f0-8fc3-4013-bb23-7fe050a07d5b",
   "metadata": {},
   "source": [
    "OPCION 2"
   ]
  },
  {
   "cell_type": "code",
   "execution_count": 41,
   "id": "47142eec-84f2-4e6d-8f80-bf51df3597e0",
   "metadata": {},
   "outputs": [
    {
     "name": "stdout",
     "output_type": "stream",
     "text": [
      "1\n",
      "2\n",
      "5\n",
      "6\n",
      "7\n",
      "8\n",
      "10\n"
     ]
    }
   ],
   "source": [
    "list = [\"1\", \"2\", \"3\", \"4\", \"5\", \"6\", \"7\", \"8\", \"9\", \"10\"]\n",
    "print(list[0])\n",
    "print(list[1])\n",
    "print(list[4])\n",
    "print(list[5])\n",
    "print(list[6])\n",
    "print(list[7])\n",
    "print(list[9])"
   ]
  },
  {
   "cell_type": "code",
   "execution_count": null,
   "id": "75bd5491-a162-4613-861c-be70ca39adb6",
   "metadata": {},
   "outputs": [],
   "source": []
  }
 ],
 "metadata": {
  "kernelspec": {
   "display_name": "Python 3 (ipykernel)",
   "language": "python",
   "name": "python3"
  },
  "language_info": {
   "codemirror_mode": {
    "name": "ipython",
    "version": 3
   },
   "file_extension": ".py",
   "mimetype": "text/x-python",
   "name": "python",
   "nbconvert_exporter": "python",
   "pygments_lexer": "ipython3",
   "version": "3.11.5"
  }
 },
 "nbformat": 4,
 "nbformat_minor": 5
}
